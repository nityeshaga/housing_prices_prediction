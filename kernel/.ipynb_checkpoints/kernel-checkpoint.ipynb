{
 "cells": [
  {
   "cell_type": "markdown",
   "metadata": {
    "_cell_guid": "5fb63261-70c8-41f4-b0cc-c7be2a0ead5b",
    "_uuid": "5fd8ee3dd2d5c72f2f9969adfb5229bb31e6b204"
   },
   "source": [
    "[The detailed analysis](https://ww2.amstat.org/publications/jse/v19n3/decock.pdf) provided by the dataset author has helped in creating this kernel.  \n",
    "Also [here's a link](https://ww2.amstat.org/publications/jse/v19n3/decock/DataDocumentation.txt) to the detailed description of the dataset.\n",
    "\n",
    "These kernels were of great help to me:\n",
    "\n",
    "* https://www.kaggle.com/pmarcelino/comprehensive-data-exploration-with-python\n",
    "* https://www.kaggle.com/serigne/stacked-regressions-top-4-on-leaderboard \n",
    "* https://www.kaggle.com/apapiu/regularized-linear-models\n",
    "* https://www.kaggle.com/humananalog/xgboost-lasso\n",
    "* https://www.kaggle.com/poonaml/house-prices-data-exploration-and-visualisation\n",
    "\n",
    "I am new to data science. It would be really awesome if you could tell me the mistakes and how I could improve the kernel in the comments below."
   ]
  },
  {
   "cell_type": "markdown",
   "metadata": {
    "_uuid": "234fd40cf10a139dbb26deaa833f0a8155cd2bd7"
   },
   "source": [
    "Here's the approach that I take in this kernel:\n",
    "\n",
    "**1. Data Exploration -**\n",
    "    Here, I separate out the features as belonging to one of the 3 classes -\n",
    "    \n",
    "    * `num_cont_columns` for numerical continuous features\n",
    "    * `num_discrete_columns` for numerical discrete features\n",
    "    * `categ_columns` for categorical features\n",
    "       \n",
    "   I do this because there are different steps of preprocessing required for each of those features. By separating them, I am able to create a clean analysis of the data.\n",
    "\n",
    "**2. Preprocessing -**\n",
    "    As I said, I divide the preprocessing stage in 3 steps where I analyse-\n",
    "    \n",
    "     * Continuous valued numeric features\n",
    "     * Discrete valued numeric features\n",
    "     * And finally, the Categorical features\n",
    "        \n",
    "   In each of those steps, I do the missing values imputation and feature engineering as required.\n",
    "\n",
    "**3. Modelling -**\n",
    "\n",
    "   I will train the following regression models -\n",
    "    * Simple regression\n",
    "    * Ridge regression\n",
    "    * ElasticNet regression\n",
    "    * Lasso regression\n",
    "    \n",
    "   And the following ensemble models - \n",
    "    * Random Forest\n",
    "    * XGBoost\n",
    "    \n",
    "    Finally, I took the top 3 best performing models and stacked them up for the final submission model."
   ]
  },
  {
   "cell_type": "code",
   "execution_count": 1,
   "metadata": {
    "_cell_guid": "b1076dfc-b9ad-4769-8c92-a6c4dae69d19",
    "_kg_hide-input": true,
    "_kg_hide-output": false,
    "_uuid": "8f2839f25d086af736a60e9eeb907d3b93b6e0e5"
   },
   "outputs": [],
   "source": [
    "import pandas as pd\n",
    "import matplotlib.pyplot as plt\n",
    "import seaborn as sns\n",
    "import numpy as np\n",
    "from scipy.stats import norm\n",
    "from sklearn.preprocessing import LabelEncoder\n",
    "from sklearn.preprocessing import PolynomialFeatures\n",
    "from sklearn.feature_extraction import FeatureHasher\n",
    "from scipy import stats\n",
    "import warnings\n",
    "warnings.filterwarnings('ignore')\n",
    "%matplotlib inline"
   ]
  },
  {
   "cell_type": "code",
   "execution_count": 2,
   "metadata": {
    "_cell_guid": "79c7e3d0-c299-4dcb-8224-4455121ee9b0",
    "_kg_hide-input": true,
    "_kg_hide-output": false,
    "_uuid": "d629ff2d2480ee46fbb7e2d37f6b5fab8052498a"
   },
   "outputs": [],
   "source": [
    "df_train = pd.read_csv('../input/train.csv')\n",
    "df_test = pd.read_csv('../input/test.csv')\n",
    "\n",
    "train_id = df_train['Id']\n",
    "test_id = df_test['Id']\n",
    "\n",
    "df_train.drop(columns=['Id'], inplace=True)\n",
    "df_test.drop(columns=['Id'], inplace=True)\n",
    "\n",
    "ntrain = df_train.shape[0]\n",
    "ntest = df_test.shape[0]\n",
    "\n",
    "all_data = pd.concat((df_train, df_test)).reset_index(drop=True)"
   ]
  },
  {
   "cell_type": "code",
   "execution_count": 3,
   "metadata": {
    "_cell_guid": "bc4b6ce6-e561-45fe-a51f-a0bd789539a8",
    "_kg_hide-input": true,
    "_uuid": "cacd492b4a92e680360a3c5a34bc5bb1b9b82fde"
   },
   "outputs": [
    {
     "name": "stdout",
     "output_type": "stream",
     "text": [
      "(1459, 79) (1460, 80) (2919, 80)\n",
      "2919\n"
     ]
    }
   ],
   "source": [
    "print(df_test.shape, df_train.shape, all_data.shape)\n",
    "print(df_test.shape[0] + df_train.shape[0])"
   ]
  },
  {
   "cell_type": "markdown",
   "metadata": {
    "_cell_guid": "59580d12-7960-4d57-804c-9803fdb4bf92",
    "_uuid": "0076baa551fd9f05227e48073ac328e7442da4b3"
   },
   "source": [
    "# 1. Data exploration:"
   ]
  },
  {
   "cell_type": "code",
   "execution_count": 4,
   "metadata": {
    "_kg_hide-input": false,
    "_uuid": "805d2c45bc60863e07449d64057f0a3e37b3070d"
   },
   "outputs": [
    {
     "data": {
      "text/plain": [
       "Index(['MSSubClass', 'MSZoning', 'LotFrontage', 'LotArea', 'Street', 'Alley',\n",
       "       'LotShape', 'LandContour', 'Utilities', 'LotConfig', 'LandSlope',\n",
       "       'Neighborhood', 'Condition1', 'Condition2', 'BldgType', 'HouseStyle',\n",
       "       'OverallQual', 'OverallCond', 'YearBuilt', 'YearRemodAdd', 'RoofStyle',\n",
       "       'RoofMatl', 'Exterior1st', 'Exterior2nd', 'MasVnrType', 'MasVnrArea',\n",
       "       'ExterQual', 'ExterCond', 'Foundation', 'BsmtQual', 'BsmtCond',\n",
       "       'BsmtExposure', 'BsmtFinType1', 'BsmtFinSF1', 'BsmtFinType2',\n",
       "       'BsmtFinSF2', 'BsmtUnfSF', 'TotalBsmtSF', 'Heating', 'HeatingQC',\n",
       "       'CentralAir', 'Electrical', '1stFlrSF', '2ndFlrSF', 'LowQualFinSF',\n",
       "       'GrLivArea', 'BsmtFullBath', 'BsmtHalfBath', 'FullBath', 'HalfBath',\n",
       "       'BedroomAbvGr', 'KitchenAbvGr', 'KitchenQual', 'TotRmsAbvGrd',\n",
       "       'Functional', 'Fireplaces', 'FireplaceQu', 'GarageType', 'GarageYrBlt',\n",
       "       'GarageFinish', 'GarageCars', 'GarageArea', 'GarageQual', 'GarageCond',\n",
       "       'PavedDrive', 'WoodDeckSF', 'OpenPorchSF', 'EnclosedPorch', '3SsnPorch',\n",
       "       'ScreenPorch', 'PoolArea', 'PoolQC', 'Fence', 'MiscFeature', 'MiscVal',\n",
       "       'MoSold', 'YrSold', 'SaleType', 'SaleCondition', 'SalePrice'],\n",
       "      dtype='object')"
      ]
     },
     "execution_count": 4,
     "metadata": {},
     "output_type": "execute_result"
    }
   ],
   "source": [
    "# see the decoration\n",
    "df_train.columns"
   ]
  },
  {
   "cell_type": "code",
   "execution_count": 5,
   "metadata": {
    "_cell_guid": "218ac04f-6849-4f9b-bda1-ec2410a304bd",
    "_kg_hide-input": false,
    "_kg_hide-output": false,
    "_uuid": "89a0ac37672cdee15a878091ac9c32040b752a6d"
   },
   "outputs": [
    {
     "data": {
      "text/html": [
       "<div>\n",
       "<style scoped>\n",
       "    .dataframe tbody tr th:only-of-type {\n",
       "        vertical-align: middle;\n",
       "    }\n",
       "\n",
       "    .dataframe tbody tr th {\n",
       "        vertical-align: top;\n",
       "    }\n",
       "\n",
       "    .dataframe thead th {\n",
       "        text-align: right;\n",
       "    }\n",
       "</style>\n",
       "<table border=\"1\" class=\"dataframe\">\n",
       "  <thead>\n",
       "    <tr style=\"text-align: right;\">\n",
       "      <th></th>\n",
       "      <th>MSSubClass</th>\n",
       "      <th>MSZoning</th>\n",
       "      <th>LotFrontage</th>\n",
       "      <th>LotArea</th>\n",
       "      <th>Street</th>\n",
       "      <th>Alley</th>\n",
       "      <th>LotShape</th>\n",
       "      <th>LandContour</th>\n",
       "      <th>Utilities</th>\n",
       "      <th>LotConfig</th>\n",
       "      <th>LandSlope</th>\n",
       "      <th>Neighborhood</th>\n",
       "      <th>Condition1</th>\n",
       "      <th>Condition2</th>\n",
       "      <th>BldgType</th>\n",
       "      <th>HouseStyle</th>\n",
       "      <th>OverallQual</th>\n",
       "      <th>OverallCond</th>\n",
       "      <th>YearBuilt</th>\n",
       "      <th>YearRemodAdd</th>\n",
       "      <th>RoofStyle</th>\n",
       "      <th>RoofMatl</th>\n",
       "      <th>Exterior1st</th>\n",
       "      <th>Exterior2nd</th>\n",
       "      <th>MasVnrType</th>\n",
       "      <th>MasVnrArea</th>\n",
       "      <th>ExterQual</th>\n",
       "      <th>ExterCond</th>\n",
       "      <th>Foundation</th>\n",
       "      <th>BsmtQual</th>\n",
       "      <th>BsmtCond</th>\n",
       "      <th>BsmtExposure</th>\n",
       "      <th>BsmtFinType1</th>\n",
       "      <th>BsmtFinSF1</th>\n",
       "      <th>BsmtFinType2</th>\n",
       "      <th>BsmtFinSF2</th>\n",
       "      <th>BsmtUnfSF</th>\n",
       "      <th>TotalBsmtSF</th>\n",
       "      <th>Heating</th>\n",
       "      <th>HeatingQC</th>\n",
       "      <th>CentralAir</th>\n",
       "      <th>Electrical</th>\n",
       "      <th>1stFlrSF</th>\n",
       "      <th>2ndFlrSF</th>\n",
       "      <th>LowQualFinSF</th>\n",
       "      <th>GrLivArea</th>\n",
       "      <th>BsmtFullBath</th>\n",
       "      <th>BsmtHalfBath</th>\n",
       "      <th>FullBath</th>\n",
       "      <th>HalfBath</th>\n",
       "      <th>BedroomAbvGr</th>\n",
       "      <th>KitchenAbvGr</th>\n",
       "      <th>KitchenQual</th>\n",
       "      <th>TotRmsAbvGrd</th>\n",
       "      <th>Functional</th>\n",
       "      <th>Fireplaces</th>\n",
       "      <th>FireplaceQu</th>\n",
       "      <th>GarageType</th>\n",
       "      <th>GarageYrBlt</th>\n",
       "      <th>GarageFinish</th>\n",
       "      <th>GarageCars</th>\n",
       "      <th>GarageArea</th>\n",
       "      <th>GarageQual</th>\n",
       "      <th>GarageCond</th>\n",
       "      <th>PavedDrive</th>\n",
       "      <th>WoodDeckSF</th>\n",
       "      <th>OpenPorchSF</th>\n",
       "      <th>EnclosedPorch</th>\n",
       "      <th>3SsnPorch</th>\n",
       "      <th>ScreenPorch</th>\n",
       "      <th>PoolArea</th>\n",
       "      <th>PoolQC</th>\n",
       "      <th>Fence</th>\n",
       "      <th>MiscFeature</th>\n",
       "      <th>MiscVal</th>\n",
       "      <th>MoSold</th>\n",
       "      <th>YrSold</th>\n",
       "      <th>SaleType</th>\n",
       "      <th>SaleCondition</th>\n",
       "      <th>SalePrice</th>\n",
       "    </tr>\n",
       "  </thead>\n",
       "  <tbody>\n",
       "    <tr>\n",
       "      <th>0</th>\n",
       "      <td>60</td>\n",
       "      <td>RL</td>\n",
       "      <td>65.0</td>\n",
       "      <td>8450</td>\n",
       "      <td>Pave</td>\n",
       "      <td>NaN</td>\n",
       "      <td>Reg</td>\n",
       "      <td>Lvl</td>\n",
       "      <td>AllPub</td>\n",
       "      <td>Inside</td>\n",
       "      <td>Gtl</td>\n",
       "      <td>CollgCr</td>\n",
       "      <td>Norm</td>\n",
       "      <td>Norm</td>\n",
       "      <td>1Fam</td>\n",
       "      <td>2Story</td>\n",
       "      <td>7</td>\n",
       "      <td>5</td>\n",
       "      <td>2003</td>\n",
       "      <td>2003</td>\n",
       "      <td>Gable</td>\n",
       "      <td>CompShg</td>\n",
       "      <td>VinylSd</td>\n",
       "      <td>VinylSd</td>\n",
       "      <td>BrkFace</td>\n",
       "      <td>196.0</td>\n",
       "      <td>Gd</td>\n",
       "      <td>TA</td>\n",
       "      <td>PConc</td>\n",
       "      <td>Gd</td>\n",
       "      <td>TA</td>\n",
       "      <td>No</td>\n",
       "      <td>GLQ</td>\n",
       "      <td>706</td>\n",
       "      <td>Unf</td>\n",
       "      <td>0</td>\n",
       "      <td>150</td>\n",
       "      <td>856</td>\n",
       "      <td>GasA</td>\n",
       "      <td>Ex</td>\n",
       "      <td>Y</td>\n",
       "      <td>SBrkr</td>\n",
       "      <td>856</td>\n",
       "      <td>854</td>\n",
       "      <td>0</td>\n",
       "      <td>1710</td>\n",
       "      <td>1</td>\n",
       "      <td>0</td>\n",
       "      <td>2</td>\n",
       "      <td>1</td>\n",
       "      <td>3</td>\n",
       "      <td>1</td>\n",
       "      <td>Gd</td>\n",
       "      <td>8</td>\n",
       "      <td>Typ</td>\n",
       "      <td>0</td>\n",
       "      <td>NaN</td>\n",
       "      <td>Attchd</td>\n",
       "      <td>2003.0</td>\n",
       "      <td>RFn</td>\n",
       "      <td>2</td>\n",
       "      <td>548</td>\n",
       "      <td>TA</td>\n",
       "      <td>TA</td>\n",
       "      <td>Y</td>\n",
       "      <td>0</td>\n",
       "      <td>61</td>\n",
       "      <td>0</td>\n",
       "      <td>0</td>\n",
       "      <td>0</td>\n",
       "      <td>0</td>\n",
       "      <td>NaN</td>\n",
       "      <td>NaN</td>\n",
       "      <td>NaN</td>\n",
       "      <td>0</td>\n",
       "      <td>2</td>\n",
       "      <td>2008</td>\n",
       "      <td>WD</td>\n",
       "      <td>Normal</td>\n",
       "      <td>208500</td>\n",
       "    </tr>\n",
       "    <tr>\n",
       "      <th>1</th>\n",
       "      <td>20</td>\n",
       "      <td>RL</td>\n",
       "      <td>80.0</td>\n",
       "      <td>9600</td>\n",
       "      <td>Pave</td>\n",
       "      <td>NaN</td>\n",
       "      <td>Reg</td>\n",
       "      <td>Lvl</td>\n",
       "      <td>AllPub</td>\n",
       "      <td>FR2</td>\n",
       "      <td>Gtl</td>\n",
       "      <td>Veenker</td>\n",
       "      <td>Feedr</td>\n",
       "      <td>Norm</td>\n",
       "      <td>1Fam</td>\n",
       "      <td>1Story</td>\n",
       "      <td>6</td>\n",
       "      <td>8</td>\n",
       "      <td>1976</td>\n",
       "      <td>1976</td>\n",
       "      <td>Gable</td>\n",
       "      <td>CompShg</td>\n",
       "      <td>MetalSd</td>\n",
       "      <td>MetalSd</td>\n",
       "      <td>None</td>\n",
       "      <td>0.0</td>\n",
       "      <td>TA</td>\n",
       "      <td>TA</td>\n",
       "      <td>CBlock</td>\n",
       "      <td>Gd</td>\n",
       "      <td>TA</td>\n",
       "      <td>Gd</td>\n",
       "      <td>ALQ</td>\n",
       "      <td>978</td>\n",
       "      <td>Unf</td>\n",
       "      <td>0</td>\n",
       "      <td>284</td>\n",
       "      <td>1262</td>\n",
       "      <td>GasA</td>\n",
       "      <td>Ex</td>\n",
       "      <td>Y</td>\n",
       "      <td>SBrkr</td>\n",
       "      <td>1262</td>\n",
       "      <td>0</td>\n",
       "      <td>0</td>\n",
       "      <td>1262</td>\n",
       "      <td>0</td>\n",
       "      <td>1</td>\n",
       "      <td>2</td>\n",
       "      <td>0</td>\n",
       "      <td>3</td>\n",
       "      <td>1</td>\n",
       "      <td>TA</td>\n",
       "      <td>6</td>\n",
       "      <td>Typ</td>\n",
       "      <td>1</td>\n",
       "      <td>TA</td>\n",
       "      <td>Attchd</td>\n",
       "      <td>1976.0</td>\n",
       "      <td>RFn</td>\n",
       "      <td>2</td>\n",
       "      <td>460</td>\n",
       "      <td>TA</td>\n",
       "      <td>TA</td>\n",
       "      <td>Y</td>\n",
       "      <td>298</td>\n",
       "      <td>0</td>\n",
       "      <td>0</td>\n",
       "      <td>0</td>\n",
       "      <td>0</td>\n",
       "      <td>0</td>\n",
       "      <td>NaN</td>\n",
       "      <td>NaN</td>\n",
       "      <td>NaN</td>\n",
       "      <td>0</td>\n",
       "      <td>5</td>\n",
       "      <td>2007</td>\n",
       "      <td>WD</td>\n",
       "      <td>Normal</td>\n",
       "      <td>181500</td>\n",
       "    </tr>\n",
       "    <tr>\n",
       "      <th>2</th>\n",
       "      <td>60</td>\n",
       "      <td>RL</td>\n",
       "      <td>68.0</td>\n",
       "      <td>11250</td>\n",
       "      <td>Pave</td>\n",
       "      <td>NaN</td>\n",
       "      <td>IR1</td>\n",
       "      <td>Lvl</td>\n",
       "      <td>AllPub</td>\n",
       "      <td>Inside</td>\n",
       "      <td>Gtl</td>\n",
       "      <td>CollgCr</td>\n",
       "      <td>Norm</td>\n",
       "      <td>Norm</td>\n",
       "      <td>1Fam</td>\n",
       "      <td>2Story</td>\n",
       "      <td>7</td>\n",
       "      <td>5</td>\n",
       "      <td>2001</td>\n",
       "      <td>2002</td>\n",
       "      <td>Gable</td>\n",
       "      <td>CompShg</td>\n",
       "      <td>VinylSd</td>\n",
       "      <td>VinylSd</td>\n",
       "      <td>BrkFace</td>\n",
       "      <td>162.0</td>\n",
       "      <td>Gd</td>\n",
       "      <td>TA</td>\n",
       "      <td>PConc</td>\n",
       "      <td>Gd</td>\n",
       "      <td>TA</td>\n",
       "      <td>Mn</td>\n",
       "      <td>GLQ</td>\n",
       "      <td>486</td>\n",
       "      <td>Unf</td>\n",
       "      <td>0</td>\n",
       "      <td>434</td>\n",
       "      <td>920</td>\n",
       "      <td>GasA</td>\n",
       "      <td>Ex</td>\n",
       "      <td>Y</td>\n",
       "      <td>SBrkr</td>\n",
       "      <td>920</td>\n",
       "      <td>866</td>\n",
       "      <td>0</td>\n",
       "      <td>1786</td>\n",
       "      <td>1</td>\n",
       "      <td>0</td>\n",
       "      <td>2</td>\n",
       "      <td>1</td>\n",
       "      <td>3</td>\n",
       "      <td>1</td>\n",
       "      <td>Gd</td>\n",
       "      <td>6</td>\n",
       "      <td>Typ</td>\n",
       "      <td>1</td>\n",
       "      <td>TA</td>\n",
       "      <td>Attchd</td>\n",
       "      <td>2001.0</td>\n",
       "      <td>RFn</td>\n",
       "      <td>2</td>\n",
       "      <td>608</td>\n",
       "      <td>TA</td>\n",
       "      <td>TA</td>\n",
       "      <td>Y</td>\n",
       "      <td>0</td>\n",
       "      <td>42</td>\n",
       "      <td>0</td>\n",
       "      <td>0</td>\n",
       "      <td>0</td>\n",
       "      <td>0</td>\n",
       "      <td>NaN</td>\n",
       "      <td>NaN</td>\n",
       "      <td>NaN</td>\n",
       "      <td>0</td>\n",
       "      <td>9</td>\n",
       "      <td>2008</td>\n",
       "      <td>WD</td>\n",
       "      <td>Normal</td>\n",
       "      <td>223500</td>\n",
       "    </tr>\n",
       "    <tr>\n",
       "      <th>3</th>\n",
       "      <td>70</td>\n",
       "      <td>RL</td>\n",
       "      <td>60.0</td>\n",
       "      <td>9550</td>\n",
       "      <td>Pave</td>\n",
       "      <td>NaN</td>\n",
       "      <td>IR1</td>\n",
       "      <td>Lvl</td>\n",
       "      <td>AllPub</td>\n",
       "      <td>Corner</td>\n",
       "      <td>Gtl</td>\n",
       "      <td>Crawfor</td>\n",
       "      <td>Norm</td>\n",
       "      <td>Norm</td>\n",
       "      <td>1Fam</td>\n",
       "      <td>2Story</td>\n",
       "      <td>7</td>\n",
       "      <td>5</td>\n",
       "      <td>1915</td>\n",
       "      <td>1970</td>\n",
       "      <td>Gable</td>\n",
       "      <td>CompShg</td>\n",
       "      <td>Wd Sdng</td>\n",
       "      <td>Wd Shng</td>\n",
       "      <td>None</td>\n",
       "      <td>0.0</td>\n",
       "      <td>TA</td>\n",
       "      <td>TA</td>\n",
       "      <td>BrkTil</td>\n",
       "      <td>TA</td>\n",
       "      <td>Gd</td>\n",
       "      <td>No</td>\n",
       "      <td>ALQ</td>\n",
       "      <td>216</td>\n",
       "      <td>Unf</td>\n",
       "      <td>0</td>\n",
       "      <td>540</td>\n",
       "      <td>756</td>\n",
       "      <td>GasA</td>\n",
       "      <td>Gd</td>\n",
       "      <td>Y</td>\n",
       "      <td>SBrkr</td>\n",
       "      <td>961</td>\n",
       "      <td>756</td>\n",
       "      <td>0</td>\n",
       "      <td>1717</td>\n",
       "      <td>1</td>\n",
       "      <td>0</td>\n",
       "      <td>1</td>\n",
       "      <td>0</td>\n",
       "      <td>3</td>\n",
       "      <td>1</td>\n",
       "      <td>Gd</td>\n",
       "      <td>7</td>\n",
       "      <td>Typ</td>\n",
       "      <td>1</td>\n",
       "      <td>Gd</td>\n",
       "      <td>Detchd</td>\n",
       "      <td>1998.0</td>\n",
       "      <td>Unf</td>\n",
       "      <td>3</td>\n",
       "      <td>642</td>\n",
       "      <td>TA</td>\n",
       "      <td>TA</td>\n",
       "      <td>Y</td>\n",
       "      <td>0</td>\n",
       "      <td>35</td>\n",
       "      <td>272</td>\n",
       "      <td>0</td>\n",
       "      <td>0</td>\n",
       "      <td>0</td>\n",
       "      <td>NaN</td>\n",
       "      <td>NaN</td>\n",
       "      <td>NaN</td>\n",
       "      <td>0</td>\n",
       "      <td>2</td>\n",
       "      <td>2006</td>\n",
       "      <td>WD</td>\n",
       "      <td>Abnorml</td>\n",
       "      <td>140000</td>\n",
       "    </tr>\n",
       "    <tr>\n",
       "      <th>4</th>\n",
       "      <td>60</td>\n",
       "      <td>RL</td>\n",
       "      <td>84.0</td>\n",
       "      <td>14260</td>\n",
       "      <td>Pave</td>\n",
       "      <td>NaN</td>\n",
       "      <td>IR1</td>\n",
       "      <td>Lvl</td>\n",
       "      <td>AllPub</td>\n",
       "      <td>FR2</td>\n",
       "      <td>Gtl</td>\n",
       "      <td>NoRidge</td>\n",
       "      <td>Norm</td>\n",
       "      <td>Norm</td>\n",
       "      <td>1Fam</td>\n",
       "      <td>2Story</td>\n",
       "      <td>8</td>\n",
       "      <td>5</td>\n",
       "      <td>2000</td>\n",
       "      <td>2000</td>\n",
       "      <td>Gable</td>\n",
       "      <td>CompShg</td>\n",
       "      <td>VinylSd</td>\n",
       "      <td>VinylSd</td>\n",
       "      <td>BrkFace</td>\n",
       "      <td>350.0</td>\n",
       "      <td>Gd</td>\n",
       "      <td>TA</td>\n",
       "      <td>PConc</td>\n",
       "      <td>Gd</td>\n",
       "      <td>TA</td>\n",
       "      <td>Av</td>\n",
       "      <td>GLQ</td>\n",
       "      <td>655</td>\n",
       "      <td>Unf</td>\n",
       "      <td>0</td>\n",
       "      <td>490</td>\n",
       "      <td>1145</td>\n",
       "      <td>GasA</td>\n",
       "      <td>Ex</td>\n",
       "      <td>Y</td>\n",
       "      <td>SBrkr</td>\n",
       "      <td>1145</td>\n",
       "      <td>1053</td>\n",
       "      <td>0</td>\n",
       "      <td>2198</td>\n",
       "      <td>1</td>\n",
       "      <td>0</td>\n",
       "      <td>2</td>\n",
       "      <td>1</td>\n",
       "      <td>4</td>\n",
       "      <td>1</td>\n",
       "      <td>Gd</td>\n",
       "      <td>9</td>\n",
       "      <td>Typ</td>\n",
       "      <td>1</td>\n",
       "      <td>TA</td>\n",
       "      <td>Attchd</td>\n",
       "      <td>2000.0</td>\n",
       "      <td>RFn</td>\n",
       "      <td>3</td>\n",
       "      <td>836</td>\n",
       "      <td>TA</td>\n",
       "      <td>TA</td>\n",
       "      <td>Y</td>\n",
       "      <td>192</td>\n",
       "      <td>84</td>\n",
       "      <td>0</td>\n",
       "      <td>0</td>\n",
       "      <td>0</td>\n",
       "      <td>0</td>\n",
       "      <td>NaN</td>\n",
       "      <td>NaN</td>\n",
       "      <td>NaN</td>\n",
       "      <td>0</td>\n",
       "      <td>12</td>\n",
       "      <td>2008</td>\n",
       "      <td>WD</td>\n",
       "      <td>Normal</td>\n",
       "      <td>250000</td>\n",
       "    </tr>\n",
       "  </tbody>\n",
       "</table>\n",
       "</div>"
      ],
      "text/plain": [
       "   MSSubClass MSZoning  LotFrontage  LotArea Street Alley LotShape  \\\n",
       "0          60       RL         65.0     8450   Pave   NaN      Reg   \n",
       "1          20       RL         80.0     9600   Pave   NaN      Reg   \n",
       "2          60       RL         68.0    11250   Pave   NaN      IR1   \n",
       "3          70       RL         60.0     9550   Pave   NaN      IR1   \n",
       "4          60       RL         84.0    14260   Pave   NaN      IR1   \n",
       "\n",
       "  LandContour Utilities LotConfig LandSlope Neighborhood Condition1  \\\n",
       "0         Lvl    AllPub    Inside       Gtl      CollgCr       Norm   \n",
       "1         Lvl    AllPub       FR2       Gtl      Veenker      Feedr   \n",
       "2         Lvl    AllPub    Inside       Gtl      CollgCr       Norm   \n",
       "3         Lvl    AllPub    Corner       Gtl      Crawfor       Norm   \n",
       "4         Lvl    AllPub       FR2       Gtl      NoRidge       Norm   \n",
       "\n",
       "  Condition2 BldgType HouseStyle  OverallQual  OverallCond  YearBuilt  \\\n",
       "0       Norm     1Fam     2Story            7            5       2003   \n",
       "1       Norm     1Fam     1Story            6            8       1976   \n",
       "2       Norm     1Fam     2Story            7            5       2001   \n",
       "3       Norm     1Fam     2Story            7            5       1915   \n",
       "4       Norm     1Fam     2Story            8            5       2000   \n",
       "\n",
       "   YearRemodAdd RoofStyle RoofMatl Exterior1st Exterior2nd MasVnrType  \\\n",
       "0          2003     Gable  CompShg     VinylSd     VinylSd    BrkFace   \n",
       "1          1976     Gable  CompShg     MetalSd     MetalSd       None   \n",
       "2          2002     Gable  CompShg     VinylSd     VinylSd    BrkFace   \n",
       "3          1970     Gable  CompShg     Wd Sdng     Wd Shng       None   \n",
       "4          2000     Gable  CompShg     VinylSd     VinylSd    BrkFace   \n",
       "\n",
       "   MasVnrArea ExterQual ExterCond Foundation BsmtQual BsmtCond BsmtExposure  \\\n",
       "0       196.0        Gd        TA      PConc       Gd       TA           No   \n",
       "1         0.0        TA        TA     CBlock       Gd       TA           Gd   \n",
       "2       162.0        Gd        TA      PConc       Gd       TA           Mn   \n",
       "3         0.0        TA        TA     BrkTil       TA       Gd           No   \n",
       "4       350.0        Gd        TA      PConc       Gd       TA           Av   \n",
       "\n",
       "  BsmtFinType1  BsmtFinSF1 BsmtFinType2  BsmtFinSF2  BsmtUnfSF  TotalBsmtSF  \\\n",
       "0          GLQ         706          Unf           0        150          856   \n",
       "1          ALQ         978          Unf           0        284         1262   \n",
       "2          GLQ         486          Unf           0        434          920   \n",
       "3          ALQ         216          Unf           0        540          756   \n",
       "4          GLQ         655          Unf           0        490         1145   \n",
       "\n",
       "  Heating HeatingQC CentralAir Electrical  1stFlrSF  2ndFlrSF  LowQualFinSF  \\\n",
       "0    GasA        Ex          Y      SBrkr       856       854             0   \n",
       "1    GasA        Ex          Y      SBrkr      1262         0             0   \n",
       "2    GasA        Ex          Y      SBrkr       920       866             0   \n",
       "3    GasA        Gd          Y      SBrkr       961       756             0   \n",
       "4    GasA        Ex          Y      SBrkr      1145      1053             0   \n",
       "\n",
       "   GrLivArea  BsmtFullBath  BsmtHalfBath  FullBath  HalfBath  BedroomAbvGr  \\\n",
       "0       1710             1             0         2         1             3   \n",
       "1       1262             0             1         2         0             3   \n",
       "2       1786             1             0         2         1             3   \n",
       "3       1717             1             0         1         0             3   \n",
       "4       2198             1             0         2         1             4   \n",
       "\n",
       "   KitchenAbvGr KitchenQual  TotRmsAbvGrd Functional  Fireplaces FireplaceQu  \\\n",
       "0             1          Gd             8        Typ           0         NaN   \n",
       "1             1          TA             6        Typ           1          TA   \n",
       "2             1          Gd             6        Typ           1          TA   \n",
       "3             1          Gd             7        Typ           1          Gd   \n",
       "4             1          Gd             9        Typ           1          TA   \n",
       "\n",
       "  GarageType  GarageYrBlt GarageFinish  GarageCars  GarageArea GarageQual  \\\n",
       "0     Attchd       2003.0          RFn           2         548         TA   \n",
       "1     Attchd       1976.0          RFn           2         460         TA   \n",
       "2     Attchd       2001.0          RFn           2         608         TA   \n",
       "3     Detchd       1998.0          Unf           3         642         TA   \n",
       "4     Attchd       2000.0          RFn           3         836         TA   \n",
       "\n",
       "  GarageCond PavedDrive  WoodDeckSF  OpenPorchSF  EnclosedPorch  3SsnPorch  \\\n",
       "0         TA          Y           0           61              0          0   \n",
       "1         TA          Y         298            0              0          0   \n",
       "2         TA          Y           0           42              0          0   \n",
       "3         TA          Y           0           35            272          0   \n",
       "4         TA          Y         192           84              0          0   \n",
       "\n",
       "   ScreenPorch  PoolArea PoolQC Fence MiscFeature  MiscVal  MoSold  YrSold  \\\n",
       "0            0         0    NaN   NaN         NaN        0       2    2008   \n",
       "1            0         0    NaN   NaN         NaN        0       5    2007   \n",
       "2            0         0    NaN   NaN         NaN        0       9    2008   \n",
       "3            0         0    NaN   NaN         NaN        0       2    2006   \n",
       "4            0         0    NaN   NaN         NaN        0      12    2008   \n",
       "\n",
       "  SaleType SaleCondition  SalePrice  \n",
       "0       WD        Normal     208500  \n",
       "1       WD        Normal     181500  \n",
       "2       WD        Normal     223500  \n",
       "3       WD       Abnorml     140000  \n",
       "4       WD        Normal     250000  "
      ]
     },
     "execution_count": 5,
     "metadata": {},
     "output_type": "execute_result"
    }
   ],
   "source": [
    "# do this in order to view all the columns, otherwise pandas just shows a summary\n",
    "pd.set_option('display.max_columns', None) \n",
    "\n",
    "# Lets see what the data looks like\n",
    "df_train.head(5)"
   ]
  },
  {
   "cell_type": "code",
   "execution_count": 6,
   "metadata": {
    "_kg_hide-input": false,
    "_kg_hide-output": false,
    "_uuid": "8e1f29594871cb217d4a3f397b6e24797df4b2f0"
   },
   "outputs": [
    {
     "data": {
      "text/plain": [
       "count      1460.000000\n",
       "mean     180921.195890\n",
       "std       79442.502883\n",
       "min       34900.000000\n",
       "25%      129975.000000\n",
       "50%      163000.000000\n",
       "75%      214000.000000\n",
       "max      755000.000000\n",
       "Name: SalePrice, dtype: float64"
      ]
     },
     "execution_count": 6,
     "metadata": {},
     "output_type": "execute_result"
    }
   ],
   "source": [
    "df_train['SalePrice'].describe()"
   ]
  },
  {
   "cell_type": "markdown",
   "metadata": {
    "_cell_guid": "100c8cfb-1b24-43d0-b79b-10b312555364",
    "_uuid": "359675bd0f2a66559f16c7154334409dccbb8f03"
   },
   "source": [
    "There are a total of 80 unique features in the dataset.\n",
    "\n",
    "In the detailed description that the dataset, the author divided the features into 4 types:\n",
    "\n",
    "* Numerical:\n",
    "   3. Discrete (14)\n",
    "   4. Continuous (20)\n",
    "* Categorical:\n",
    "   1. Nominal (23)\n",
    "   2. Ordinal (23)\n",
    "\n",
    "Total no. of Categorical features = 23+23 = 46   \n",
    "Total no. of Numerical features = 14 + 20 = 34"
   ]
  },
  {
   "cell_type": "markdown",
   "metadata": {
    "_cell_guid": "8a0982b1-a59d-402b-86b0-fe79f9bce06a",
    "_uuid": "8844a4f28f1df84b12d9fa01fbbf7901cedc9c88"
   },
   "source": [
    "## 1.1. Separate the numerical and categorical features"
   ]
  },
  {
   "cell_type": "code",
   "execution_count": 7,
   "metadata": {
    "_cell_guid": "5452a5df-cebb-40c9-b057-bab0d0acad32",
    "_kg_hide-input": false,
    "_kg_hide-output": false,
    "_uuid": "ecce24be0abe9a2f23fd4ec56875a0740da7a11b"
   },
   "outputs": [
    {
     "name": "stdout",
     "output_type": "stream",
     "text": [
      "Index(['MSSubClass', 'LotFrontage', 'LotArea', 'OverallQual', 'OverallCond',\n",
      "       'YearBuilt', 'YearRemodAdd', 'MasVnrArea', 'BsmtFinSF1', 'BsmtFinSF2',\n",
      "       'BsmtUnfSF', 'TotalBsmtSF', '1stFlrSF', '2ndFlrSF', 'LowQualFinSF',\n",
      "       'GrLivArea', 'BsmtFullBath', 'BsmtHalfBath', 'FullBath', 'HalfBath',\n",
      "       'BedroomAbvGr', 'KitchenAbvGr', 'TotRmsAbvGrd', 'Fireplaces',\n",
      "       'GarageYrBlt', 'GarageCars', 'GarageArea', 'WoodDeckSF', 'OpenPorchSF',\n",
      "       'EnclosedPorch', '3SsnPorch', 'ScreenPorch', 'PoolArea', 'MiscVal',\n",
      "       'MoSold', 'YrSold', 'SalePrice'],\n",
      "      dtype='object')\n",
      "37\n",
      "Index(['LotConfig', 'Street', 'LotShape', 'Heating', 'BsmtFinType1',\n",
      "       'Foundation', 'FireplaceQu', 'ExterQual', 'SaleCondition', 'BldgType',\n",
      "       'MiscFeature', 'Neighborhood', 'BsmtCond', 'Exterior2nd', 'Functional',\n",
      "       'KitchenQual', 'Fence', 'LandContour', 'MSZoning', 'Exterior1st',\n",
      "       'GarageType', 'SaleType', 'HouseStyle', 'PavedDrive', 'RoofMatl',\n",
      "       'BsmtQual', 'GarageCond', 'Alley', 'Condition1', 'ExterCond',\n",
      "       'RoofStyle', 'BsmtFinType2', 'BsmtExposure', 'CentralAir', 'GarageQual',\n",
      "       'MasVnrType', 'Utilities', 'PoolQC', 'HeatingQC', 'GarageFinish',\n",
      "       'LandSlope', 'Condition2', 'Electrical'],\n",
      "      dtype='object')\n",
      "43\n"
     ]
    }
   ],
   "source": [
    "# Separate out all the numeric features in the data\n",
    "num_columns = df_train._get_numeric_data().columns\n",
    "print(num_columns)\n",
    "print(len(num_columns))\n",
    "\n",
    "# Separate out all the non-numeric features in the data\n",
    "categ_columns = pd.Index(list(set(df_train.columns) - set(num_columns)))\n",
    "print(categ_columns)\n",
    "print(len(categ_columns))"
   ]
  },
  {
   "cell_type": "markdown",
   "metadata": {
    "_cell_guid": "79afb297-fe7d-4aab-91d1-2ae598a84d5e",
    "_uuid": "0dc78474681f454a0f31f27f15f64e2397e6cc12"
   },
   "source": [
    "We notice that MSSubClass, OverallQual and OverallCond take numeric values but are actually categorical in nature."
   ]
  },
  {
   "cell_type": "code",
   "execution_count": 8,
   "metadata": {
    "_cell_guid": "76e17ba2-026c-4d2b-994c-faf80222ce1f",
    "_kg_hide-input": false,
    "_kg_hide-output": false,
    "_uuid": "8f15448b4b6bf61f2287c6871d42f3ed8112e7a5"
   },
   "outputs": [],
   "source": [
    "# moving features from num_columns to categ_columns\n",
    "categ_columns = categ_columns.append(pd.Index(['MSSubClass', 'OverallQual', 'OverallCond']))\n",
    "num_columns = num_columns.drop(['MSSubClass', 'OverallQual', 'OverallCond'])"
   ]
  },
  {
   "cell_type": "code",
   "execution_count": 9,
   "metadata": {
    "_uuid": "691a41889d9433001515d326aa94e960136e5afe"
   },
   "outputs": [
    {
     "name": "stdout",
     "output_type": "stream",
     "text": [
      "34 46\n"
     ]
    }
   ],
   "source": [
    "print(len(num_columns), len(categ_columns))"
   ]
  },
  {
   "cell_type": "markdown",
   "metadata": {
    "_cell_guid": "aabdd064-056a-47e0-954f-159d7857fa61",
    "_uuid": "e8938b7a03c5498a604785c29325185f22063ced"
   },
   "source": [
    "## 1.2. Numerical features - *up close*"
   ]
  },
  {
   "cell_type": "code",
   "execution_count": 10,
   "metadata": {
    "_cell_guid": "57d9a8c8-145e-4c7f-8680-0448423e8e59",
    "_kg_hide-input": true,
    "_kg_hide-output": false,
    "_uuid": "e7c3beacb6665e74e9b6a6acfe1de4106fc643bb"
   },
   "outputs": [
    {
     "data": {
      "text/html": [
       "<div>\n",
       "<style scoped>\n",
       "    .dataframe tbody tr th:only-of-type {\n",
       "        vertical-align: middle;\n",
       "    }\n",
       "\n",
       "    .dataframe tbody tr th {\n",
       "        vertical-align: top;\n",
       "    }\n",
       "\n",
       "    .dataframe thead th {\n",
       "        text-align: right;\n",
       "    }\n",
       "</style>\n",
       "<table border=\"1\" class=\"dataframe\">\n",
       "  <thead>\n",
       "    <tr style=\"text-align: right;\">\n",
       "      <th></th>\n",
       "      <th>LotFrontage</th>\n",
       "      <th>LotArea</th>\n",
       "      <th>YearBuilt</th>\n",
       "      <th>YearRemodAdd</th>\n",
       "      <th>MasVnrArea</th>\n",
       "      <th>BsmtFinSF1</th>\n",
       "      <th>BsmtFinSF2</th>\n",
       "      <th>BsmtUnfSF</th>\n",
       "      <th>TotalBsmtSF</th>\n",
       "      <th>1stFlrSF</th>\n",
       "      <th>2ndFlrSF</th>\n",
       "      <th>LowQualFinSF</th>\n",
       "      <th>GrLivArea</th>\n",
       "      <th>BsmtFullBath</th>\n",
       "      <th>BsmtHalfBath</th>\n",
       "      <th>FullBath</th>\n",
       "      <th>HalfBath</th>\n",
       "      <th>BedroomAbvGr</th>\n",
       "      <th>KitchenAbvGr</th>\n",
       "      <th>TotRmsAbvGrd</th>\n",
       "      <th>Fireplaces</th>\n",
       "      <th>GarageYrBlt</th>\n",
       "      <th>GarageCars</th>\n",
       "      <th>GarageArea</th>\n",
       "      <th>WoodDeckSF</th>\n",
       "      <th>OpenPorchSF</th>\n",
       "      <th>EnclosedPorch</th>\n",
       "      <th>3SsnPorch</th>\n",
       "      <th>ScreenPorch</th>\n",
       "      <th>PoolArea</th>\n",
       "      <th>MiscVal</th>\n",
       "      <th>MoSold</th>\n",
       "      <th>YrSold</th>\n",
       "      <th>SalePrice</th>\n",
       "    </tr>\n",
       "  </thead>\n",
       "  <tbody>\n",
       "    <tr>\n",
       "      <th>0</th>\n",
       "      <td>65.0</td>\n",
       "      <td>8450</td>\n",
       "      <td>2003</td>\n",
       "      <td>2003</td>\n",
       "      <td>196.0</td>\n",
       "      <td>706</td>\n",
       "      <td>0</td>\n",
       "      <td>150</td>\n",
       "      <td>856</td>\n",
       "      <td>856</td>\n",
       "      <td>854</td>\n",
       "      <td>0</td>\n",
       "      <td>1710</td>\n",
       "      <td>1</td>\n",
       "      <td>0</td>\n",
       "      <td>2</td>\n",
       "      <td>1</td>\n",
       "      <td>3</td>\n",
       "      <td>1</td>\n",
       "      <td>8</td>\n",
       "      <td>0</td>\n",
       "      <td>2003.0</td>\n",
       "      <td>2</td>\n",
       "      <td>548</td>\n",
       "      <td>0</td>\n",
       "      <td>61</td>\n",
       "      <td>0</td>\n",
       "      <td>0</td>\n",
       "      <td>0</td>\n",
       "      <td>0</td>\n",
       "      <td>0</td>\n",
       "      <td>2</td>\n",
       "      <td>2008</td>\n",
       "      <td>208500</td>\n",
       "    </tr>\n",
       "    <tr>\n",
       "      <th>1</th>\n",
       "      <td>80.0</td>\n",
       "      <td>9600</td>\n",
       "      <td>1976</td>\n",
       "      <td>1976</td>\n",
       "      <td>0.0</td>\n",
       "      <td>978</td>\n",
       "      <td>0</td>\n",
       "      <td>284</td>\n",
       "      <td>1262</td>\n",
       "      <td>1262</td>\n",
       "      <td>0</td>\n",
       "      <td>0</td>\n",
       "      <td>1262</td>\n",
       "      <td>0</td>\n",
       "      <td>1</td>\n",
       "      <td>2</td>\n",
       "      <td>0</td>\n",
       "      <td>3</td>\n",
       "      <td>1</td>\n",
       "      <td>6</td>\n",
       "      <td>1</td>\n",
       "      <td>1976.0</td>\n",
       "      <td>2</td>\n",
       "      <td>460</td>\n",
       "      <td>298</td>\n",
       "      <td>0</td>\n",
       "      <td>0</td>\n",
       "      <td>0</td>\n",
       "      <td>0</td>\n",
       "      <td>0</td>\n",
       "      <td>0</td>\n",
       "      <td>5</td>\n",
       "      <td>2007</td>\n",
       "      <td>181500</td>\n",
       "    </tr>\n",
       "    <tr>\n",
       "      <th>2</th>\n",
       "      <td>68.0</td>\n",
       "      <td>11250</td>\n",
       "      <td>2001</td>\n",
       "      <td>2002</td>\n",
       "      <td>162.0</td>\n",
       "      <td>486</td>\n",
       "      <td>0</td>\n",
       "      <td>434</td>\n",
       "      <td>920</td>\n",
       "      <td>920</td>\n",
       "      <td>866</td>\n",
       "      <td>0</td>\n",
       "      <td>1786</td>\n",
       "      <td>1</td>\n",
       "      <td>0</td>\n",
       "      <td>2</td>\n",
       "      <td>1</td>\n",
       "      <td>3</td>\n",
       "      <td>1</td>\n",
       "      <td>6</td>\n",
       "      <td>1</td>\n",
       "      <td>2001.0</td>\n",
       "      <td>2</td>\n",
       "      <td>608</td>\n",
       "      <td>0</td>\n",
       "      <td>42</td>\n",
       "      <td>0</td>\n",
       "      <td>0</td>\n",
       "      <td>0</td>\n",
       "      <td>0</td>\n",
       "      <td>0</td>\n",
       "      <td>9</td>\n",
       "      <td>2008</td>\n",
       "      <td>223500</td>\n",
       "    </tr>\n",
       "    <tr>\n",
       "      <th>3</th>\n",
       "      <td>60.0</td>\n",
       "      <td>9550</td>\n",
       "      <td>1915</td>\n",
       "      <td>1970</td>\n",
       "      <td>0.0</td>\n",
       "      <td>216</td>\n",
       "      <td>0</td>\n",
       "      <td>540</td>\n",
       "      <td>756</td>\n",
       "      <td>961</td>\n",
       "      <td>756</td>\n",
       "      <td>0</td>\n",
       "      <td>1717</td>\n",
       "      <td>1</td>\n",
       "      <td>0</td>\n",
       "      <td>1</td>\n",
       "      <td>0</td>\n",
       "      <td>3</td>\n",
       "      <td>1</td>\n",
       "      <td>7</td>\n",
       "      <td>1</td>\n",
       "      <td>1998.0</td>\n",
       "      <td>3</td>\n",
       "      <td>642</td>\n",
       "      <td>0</td>\n",
       "      <td>35</td>\n",
       "      <td>272</td>\n",
       "      <td>0</td>\n",
       "      <td>0</td>\n",
       "      <td>0</td>\n",
       "      <td>0</td>\n",
       "      <td>2</td>\n",
       "      <td>2006</td>\n",
       "      <td>140000</td>\n",
       "    </tr>\n",
       "    <tr>\n",
       "      <th>4</th>\n",
       "      <td>84.0</td>\n",
       "      <td>14260</td>\n",
       "      <td>2000</td>\n",
       "      <td>2000</td>\n",
       "      <td>350.0</td>\n",
       "      <td>655</td>\n",
       "      <td>0</td>\n",
       "      <td>490</td>\n",
       "      <td>1145</td>\n",
       "      <td>1145</td>\n",
       "      <td>1053</td>\n",
       "      <td>0</td>\n",
       "      <td>2198</td>\n",
       "      <td>1</td>\n",
       "      <td>0</td>\n",
       "      <td>2</td>\n",
       "      <td>1</td>\n",
       "      <td>4</td>\n",
       "      <td>1</td>\n",
       "      <td>9</td>\n",
       "      <td>1</td>\n",
       "      <td>2000.0</td>\n",
       "      <td>3</td>\n",
       "      <td>836</td>\n",
       "      <td>192</td>\n",
       "      <td>84</td>\n",
       "      <td>0</td>\n",
       "      <td>0</td>\n",
       "      <td>0</td>\n",
       "      <td>0</td>\n",
       "      <td>0</td>\n",
       "      <td>12</td>\n",
       "      <td>2008</td>\n",
       "      <td>250000</td>\n",
       "    </tr>\n",
       "  </tbody>\n",
       "</table>\n",
       "</div>"
      ],
      "text/plain": [
       "   LotFrontage  LotArea  YearBuilt  YearRemodAdd  MasVnrArea  BsmtFinSF1  \\\n",
       "0         65.0     8450       2003          2003       196.0         706   \n",
       "1         80.0     9600       1976          1976         0.0         978   \n",
       "2         68.0    11250       2001          2002       162.0         486   \n",
       "3         60.0     9550       1915          1970         0.0         216   \n",
       "4         84.0    14260       2000          2000       350.0         655   \n",
       "\n",
       "   BsmtFinSF2  BsmtUnfSF  TotalBsmtSF  1stFlrSF  2ndFlrSF  LowQualFinSF  \\\n",
       "0           0        150          856       856       854             0   \n",
       "1           0        284         1262      1262         0             0   \n",
       "2           0        434          920       920       866             0   \n",
       "3           0        540          756       961       756             0   \n",
       "4           0        490         1145      1145      1053             0   \n",
       "\n",
       "   GrLivArea  BsmtFullBath  BsmtHalfBath  FullBath  HalfBath  BedroomAbvGr  \\\n",
       "0       1710             1             0         2         1             3   \n",
       "1       1262             0             1         2         0             3   \n",
       "2       1786             1             0         2         1             3   \n",
       "3       1717             1             0         1         0             3   \n",
       "4       2198             1             0         2         1             4   \n",
       "\n",
       "   KitchenAbvGr  TotRmsAbvGrd  Fireplaces  GarageYrBlt  GarageCars  \\\n",
       "0             1             8           0       2003.0           2   \n",
       "1             1             6           1       1976.0           2   \n",
       "2             1             6           1       2001.0           2   \n",
       "3             1             7           1       1998.0           3   \n",
       "4             1             9           1       2000.0           3   \n",
       "\n",
       "   GarageArea  WoodDeckSF  OpenPorchSF  EnclosedPorch  3SsnPorch  ScreenPorch  \\\n",
       "0         548           0           61              0          0            0   \n",
       "1         460         298            0              0          0            0   \n",
       "2         608           0           42              0          0            0   \n",
       "3         642           0           35            272          0            0   \n",
       "4         836         192           84              0          0            0   \n",
       "\n",
       "   PoolArea  MiscVal  MoSold  YrSold  SalePrice  \n",
       "0         0        0       2    2008     208500  \n",
       "1         0        0       5    2007     181500  \n",
       "2         0        0       9    2008     223500  \n",
       "3         0        0       2    2006     140000  \n",
       "4         0        0      12    2008     250000  "
      ]
     },
     "execution_count": 10,
     "metadata": {},
     "output_type": "execute_result"
    }
   ],
   "source": [
    "df_train[num_columns].head(5)"
   ]
  },
  {
   "cell_type": "markdown",
   "metadata": {
    "_cell_guid": "f5df2d51-b6c3-4f20-9f9c-de9f9a45d150",
    "_uuid": "13be8253d88bf7050685518ef39bc0688a3effe5"
   },
   "source": [
    "### 1.2.1. Separating out the continuous and discrete features:"
   ]
  },
  {
   "cell_type": "markdown",
   "metadata": {
    "_uuid": "f3e152e2f5eae2106176b880c4e04b16ce972da9"
   },
   "source": [
    "Lets look at the number of unique values that each numeric feature takes"
   ]
  },
  {
   "cell_type": "code",
   "execution_count": 11,
   "metadata": {
    "_cell_guid": "f6255716-6126-44d0-aa98-de80c2416a66",
    "_kg_hide-input": true,
    "_kg_hide-output": true,
    "_uuid": "0723b6d05d38948602e0c000077f42936684e7a3"
   },
   "outputs": [],
   "source": [
    "def barplot_with_anotate(feature_list, y_values):\n",
    "    x_pos = np.arange(len(feature_list))\n",
    "\n",
    "    plt.bar(x_pos, y_values);\n",
    "    plt.xticks(x_pos, feature_list, rotation=270);\n",
    "    for i in range(len(feature_list)):\n",
    "        plt.text(x=x_pos[i]-0.3, y=y_values[i]+1.0, s=y_values[i])"
   ]
  },
  {
   "cell_type": "code",
   "execution_count": 12,
   "metadata": {
    "_uuid": "ceb4d9525aa2a1c016504070d2518e0036609201"
   },
   "outputs": [
    {
     "data": {
      "image/png": "[encoded data removed]",
      "text/plain": [
       "<Figure size 432x288 with 1 Axes>"
      ]
     },
     "metadata": {},
     "output_type": "display_data"
    }
   ],
   "source": [
    "feature_lengths_sorted = sorted([len(df_train[feature].unique()) for feature in num_columns])\n",
    "barplot_with_anotate(num_columns, feature_lengths_sorted)\n",
    "plt.rcParams[\"figure.figsize\"] = [20, 12]"
   ]
  },
  {
   "cell_type": "markdown",
   "metadata": {
    "_cell_guid": "1aa80754-938e-4220-9927-484bccbe4c40",
    "_uuid": "ac0173d0a079ad875ad1daffbd35c9bdfd42bc4b"
   },
   "source": [
    "After eyeballing the previous output, we can observe that all the features that take on less than 30 unique values throughout the dataset are discrete. Let's separate them out."
   ]
  },
  {
   "cell_type": "code",
   "execution_count": 13,
   "metadata": {
    "_cell_guid": "e638aed5-de68-4927-805f-ae9543962b39",
    "_kg_hide-input": false,
    "_kg_hide-output": true,
    "_uuid": "b9a868286ec2a7615a44f3ddfaf2ea5e68ad7fe6",
    "scrolled": true
   },
   "outputs": [],
   "source": [
    "num_discrete_columns = []\n",
    "\n",
    "for feature in num_columns:\n",
    "    feature_len = len(df_train[feature].unique())\n",
    "    if feature_len < 30:\n",
    "        num_discrete_columns.append(feature)\n",
    "num_discrete_columns = pd.Index(num_discrete_columns)\n",
    "num_cont_columns = pd.Index(list(set(num_columns) - set(num_discrete_columns)))"
   ]
  },
  {
   "cell_type": "code",
   "execution_count": 14,
   "metadata": {
    "_cell_guid": "906b4a77-6e3c-4b50-b2d3-cf44685a9959",
    "_kg_hide-input": false,
    "_kg_hide-output": false,
    "_uuid": "2b42b80160b1ed35b3989ec99b7b2ed3efee6a8e"
   },
   "outputs": [
    {
     "name": "stdout",
     "output_type": "stream",
     "text": [
      "LowQualFinSF 24\n",
      "[  0 360 513 234 528 572 144 392 371 390 420 473 156 515  80  53 232 481\n",
      " 120 514 397 479 205 384]\n",
      "BsmtFullBath 4\n",
      "[1 0 2 3]\n",
      "BsmtHalfBath 3\n",
      "[0 1 2]\n",
      "FullBath 4\n",
      "[2 1 3 0]\n",
      "HalfBath 3\n",
      "[1 0 2]\n",
      "BedroomAbvGr 8\n",
      "[3 4 1 2 0 5 6 8]\n",
      "KitchenAbvGr 4\n",
      "[1 2 3 0]\n",
      "TotRmsAbvGrd 12\n",
      "[ 8  6  7  9  5 11  4 10 12  3  2 14]\n",
      "Fireplaces 4\n",
      "[0 1 2 3]\n",
      "GarageCars 5\n",
      "[2 3 1 0 4]\n",
      "3SsnPorch 20\n",
      "[  0 320 407 130 180 168 140 508 238 245 196 144 182 162  23 216  96 153\n",
      " 290 304]\n",
      "PoolArea 8\n",
      "[  0 512 648 576 555 480 519 738]\n",
      "MiscVal 21\n",
      "[    0   700   350   500   400   480   450 15500  1200   800  2000   600\n",
      "  3500  1300    54   620   560  1400  8300  1150  2500]\n",
      "MoSold 12\n",
      "[ 2  5  9 12 10  8 11  4  1  7  3  6]\n",
      "YrSold 5\n",
      "[2008 2007 2006 2009 2010]\n"
     ]
    }
   ],
   "source": [
    "# print the details of those discrete valued features\n",
    "for feature in num_discrete_columns:\n",
    "    feature_len = len(df_train[feature].unique())\n",
    "    print(feature, feature_len)\n",
    "    print(df_train[feature].unique())"
   ]
  },
  {
   "cell_type": "code",
   "execution_count": 15,
   "metadata": {
    "_cell_guid": "a803516c-dc7b-4777-8860-9c64dd78a84f",
    "_kg_hide-input": false,
    "_kg_hide-output": true,
    "_uuid": "1d07ad16c90380555fea3477502421f677649972"
   },
   "outputs": [],
   "source": [
    "# The features LowQualFinSF, 3SsnPorch, PoolArea, MiscVal \n",
    "# belong to the list of continous features as they take on values from a continous distribution.\n",
    "num_cont_columns = num_cont_columns.append(pd.Index(['LowQualFinSF', '3SsnPorch', 'PoolArea', 'MiscVal']))\n",
    "num_discrete_columns = num_discrete_columns.drop(['LowQualFinSF', '3SsnPorch', 'PoolArea', 'MiscVal'])"
   ]
  },
  {
   "cell_type": "code",
   "execution_count": 16,
   "metadata": {
    "_kg_hide-input": false,
    "_kg_hide-output": false,
    "_uuid": "1a786236f8e5935807f2eddd90744a22c8fd97e5"
   },
   "outputs": [
    {
     "name": "stdout",
     "output_type": "stream",
     "text": [
      "LotArea 1073\n",
      "GrLivArea 861\n",
      "BsmtUnfSF 780\n",
      "1stFlrSF 753\n",
      "TotalBsmtSF 721\n",
      "SalePrice 663\n",
      "BsmtFinSF1 637\n",
      "GarageArea 441\n",
      "2ndFlrSF 417\n",
      "MasVnrArea 328\n",
      "WoodDeckSF 274\n",
      "OpenPorchSF 202\n",
      "BsmtFinSF2 144\n",
      "EnclosedPorch 120\n",
      "YearBuilt 112\n",
      "LotFrontage 111\n",
      "GarageYrBlt 98\n",
      "ScreenPorch 76\n",
      "YearRemodAdd 61\n",
      "LowQualFinSF 24\n",
      "MiscVal 21\n",
      "3SsnPorch 20\n",
      "PoolArea 8\n"
     ]
    }
   ],
   "source": [
    "# print the details of the continuous valued features\n",
    "for feature in sorted(num_cont_columns, key=lambda feature: len(df_train[feature].unique()), reverse=True):\n",
    "    feature_len = len(df_train[feature].unique())\n",
    "    print(feature, feature_len)"
   ]
  },
  {
   "cell_type": "code",
   "execution_count": 17,
   "metadata": {
    "_kg_hide-input": false,
    "_kg_hide-output": false,
    "_uuid": "c4b3c908cb3d85cf3ea20dd57ee3d4387b8f7734"
   },
   "outputs": [],
   "source": [
    "# The 3 year related features - YearBuilt, GarageYrBlt and YearRemodAdd belong to the list of discrete features.\n",
    "num_discrete_columns = num_discrete_columns.append(pd.Index(['YearBuilt', 'GarageYrBlt', 'YearRemodAdd']))\n",
    "num_cont_columns = num_cont_columns.drop(['YearBuilt', 'GarageYrBlt', 'YearRemodAdd'])"
   ]
  },
  {
   "cell_type": "markdown",
   "metadata": {
    "_cell_guid": "c22f46ef-8a34-4009-8a61-c079e32f954a",
    "_uuid": "589c68e5b567061eee19ed466eadb0152a9f32ad"
   },
   "source": [
    "## 1.3. Categorical features - *up close*:"
   ]
  },
  {
   "cell_type": "code",
   "execution_count": 18,
   "metadata": {
    "_cell_guid": "0501209d-7e8d-4d59-bb43-c8326f62faa7",
    "_kg_hide-input": true,
    "_kg_hide-output": false,
    "_uuid": "cc84614e14b5818ccee1f6446e008da1050d37f3"
   },
   "outputs": [
    {
     "data": {
      "text/html": [
       "<div>\n",
       "<style scoped>\n",
       "    .dataframe tbody tr th:only-of-type {\n",
       "        vertical-align: middle;\n",
       "    }\n",
       "\n",
       "    .dataframe tbody tr th {\n",
       "        vertical-align: top;\n",
       "    }\n",
       "\n",
       "    .dataframe thead th {\n",
       "        text-align: right;\n",
       "    }\n",
       "</style>\n",
       "<table border=\"1\" class=\"dataframe\">\n",
       "  <thead>\n",
       "    <tr style=\"text-align: right;\">\n",
       "      <th></th>\n",
       "      <th>LotConfig</th>\n",
       "      <th>Street</th>\n",
       "      <th>LotShape</th>\n",
       "      <th>Heating</th>\n",
       "      <th>BsmtFinType1</th>\n",
       "      <th>Foundation</th>\n",
       "      <th>FireplaceQu</th>\n",
       "      <th>ExterQual</th>\n",
       "      <th>SaleCondition</th>\n",
       "      <th>BldgType</th>\n",
       "      <th>MiscFeature</th>\n",
       "      <th>Neighborhood</th>\n",
       "      <th>BsmtCond</th>\n",
       "      <th>Exterior2nd</th>\n",
       "      <th>Functional</th>\n",
       "      <th>KitchenQual</th>\n",
       "      <th>Fence</th>\n",
       "      <th>LandContour</th>\n",
       "      <th>MSZoning</th>\n",
       "      <th>Exterior1st</th>\n",
       "      <th>GarageType</th>\n",
       "      <th>SaleType</th>\n",
       "      <th>HouseStyle</th>\n",
       "      <th>PavedDrive</th>\n",
       "      <th>RoofMatl</th>\n",
       "      <th>BsmtQual</th>\n",
       "      <th>GarageCond</th>\n",
       "      <th>Alley</th>\n",
       "      <th>Condition1</th>\n",
       "      <th>ExterCond</th>\n",
       "      <th>RoofStyle</th>\n",
       "      <th>BsmtFinType2</th>\n",
       "      <th>BsmtExposure</th>\n",
       "      <th>CentralAir</th>\n",
       "      <th>GarageQual</th>\n",
       "      <th>MasVnrType</th>\n",
       "      <th>Utilities</th>\n",
       "      <th>PoolQC</th>\n",
       "      <th>HeatingQC</th>\n",
       "      <th>GarageFinish</th>\n",
       "      <th>LandSlope</th>\n",
       "      <th>Condition2</th>\n",
       "      <th>Electrical</th>\n",
       "      <th>MSSubClass</th>\n",
       "      <th>OverallQual</th>\n",
       "      <th>OverallCond</th>\n",
       "    </tr>\n",
       "  </thead>\n",
       "  <tbody>\n",
       "    <tr>\n",
       "      <th>0</th>\n",
       "      <td>Inside</td>\n",
       "      <td>Pave</td>\n",
       "      <td>Reg</td>\n",
       "      <td>GasA</td>\n",
       "      <td>GLQ</td>\n",
       "      <td>PConc</td>\n",
       "      <td>NaN</td>\n",
       "      <td>Gd</td>\n",
       "      <td>Normal</td>\n",
       "      <td>1Fam</td>\n",
       "      <td>NaN</td>\n",
       "      <td>CollgCr</td>\n",
       "      <td>TA</td>\n",
       "      <td>VinylSd</td>\n",
       "      <td>Typ</td>\n",
       "      <td>Gd</td>\n",
       "      <td>NaN</td>\n",
       "      <td>Lvl</td>\n",
       "      <td>RL</td>\n",
       "      <td>VinylSd</td>\n",
       "      <td>Attchd</td>\n",
       "      <td>WD</td>\n",
       "      <td>2Story</td>\n",
       "      <td>Y</td>\n",
       "      <td>CompShg</td>\n",
       "      <td>Gd</td>\n",
       "      <td>TA</td>\n",
       "      <td>NaN</td>\n",
       "      <td>Norm</td>\n",
       "      <td>TA</td>\n",
       "      <td>Gable</td>\n",
       "      <td>Unf</td>\n",
       "      <td>No</td>\n",
       "      <td>Y</td>\n",
       "      <td>TA</td>\n",
       "      <td>BrkFace</td>\n",
       "      <td>AllPub</td>\n",
       "      <td>NaN</td>\n",
       "      <td>Ex</td>\n",
       "      <td>RFn</td>\n",
       "      <td>Gtl</td>\n",
       "      <td>Norm</td>\n",
       "      <td>SBrkr</td>\n",
       "      <td>60</td>\n",
       "      <td>7</td>\n",
       "      <td>5</td>\n",
       "    </tr>\n",
       "    <tr>\n",
       "      <th>1</th>\n",
       "      <td>FR2</td>\n",
       "      <td>Pave</td>\n",
       "      <td>Reg</td>\n",
       "      <td>GasA</td>\n",
       "      <td>ALQ</td>\n",
       "      <td>CBlock</td>\n",
       "      <td>TA</td>\n",
       "      <td>TA</td>\n",
       "      <td>Normal</td>\n",
       "      <td>1Fam</td>\n",
       "      <td>NaN</td>\n",
       "      <td>Veenker</td>\n",
       "      <td>TA</td>\n",
       "      <td>MetalSd</td>\n",
       "      <td>Typ</td>\n",
       "      <td>TA</td>\n",
       "      <td>NaN</td>\n",
       "      <td>Lvl</td>\n",
       "      <td>RL</td>\n",
       "      <td>MetalSd</td>\n",
       "      <td>Attchd</td>\n",
       "      <td>WD</td>\n",
       "      <td>1Story</td>\n",
       "      <td>Y</td>\n",
       "      <td>CompShg</td>\n",
       "      <td>Gd</td>\n",
       "      <td>TA</td>\n",
       "      <td>NaN</td>\n",
       "      <td>Feedr</td>\n",
       "      <td>TA</td>\n",
       "      <td>Gable</td>\n",
       "      <td>Unf</td>\n",
       "      <td>Gd</td>\n",
       "      <td>Y</td>\n",
       "      <td>TA</td>\n",
       "      <td>None</td>\n",
       "      <td>AllPub</td>\n",
       "      <td>NaN</td>\n",
       "      <td>Ex</td>\n",
       "      <td>RFn</td>\n",
       "      <td>Gtl</td>\n",
       "      <td>Norm</td>\n",
       "      <td>SBrkr</td>\n",
       "      <td>20</td>\n",
       "      <td>6</td>\n",
       "      <td>8</td>\n",
       "    </tr>\n",
       "    <tr>\n",
       "      <th>2</th>\n",
       "      <td>Inside</td>\n",
       "      <td>Pave</td>\n",
       "      <td>IR1</td>\n",
       "      <td>GasA</td>\n",
       "      <td>GLQ</td>\n",
       "      <td>PConc</td>\n",
       "      <td>TA</td>\n",
       "      <td>Gd</td>\n",
       "      <td>Normal</td>\n",
       "      <td>1Fam</td>\n",
       "      <td>NaN</td>\n",
       "      <td>CollgCr</td>\n",
       "      <td>TA</td>\n",
       "      <td>VinylSd</td>\n",
       "      <td>Typ</td>\n",
       "      <td>Gd</td>\n",
       "      <td>NaN</td>\n",
       "      <td>Lvl</td>\n",
       "      <td>RL</td>\n",
       "      <td>VinylSd</td>\n",
       "      <td>Attchd</td>\n",
       "      <td>WD</td>\n",
       "      <td>2Story</td>\n",
       "      <td>Y</td>\n",
       "      <td>CompShg</td>\n",
       "      <td>Gd</td>\n",
       "      <td>TA</td>\n",
       "      <td>NaN</td>\n",
       "      <td>Norm</td>\n",
       "      <td>TA</td>\n",
       "      <td>Gable</td>\n",
       "      <td>Unf</td>\n",
       "      <td>Mn</td>\n",
       "      <td>Y</td>\n",
       "      <td>TA</td>\n",
       "      <td>BrkFace</td>\n",
       "      <td>AllPub</td>\n",
       "      <td>NaN</td>\n",
       "      <td>Ex</td>\n",
       "      <td>RFn</td>\n",
       "      <td>Gtl</td>\n",
       "      <td>Norm</td>\n",
       "      <td>SBrkr</td>\n",
       "      <td>60</td>\n",
       "      <td>7</td>\n",
       "      <td>5</td>\n",
       "    </tr>\n",
       "    <tr>\n",
       "      <th>3</th>\n",
       "      <td>Corner</td>\n",
       "      <td>Pave</td>\n",
       "      <td>IR1</td>\n",
       "      <td>GasA</td>\n",
       "      <td>ALQ</td>\n",
       "      <td>BrkTil</td>\n",
       "      <td>Gd</td>\n",
       "      <td>TA</td>\n",
       "      <td>Abnorml</td>\n",
       "      <td>1Fam</td>\n",
       "      <td>NaN</td>\n",
       "      <td>Crawfor</td>\n",
       "      <td>Gd</td>\n",
       "      <td>Wd Shng</td>\n",
       "      <td>Typ</td>\n",
       "      <td>Gd</td>\n",
       "      <td>NaN</td>\n",
       "      <td>Lvl</td>\n",
       "      <td>RL</td>\n",
       "      <td>Wd Sdng</td>\n",
       "      <td>Detchd</td>\n",
       "      <td>WD</td>\n",
       "      <td>2Story</td>\n",
       "      <td>Y</td>\n",
       "      <td>CompShg</td>\n",
       "      <td>TA</td>\n",
       "      <td>TA</td>\n",
       "      <td>NaN</td>\n",
       "      <td>Norm</td>\n",
       "      <td>TA</td>\n",
       "      <td>Gable</td>\n",
       "      <td>Unf</td>\n",
       "      <td>No</td>\n",
       "      <td>Y</td>\n",
       "      <td>TA</td>\n",
       "      <td>None</td>\n",
       "      <td>AllPub</td>\n",
       "      <td>NaN</td>\n",
       "      <td>Gd</td>\n",
       "      <td>Unf</td>\n",
       "      <td>Gtl</td>\n",
       "      <td>Norm</td>\n",
       "      <td>SBrkr</td>\n",
       "      <td>70</td>\n",
       "      <td>7</td>\n",
       "      <td>5</td>\n",
       "    </tr>\n",
       "    <tr>\n",
       "      <th>4</th>\n",
       "      <td>FR2</td>\n",
       "      <td>Pave</td>\n",
       "      <td>IR1</td>\n",
       "      <td>GasA</td>\n",
       "      <td>GLQ</td>\n",
       "      <td>PConc</td>\n",
       "      <td>TA</td>\n",
       "      <td>Gd</td>\n",
       "      <td>Normal</td>\n",
       "      <td>1Fam</td>\n",
       "      <td>NaN</td>\n",
       "      <td>NoRidge</td>\n",
       "      <td>TA</td>\n",
       "      <td>VinylSd</td>\n",
       "      <td>Typ</td>\n",
       "      <td>Gd</td>\n",
       "      <td>NaN</td>\n",
       "      <td>Lvl</td>\n",
       "      <td>RL</td>\n",
       "      <td>VinylSd</td>\n",
       "      <td>Attchd</td>\n",
       "      <td>WD</td>\n",
       "      <td>2Story</td>\n",
       "      <td>Y</td>\n",
       "      <td>CompShg</td>\n",
       "      <td>Gd</td>\n",
       "      <td>TA</td>\n",
       "      <td>NaN</td>\n",
       "      <td>Norm</td>\n",
       "      <td>TA</td>\n",
       "      <td>Gable</td>\n",
       "      <td>Unf</td>\n",
       "      <td>Av</td>\n",
       "      <td>Y</td>\n",
       "      <td>TA</td>\n",
       "      <td>BrkFace</td>\n",
       "      <td>AllPub</td>\n",
       "      <td>NaN</td>\n",
       "      <td>Ex</td>\n",
       "      <td>RFn</td>\n",
       "      <td>Gtl</td>\n",
       "      <td>Norm</td>\n",
       "      <td>SBrkr</td>\n",
       "      <td>60</td>\n",
       "      <td>8</td>\n",
       "      <td>5</td>\n",
       "    </tr>\n",
       "  </tbody>\n",
       "</table>\n",
       "</div>"
      ],
      "text/plain": [
       "  LotConfig Street LotShape Heating BsmtFinType1 Foundation FireplaceQu  \\\n",
       "0    Inside   Pave      Reg    GasA          GLQ      PConc         NaN   \n",
       "1       FR2   Pave      Reg    GasA          ALQ     CBlock          TA   \n",
       "2    Inside   Pave      IR1    GasA          GLQ      PConc          TA   \n",
       "3    Corner   Pave      IR1    GasA          ALQ     BrkTil          Gd   \n",
       "4       FR2   Pave      IR1    GasA          GLQ      PConc          TA   \n",
       "\n",
       "  ExterQual SaleCondition BldgType MiscFeature Neighborhood BsmtCond  \\\n",
       "0        Gd        Normal     1Fam         NaN      CollgCr       TA   \n",
       "1        TA        Normal     1Fam         NaN      Veenker       TA   \n",
       "2        Gd        Normal     1Fam         NaN      CollgCr       TA   \n",
       "3        TA       Abnorml     1Fam         NaN      Crawfor       Gd   \n",
       "4        Gd        Normal     1Fam         NaN      NoRidge       TA   \n",
       "\n",
       "  Exterior2nd Functional KitchenQual Fence LandContour MSZoning Exterior1st  \\\n",
       "0     VinylSd        Typ          Gd   NaN         Lvl       RL     VinylSd   \n",
       "1     MetalSd        Typ          TA   NaN         Lvl       RL     MetalSd   \n",
       "2     VinylSd        Typ          Gd   NaN         Lvl       RL     VinylSd   \n",
       "3     Wd Shng        Typ          Gd   NaN         Lvl       RL     Wd Sdng   \n",
       "4     VinylSd        Typ          Gd   NaN         Lvl       RL     VinylSd   \n",
       "\n",
       "  GarageType SaleType HouseStyle PavedDrive RoofMatl BsmtQual GarageCond  \\\n",
       "0     Attchd       WD     2Story          Y  CompShg       Gd         TA   \n",
       "1     Attchd       WD     1Story          Y  CompShg       Gd         TA   \n",
       "2     Attchd       WD     2Story          Y  CompShg       Gd         TA   \n",
       "3     Detchd       WD     2Story          Y  CompShg       TA         TA   \n",
       "4     Attchd       WD     2Story          Y  CompShg       Gd         TA   \n",
       "\n",
       "  Alley Condition1 ExterCond RoofStyle BsmtFinType2 BsmtExposure CentralAir  \\\n",
       "0   NaN       Norm        TA     Gable          Unf           No          Y   \n",
       "1   NaN      Feedr        TA     Gable          Unf           Gd          Y   \n",
       "2   NaN       Norm        TA     Gable          Unf           Mn          Y   \n",
       "3   NaN       Norm        TA     Gable          Unf           No          Y   \n",
       "4   NaN       Norm        TA     Gable          Unf           Av          Y   \n",
       "\n",
       "  GarageQual MasVnrType Utilities PoolQC HeatingQC GarageFinish LandSlope  \\\n",
       "0         TA    BrkFace    AllPub    NaN        Ex          RFn       Gtl   \n",
       "1         TA       None    AllPub    NaN        Ex          RFn       Gtl   \n",
       "2         TA    BrkFace    AllPub    NaN        Ex          RFn       Gtl   \n",
       "3         TA       None    AllPub    NaN        Gd          Unf       Gtl   \n",
       "4         TA    BrkFace    AllPub    NaN        Ex          RFn       Gtl   \n",
       "\n",
       "  Condition2 Electrical  MSSubClass  OverallQual  OverallCond  \n",
       "0       Norm      SBrkr          60            7            5  \n",
       "1       Norm      SBrkr          20            6            8  \n",
       "2       Norm      SBrkr          60            7            5  \n",
       "3       Norm      SBrkr          70            7            5  \n",
       "4       Norm      SBrkr          60            8            5  "
      ]
     },
     "execution_count": 18,
     "metadata": {},
     "output_type": "execute_result"
    }
   ],
   "source": [
    "df_train[categ_columns].head(5)"
   ]
  },
  {
   "cell_type": "code",
   "execution_count": 19,
   "metadata": {
    "_cell_guid": "4d50837f-ad53-4e93-b063-1e4d1f9f5110",
    "_kg_hide-input": true,
    "_kg_hide-output": false,
    "_uuid": "7f188e25b7b8e13efd4d9d0140937a1732d1768c"
   },
   "outputs": [
    {
     "name": "stdout",
     "output_type": "stream",
     "text": [
      "Neighborhood 25\n",
      "['CollgCr' 'Veenker' 'Crawfor' 'NoRidge' 'Mitchel' 'Somerst' 'NWAmes'\n",
      " 'OldTown' 'BrkSide' 'Sawyer' 'NridgHt' 'NAmes' 'SawyerW' 'IDOTRR'\n",
      " 'MeadowV' 'Edwards' 'Timber' 'Gilbert' 'StoneBr' 'ClearCr' 'NPkVill'\n",
      " 'Blmngtn' 'BrDale' 'SWISU' 'Blueste']\n",
      "Exterior2nd 16\n",
      "['VinylSd' 'MetalSd' 'Wd Shng' 'HdBoard' 'Plywood' 'Wd Sdng' 'CmentBd'\n",
      " 'BrkFace' 'Stucco' 'AsbShng' 'Brk Cmn' 'ImStucc' 'AsphShn' 'Stone'\n",
      " 'Other' 'CBlock']\n",
      "Exterior1st 15\n",
      "['VinylSd' 'MetalSd' 'Wd Sdng' 'HdBoard' 'BrkFace' 'WdShing' 'CemntBd'\n",
      " 'Plywood' 'AsbShng' 'Stucco' 'BrkComm' 'AsphShn' 'Stone' 'ImStucc'\n",
      " 'CBlock']\n",
      "MSSubClass 15\n",
      "[ 60  20  70  50 190  45  90 120  30  85  80 160  75 180  40]\n",
      "OverallQual 10\n",
      "[ 7  6  8  5  9  4 10  3  1  2]\n",
      "SaleType 9\n",
      "['WD' 'New' 'COD' 'ConLD' 'ConLI' 'CWD' 'ConLw' 'Con' 'Oth']\n",
      "Condition1 9\n",
      "['Norm' 'Feedr' 'PosN' 'Artery' 'RRAe' 'RRNn' 'RRAn' 'PosA' 'RRNe']\n",
      "OverallCond 9\n",
      "[5 8 6 7 4 2 3 9 1]\n",
      "HouseStyle 8\n",
      "['2Story' '1Story' '1.5Fin' '1.5Unf' 'SFoyer' 'SLvl' '2.5Unf' '2.5Fin']\n",
      "RoofMatl 8\n",
      "['CompShg' 'WdShngl' 'Metal' 'WdShake' 'Membran' 'Tar&Grv' 'Roll'\n",
      " 'ClyTile']\n",
      "Condition2 8\n",
      "['Norm' 'Artery' 'RRNn' 'Feedr' 'PosN' 'PosA' 'RRAn' 'RRAe']\n",
      "BsmtFinType1 7\n",
      "['GLQ' 'ALQ' 'Unf' 'Rec' 'BLQ' nan 'LwQ']\n",
      "Functional 7\n",
      "['Typ' 'Min1' 'Maj1' 'Min2' 'Mod' 'Maj2' 'Sev']\n",
      "GarageType 7\n",
      "['Attchd' 'Detchd' 'BuiltIn' 'CarPort' nan 'Basment' '2Types']\n",
      "BsmtFinType2 7\n",
      "['Unf' 'BLQ' nan 'ALQ' 'Rec' 'LwQ' 'GLQ']\n",
      "Heating 6\n",
      "['GasA' 'GasW' 'Grav' 'Wall' 'OthW' 'Floor']\n",
      "Foundation 6\n",
      "['PConc' 'CBlock' 'BrkTil' 'Wood' 'Slab' 'Stone']\n",
      "FireplaceQu 6\n",
      "[nan 'TA' 'Gd' 'Fa' 'Ex' 'Po']\n",
      "SaleCondition 6\n",
      "['Normal' 'Abnorml' 'Partial' 'AdjLand' 'Alloca' 'Family']\n",
      "GarageCond 6\n",
      "['TA' 'Fa' nan 'Gd' 'Po' 'Ex']\n",
      "RoofStyle 6\n",
      "['Gable' 'Hip' 'Gambrel' 'Mansard' 'Flat' 'Shed']\n",
      "GarageQual 6\n",
      "['TA' 'Fa' 'Gd' nan 'Ex' 'Po']\n",
      "Electrical 6\n",
      "['SBrkr' 'FuseF' 'FuseA' 'FuseP' 'Mix' nan]\n",
      "LotConfig 5\n",
      "['Inside' 'FR2' 'Corner' 'CulDSac' 'FR3']\n",
      "BldgType 5\n",
      "['1Fam' '2fmCon' 'Duplex' 'TwnhsE' 'Twnhs']\n",
      "MiscFeature 5\n",
      "[nan 'Shed' 'Gar2' 'Othr' 'TenC']\n",
      "BsmtCond 5\n",
      "['TA' 'Gd' nan 'Fa' 'Po']\n",
      "Fence 5\n",
      "[nan 'MnPrv' 'GdWo' 'GdPrv' 'MnWw']\n",
      "MSZoning 5\n",
      "['RL' 'RM' 'C (all)' 'FV' 'RH']\n",
      "BsmtQual 5\n",
      "['Gd' 'TA' 'Ex' nan 'Fa']\n",
      "ExterCond 5\n",
      "['TA' 'Gd' 'Fa' 'Po' 'Ex']\n",
      "BsmtExposure 5\n",
      "['No' 'Gd' 'Mn' 'Av' nan]\n",
      "MasVnrType 5\n",
      "['BrkFace' 'None' 'Stone' 'BrkCmn' nan]\n",
      "HeatingQC 5\n",
      "['Ex' 'Gd' 'TA' 'Fa' 'Po']\n",
      "LotShape 4\n",
      "['Reg' 'IR1' 'IR2' 'IR3']\n",
      "ExterQual 4\n",
      "['Gd' 'TA' 'Ex' 'Fa']\n",
      "KitchenQual 4\n",
      "['Gd' 'TA' 'Ex' 'Fa']\n",
      "LandContour 4\n",
      "['Lvl' 'Bnk' 'Low' 'HLS']\n",
      "PoolQC 4\n",
      "[nan 'Ex' 'Fa' 'Gd']\n",
      "GarageFinish 4\n",
      "['RFn' 'Unf' 'Fin' nan]\n",
      "PavedDrive 3\n",
      "['Y' 'N' 'P']\n",
      "Alley 3\n",
      "[nan 'Grvl' 'Pave']\n",
      "LandSlope 3\n",
      "['Gtl' 'Mod' 'Sev']\n",
      "Street 2\n",
      "['Pave' 'Grvl']\n",
      "CentralAir 2\n",
      "['Y' 'N']\n",
      "Utilities 2\n",
      "['AllPub' 'NoSeWa']\n"
     ]
    }
   ],
   "source": [
    "# lets look at what the categorical features represent\n",
    "for feature in sorted(categ_columns, key=lambda feature: len(df_train[feature].unique()), reverse=True):\n",
    "    feature_len = len(df_train[feature].unique())\n",
    "    print(feature, feature_len)\n",
    "    print(df_train[feature].unique())"
   ]
  },
  {
   "cell_type": "code",
   "execution_count": 20,
   "metadata": {
    "_cell_guid": "29ba860c-eeae-453c-b24a-caa62b2e4212",
    "_kg_hide-input": false,
    "_kg_hide-output": false,
    "_uuid": "ea6e9c78bbd93c58444864eddd60ab991f09029b"
   },
   "outputs": [],
   "source": [
    "# remove duplicate columns\n",
    "num_cont_columns = num_cont_columns.drop_duplicates()\n",
    "num_discrete_columns = num_discrete_columns.drop_duplicates()\n",
    "categ_columns = categ_columns.drop_duplicates()"
   ]
  },
  {
   "cell_type": "markdown",
   "metadata": {
    "_cell_guid": "7acc0e36-c4a5-4b3d-8f8b-301e79e0f13d",
    "_uuid": "d194e9783362a202ae97ce94d4e93f7239acb3d3"
   },
   "source": [
    "## 1.4. Summary:"
   ]
  },
  {
   "cell_type": "code",
   "execution_count": 21,
   "metadata": {
    "_cell_guid": "48b019a4-0dbd-4b20-88a6-e52fcfb529b4",
    "_kg_hide-input": true,
    "_kg_hide-output": false,
    "_uuid": "5cdd26f5e96875e3e8d98e5b7780b87062c52360"
   },
   "outputs": [
    {
     "name": "stdout",
     "output_type": "stream",
     "text": [
      "Categorical columns:  46\n",
      "Continuous-valued numeric columns:  20\n",
      "Discrete-valued numeric columns:  14\n",
      "----------\n",
      "Total columns:  80\n"
     ]
    }
   ],
   "source": [
    "print(\"Categorical columns: \", len(categ_columns))\n",
    "print(\"Continuous-valued numeric columns: \", len(num_cont_columns))\n",
    "print(\"Discrete-valued numeric columns: \", len(num_discrete_columns))\n",
    "print(\"-\"*10)\n",
    "print(\"Total columns: \", df_train.shape[1])"
   ]
  },
  {
   "cell_type": "markdown",
   "metadata": {
    "_cell_guid": "13c8eaf1-8737-4fa0-8eb0-c331813134ec",
    "_uuid": "56e77bae81d6c2f621f4d3ea0eb3ce680defbe9d"
   },
   "source": [
    "# 2. Preprocessing:\n",
    "We handle the separate kinds of features in this order:  \n",
    "* First, the continuous valued numeric features\n",
    "* Second, discrete valued numeric features\n",
    "* Third, categorical features, i.e, both nominal and ordinal features together\n",
    "\n",
    "But first, the author of the dataset recommends that we drop the data points with GrLivArea > 4000 as these are outliers. "
   ]
  },
  {
   "cell_type": "code",
   "execution_count": 22,
   "metadata": {
    "_cell_guid": "98b21bc4-1c88-47e9-ab6e-a87f9c852ddb",
    "_kg_hide-input": true,
    "_kg_hide-output": true,
    "_uuid": "4eb52983026b3cfd5980fab9e1987a84bf29f08c"
   },
   "outputs": [],
   "source": [
    "df_train.drop(df_train[df_train[\"GrLivArea\"] > 4000].index, inplace=True)\n",
    "df_train.shape\n",
    "\n",
    "ntrain = df_train.shape[0]\n",
    "ntest = df_test.shape[0]\n",
    "\n",
    "all_data = pd.concat((df_train, df_test)).reset_index(drop=True)"
   ]
  },
  {
   "cell_type": "markdown",
   "metadata": {
    "_cell_guid": "8fb6d686-dd11-48db-8f85-4754316d41cd",
    "_uuid": "e50e701679306c98a5e7c64a131fd7df8701a2da"
   },
   "source": [
    "## 2.1. Continuous valued numeric features:"
   ]
  },
  {
   "cell_type": "code",
   "execution_count": 23,
   "metadata": {
    "_cell_guid": "872ee0df-7a74-44dc-b917-59593d0f648e",
    "_kg_hide-input": true,
    "_kg_hide-output": false,
    "_uuid": "b4001b795de12793613195d9dd70c4185e7472d0"
   },
   "outputs": [
    {
     "data": {
      "text/html": [
       "<div>\n",
       "<style scoped>\n",
       "    .dataframe tbody tr th:only-of-type {\n",
       "        vertical-align: middle;\n",
       "    }\n",
       "\n",
       "    .dataframe tbody tr th {\n",
       "        vertical-align: top;\n",
       "    }\n",
       "\n",
       "    .dataframe thead th {\n",
       "        text-align: right;\n",
       "    }\n",
       "</style>\n",
       "<table border=\"1\" class=\"dataframe\">\n",
       "  <thead>\n",
       "    <tr style=\"text-align: right;\">\n",
       "      <th></th>\n",
       "      <th>OpenPorchSF</th>\n",
       "      <th>GarageArea</th>\n",
       "      <th>LotArea</th>\n",
       "      <th>TotalBsmtSF</th>\n",
       "      <th>BsmtUnfSF</th>\n",
       "      <th>LotFrontage</th>\n",
       "      <th>1stFlrSF</th>\n",
       "      <th>GrLivArea</th>\n",
       "      <th>BsmtFinSF2</th>\n",
       "      <th>EnclosedPorch</th>\n",
       "      <th>MasVnrArea</th>\n",
       "      <th>BsmtFinSF1</th>\n",
       "      <th>SalePrice</th>\n",
       "      <th>ScreenPorch</th>\n",
       "      <th>WoodDeckSF</th>\n",
       "      <th>2ndFlrSF</th>\n",
       "      <th>LowQualFinSF</th>\n",
       "      <th>3SsnPorch</th>\n",
       "      <th>PoolArea</th>\n",
       "      <th>MiscVal</th>\n",
       "    </tr>\n",
       "  </thead>\n",
       "  <tbody>\n",
       "    <tr>\n",
       "      <th>count</th>\n",
       "      <td>1456.000000</td>\n",
       "      <td>1456.000000</td>\n",
       "      <td>1456.000000</td>\n",
       "      <td>1456.000000</td>\n",
       "      <td>1456.000000</td>\n",
       "      <td>1197.000000</td>\n",
       "      <td>1456.000000</td>\n",
       "      <td>1456.000000</td>\n",
       "      <td>1456.000000</td>\n",
       "      <td>1456.000000</td>\n",
       "      <td>1448.000000</td>\n",
       "      <td>1456.000000</td>\n",
       "      <td>1456.000000</td>\n",
       "      <td>1456.000000</td>\n",
       "      <td>1456.000000</td>\n",
       "      <td>1456.000000</td>\n",
       "      <td>1456.000000</td>\n",
       "      <td>1456.000000</td>\n",
       "      <td>1456.000000</td>\n",
       "      <td>1456.000000</td>\n",
       "    </tr>\n",
       "    <tr>\n",
       "      <th>mean</th>\n",
       "      <td>46.221154</td>\n",
       "      <td>471.568681</td>\n",
       "      <td>10448.784341</td>\n",
       "      <td>1050.658654</td>\n",
       "      <td>566.990385</td>\n",
       "      <td>69.693400</td>\n",
       "      <td>1157.108516</td>\n",
       "      <td>1506.502060</td>\n",
       "      <td>46.677198</td>\n",
       "      <td>22.014423</td>\n",
       "      <td>102.087707</td>\n",
       "      <td>436.991071</td>\n",
       "      <td>180151.233516</td>\n",
       "      <td>15.102335</td>\n",
       "      <td>93.833791</td>\n",
       "      <td>343.532967</td>\n",
       "      <td>5.860577</td>\n",
       "      <td>3.418956</td>\n",
       "      <td>2.055632</td>\n",
       "      <td>43.608516</td>\n",
       "    </tr>\n",
       "    <tr>\n",
       "      <th>std</th>\n",
       "      <td>65.352424</td>\n",
       "      <td>211.986421</td>\n",
       "      <td>9860.763449</td>\n",
       "      <td>412.155715</td>\n",
       "      <td>442.197182</td>\n",
       "      <td>23.054474</td>\n",
       "      <td>369.307331</td>\n",
       "      <td>496.815378</td>\n",
       "      <td>161.522376</td>\n",
       "      <td>61.192248</td>\n",
       "      <td>177.338930</td>\n",
       "      <td>430.255052</td>\n",
       "      <td>76696.592530</td>\n",
       "      <td>55.828405</td>\n",
       "      <td>125.192349</td>\n",
       "      <td>431.528915</td>\n",
       "      <td>48.688904</td>\n",
       "      <td>29.357056</td>\n",
       "      <td>35.383772</td>\n",
       "      <td>496.799265</td>\n",
       "    </tr>\n",
       "    <tr>\n",
       "      <th>min</th>\n",
       "      <td>0.000000</td>\n",
       "      <td>0.000000</td>\n",
       "      <td>1300.000000</td>\n",
       "      <td>0.000000</td>\n",
       "      <td>0.000000</td>\n",
       "      <td>21.000000</td>\n",
       "      <td>334.000000</td>\n",
       "      <td>334.000000</td>\n",
       "      <td>0.000000</td>\n",
       "      <td>0.000000</td>\n",
       "      <td>0.000000</td>\n",
       "      <td>0.000000</td>\n",
       "      <td>34900.000000</td>\n",
       "      <td>0.000000</td>\n",
       "      <td>0.000000</td>\n",
       "      <td>0.000000</td>\n",
       "      <td>0.000000</td>\n",
       "      <td>0.000000</td>\n",
       "      <td>0.000000</td>\n",
       "      <td>0.000000</td>\n",
       "    </tr>\n",
       "    <tr>\n",
       "      <th>25%</th>\n",
       "      <td>0.000000</td>\n",
       "      <td>329.500000</td>\n",
       "      <td>7538.750000</td>\n",
       "      <td>795.000000</td>\n",
       "      <td>222.500000</td>\n",
       "      <td>59.000000</td>\n",
       "      <td>882.000000</td>\n",
       "      <td>1128.000000</td>\n",
       "      <td>0.000000</td>\n",
       "      <td>0.000000</td>\n",
       "      <td>0.000000</td>\n",
       "      <td>0.000000</td>\n",
       "      <td>129900.000000</td>\n",
       "      <td>0.000000</td>\n",
       "      <td>0.000000</td>\n",
       "      <td>0.000000</td>\n",
       "      <td>0.000000</td>\n",
       "      <td>0.000000</td>\n",
       "      <td>0.000000</td>\n",
       "      <td>0.000000</td>\n",
       "    </tr>\n",
       "    <tr>\n",
       "      <th>50%</th>\n",
       "      <td>24.000000</td>\n",
       "      <td>478.500000</td>\n",
       "      <td>9468.500000</td>\n",
       "      <td>990.500000</td>\n",
       "      <td>477.500000</td>\n",
       "      <td>69.000000</td>\n",
       "      <td>1086.000000</td>\n",
       "      <td>1458.500000</td>\n",
       "      <td>0.000000</td>\n",
       "      <td>0.000000</td>\n",
       "      <td>0.000000</td>\n",
       "      <td>381.000000</td>\n",
       "      <td>163000.000000</td>\n",
       "      <td>0.000000</td>\n",
       "      <td>0.000000</td>\n",
       "      <td>0.000000</td>\n",
       "      <td>0.000000</td>\n",
       "      <td>0.000000</td>\n",
       "      <td>0.000000</td>\n",
       "      <td>0.000000</td>\n",
       "    </tr>\n",
       "    <tr>\n",
       "      <th>75%</th>\n",
       "      <td>68.000000</td>\n",
       "      <td>576.000000</td>\n",
       "      <td>11588.000000</td>\n",
       "      <td>1293.750000</td>\n",
       "      <td>808.000000</td>\n",
       "      <td>80.000000</td>\n",
       "      <td>1389.250000</td>\n",
       "      <td>1775.250000</td>\n",
       "      <td>0.000000</td>\n",
       "      <td>0.000000</td>\n",
       "      <td>164.250000</td>\n",
       "      <td>706.500000</td>\n",
       "      <td>214000.000000</td>\n",
       "      <td>0.000000</td>\n",
       "      <td>168.000000</td>\n",
       "      <td>728.000000</td>\n",
       "      <td>0.000000</td>\n",
       "      <td>0.000000</td>\n",
       "      <td>0.000000</td>\n",
       "      <td>0.000000</td>\n",
       "    </tr>\n",
       "    <tr>\n",
       "      <th>max</th>\n",
       "      <td>547.000000</td>\n",
       "      <td>1390.000000</td>\n",
       "      <td>215245.000000</td>\n",
       "      <td>3206.000000</td>\n",
       "      <td>2336.000000</td>\n",
       "      <td>313.000000</td>\n",
       "      <td>3228.000000</td>\n",
       "      <td>3627.000000</td>\n",
       "      <td>1474.000000</td>\n",
       "      <td>552.000000</td>\n",
       "      <td>1600.000000</td>\n",
       "      <td>2188.000000</td>\n",
       "      <td>625000.000000</td>\n",
       "      <td>480.000000</td>\n",
       "      <td>857.000000</td>\n",
       "      <td>1818.000000</td>\n",
       "      <td>572.000000</td>\n",
       "      <td>508.000000</td>\n",
       "      <td>738.000000</td>\n",
       "      <td>15500.000000</td>\n",
       "    </tr>\n",
       "  </tbody>\n",
       "</table>\n",
       "</div>"
      ],
      "text/plain": [
       "       OpenPorchSF   GarageArea        LotArea  TotalBsmtSF    BsmtUnfSF  \\\n",
       "count  1456.000000  1456.000000    1456.000000  1456.000000  1456.000000   \n",
       "mean     46.221154   471.568681   10448.784341  1050.658654   566.990385   \n",
       "std      65.352424   211.986421    9860.763449   412.155715   442.197182   \n",
       "min       0.000000     0.000000    1300.000000     0.000000     0.000000   \n",
       "25%       0.000000   329.500000    7538.750000   795.000000   222.500000   \n",
       "50%      24.000000   478.500000    9468.500000   990.500000   477.500000   \n",
       "75%      68.000000   576.000000   11588.000000  1293.750000   808.000000   \n",
       "max     547.000000  1390.000000  215245.000000  3206.000000  2336.000000   \n",
       "\n",
       "       LotFrontage     1stFlrSF    GrLivArea   BsmtFinSF2  EnclosedPorch  \\\n",
       "count  1197.000000  1456.000000  1456.000000  1456.000000    1456.000000   \n",
       "mean     69.693400  1157.108516  1506.502060    46.677198      22.014423   \n",
       "std      23.054474   369.307331   496.815378   161.522376      61.192248   \n",
       "min      21.000000   334.000000   334.000000     0.000000       0.000000   \n",
       "25%      59.000000   882.000000  1128.000000     0.000000       0.000000   \n",
       "50%      69.000000  1086.000000  1458.500000     0.000000       0.000000   \n",
       "75%      80.000000  1389.250000  1775.250000     0.000000       0.000000   \n",
       "max     313.000000  3228.000000  3627.000000  1474.000000     552.000000   \n",
       "\n",
       "        MasVnrArea   BsmtFinSF1      SalePrice  ScreenPorch   WoodDeckSF  \\\n",
       "count  1448.000000  1456.000000    1456.000000  1456.000000  1456.000000   \n",
       "mean    102.087707   436.991071  180151.233516    15.102335    93.833791   \n",
       "std     177.338930   430.255052   76696.592530    55.828405   125.192349   \n",
       "min       0.000000     0.000000   34900.000000     0.000000     0.000000   \n",
       "25%       0.000000     0.000000  129900.000000     0.000000     0.000000   \n",
       "50%       0.000000   381.000000  163000.000000     0.000000     0.000000   \n",
       "75%     164.250000   706.500000  214000.000000     0.000000   168.000000   \n",
       "max    1600.000000  2188.000000  625000.000000   480.000000   857.000000   \n",
       "\n",
       "          2ndFlrSF  LowQualFinSF    3SsnPorch     PoolArea       MiscVal  \n",
       "count  1456.000000   1456.000000  1456.000000  1456.000000   1456.000000  \n",
       "mean    343.532967      5.860577     3.418956     2.055632     43.608516  \n",
       "std     431.528915     48.688904    29.357056    35.383772    496.799265  \n",
       "min       0.000000      0.000000     0.000000     0.000000      0.000000  \n",
       "25%       0.000000      0.000000     0.000000     0.000000      0.000000  \n",
       "50%       0.000000      0.000000     0.000000     0.000000      0.000000  \n",
       "75%     728.000000      0.000000     0.000000     0.000000      0.000000  \n",
       "max    1818.000000    572.000000   508.000000   738.000000  15500.000000  "
      ]
     },
     "execution_count": 23,
     "metadata": {},
     "output_type": "execute_result"
    }
   ],
   "source": [
    "df_train[num_cont_columns].describe()"
   ]
  },
  {
   "cell_type": "markdown",
   "metadata": {
    "_uuid": "b8d709c2cbd10c52bc40a45a7fa8b25b7eece311"
   },
   "source": [
    "### Fill in the missing values:"
   ]
  },
  {
   "cell_type": "code",
   "execution_count": 24,
   "metadata": {
    "_kg_hide-input": false,
    "_kg_hide-output": true,
    "_uuid": "8f63c14f54e8776452f8bea9efa8a1b5b6941c61"
   },
   "outputs": [],
   "source": [
    "def missing_features(data, column_set):\n",
    "    incomplete_features = {feature: data.shape[0]-sum(data[feature].value_counts())\n",
    "                                   for feature in column_set\n",
    "                                   if not sum(data[feature].value_counts()) == data.shape[0]}\n",
    "    incomplete_features_sorted = sorted(incomplete_features, key=lambda feature: incomplete_features[feature], reverse=True)\n",
    "    incompleteness = [round((incomplete_features[feature]/data.shape[0])*100, 2) for feature in incomplete_features_sorted]\n",
    "    barplot_with_anotate(incomplete_features_sorted, incompleteness)\n",
    "    plt.ylabel(\"Percentage (%) of values that are missing\")\n",
    "    plt.rcParams[\"figure.figsize\"] = [16, 8]\n",
    "    \n",
    "    for feature, percentage in zip(incomplete_features_sorted, incompleteness):\n",
    "        print(feature, incomplete_features[feature], \"(\", percentage, \")\")"
   ]
  },
  {
   "cell_type": "code",
   "execution_count": 25,
   "metadata": {
    "_kg_hide-input": false,
    "_kg_hide-output": false,
    "_uuid": "cce0658e461340ccf26e0979416e3b934d700ae9"
   },
   "outputs": [
    {
     "name": "stdout",
     "output_type": "stream",
     "text": [
      "SalePrice 1459 ( 50.05 )\n",
      "LotFrontage 486 ( 16.67 )\n",
      "MasVnrArea 23 ( 0.79 )\n",
      "GarageArea 1 ( 0.03 )\n",
      "TotalBsmtSF 1 ( 0.03 )\n",
      "BsmtUnfSF 1 ( 0.03 )\n",
      "BsmtFinSF2 1 ( 0.03 )\n",
      "BsmtFinSF1 1 ( 0.03 )\n"
     ]
    },
    {
     "data": {
      "image/png": "[encoded data removed]",
      "text/plain": [
       "<Figure size 1440x864 with 1 Axes>"
      ]
     },
     "metadata": {},
     "output_type": "display_data"
    }
   ],
   "source": [
    "missing_features(all_data, num_cont_columns)"
   ]
  },
  {
   "cell_type": "markdown",
   "metadata": {
    "_uuid": "a4cdd01cd4c12161616abb1c140f47042b42b5ed"
   },
   "source": [
    "No columns are so empty that we need to drop them (I choose a 50% mark). Here's how we fill missing values:\n",
    "\n",
    "* LotFrontage - *mean of the column*\n",
    "* MasVnrArea, GarageArea, TotalBsmtSF, BsmtFinSF1, BsmtFinSF2, BsmtUnfSF - \n",
    "    *0 (NA probably means that the features is absent)*"
   ]
  },
  {
   "cell_type": "code",
   "execution_count": 26,
   "metadata": {
    "_cell_guid": "1234ee66-e9a9-42a0-9ffa-621aa92f24ea",
    "_kg_hide-input": false,
    "_kg_hide-output": true,
    "_uuid": "f7219eb76d5042dc7b281ebcd9efc66afa65add7"
   },
   "outputs": [],
   "source": [
    "all_data.loc[:, 'LotFrontage'].fillna(all_data['LotFrontage'].mean(), inplace=True)\n",
    "\n",
    "for feature in ['GarageArea', 'MasVnrArea', 'TotalBsmtSF', 'BsmtFinSF1', 'BsmtFinSF2', 'BsmtUnfSF']:\n",
    "    all_data.loc[:, feature].fillna(0, inplace=True)"
   ]
  },
  {
   "cell_type": "markdown",
   "metadata": {
    "_cell_guid": "3261c0d9-da33-480f-aecc-ebb1822ffb24",
    "_uuid": "bfc46e4f9b9b1b2118e3116fde9701657c336770"
   },
   "source": [
    "### Feature engineering"
   ]
  },
  {
   "cell_type": "code",
   "execution_count": 27,
   "metadata": {
    "_cell_guid": "464ed5ea-f6bf-4f92-a653-5e4b520a1371",
    "_kg_hide-input": true,
    "_kg_hide-output": false,
    "_uuid": "fd0db1931a297fbfcc52d9793fdb87514c93bb76"
   },
   "outputs": [
    {
     "name": "stdout",
     "output_type": "stream",
     "text": [
      "20\n"
     ]
    },
    {
     "data": {
      "image/png": "[encoded data removed]",
      "text/plain": [
       "<Figure size 1080x180 with 6 Axes>"
      ]
     },
     "metadata": {},
     "output_type": "display_data"
    },
    {
     "data": {
      "image/png": "[encoded data removed]",
      "text/plain": [
       "<Figure size 1080x180 with 6 Axes>"
      ]
     },
     "metadata": {},
     "output_type": "display_data"
    },
    {
     "data": {
      "image/png": "[encoded data removed]",
      "text/plain": [
       "<Figure size 1080x180 with 6 Axes>"
      ]
     },
     "metadata": {},
     "output_type": "display_data"
    },
    {
     "data": {
      "image/png": "[encoded data removed]",
      "text/plain": [
       "<Figure size 360x180 with 2 Axes>"
      ]
     },
     "metadata": {},
     "output_type": "display_data"
    }
   ],
   "source": [
    "# first we view a scatter plot of each feature vs. SalePrice\n",
    "\n",
    "num_cont_columns_list = list(num_cont_columns)\n",
    "\n",
    "# show max of 6 features in each row\n",
    "max_in_row = 6\n",
    "\n",
    "print(len(num_cont_columns_list))\n",
    "for i in range(0, len(num_cont_columns_list), max_in_row):\n",
    "    sns.pairplot(df_train, x_vars=num_cont_columns_list[i:i+max_in_row], y_vars=['SalePrice'])"
   ]
  },
  {
   "cell_type": "code",
   "execution_count": 28,
   "metadata": {
    "_cell_guid": "2311b545-73f9-4db7-b22e-e914c60fadfa",
    "_kg_hide-input": true,
    "_kg_hide-output": false,
    "_uuid": "52b850ba09ab3bfbef33e994a3856a214943cd14"
   },
   "outputs": [
    {
     "name": "stdout",
     "output_type": "stream",
     "text": [
      "Correlation of each feature with SalePrice:\n",
      "SalePrice        1.000000\n",
      "GrLivArea        0.720516\n",
      "TotalBsmtSF      0.646584\n",
      "GarageArea       0.636964\n",
      "1stFlrSF         0.625235\n",
      "MasVnrArea       0.478862\n",
      "BsmtFinSF1       0.395923\n",
      "LotFrontage      0.356773\n",
      "OpenPorchSF      0.330361\n",
      "WoodDeckSF       0.322538\n",
      "2ndFlrSF         0.297301\n",
      "LotArea          0.269866\n",
      "BsmtUnfSF        0.220678\n",
      "ScreenPorch      0.118324\n",
      "3SsnPorch        0.047414\n",
      "PoolArea         0.032819\n",
      "BsmtFinSF2      -0.008900\n",
      "MiscVal         -0.021097\n",
      "LowQualFinSF    -0.025351\n",
      "EnclosedPorch   -0.129774\n",
      "Name: SalePrice, dtype: float64\n"
     ]
    },
    {
     "data": {
      "text/plain": [
       "<matplotlib.axes._subplots.AxesSubplot at 0x7f3bf1fcc1d0>"
      ]
     },
     "execution_count": 28,
     "metadata": {},
     "output_type": "execute_result"
    },
    {
     "data": {
      "image/png": "[encoded data removed]",
      "text/plain": [
       "<Figure size 576x576 with 2 Axes>"
      ]
     },
     "metadata": {},
     "output_type": "display_data"
    }
   ],
   "source": [
    "# then we see the correlations\n",
    "print('Correlation of each feature with SalePrice:')\n",
    "corr = df_train[num_cont_columns].corr()\n",
    "corr_sorted = corr.sort_values([\"SalePrice\"], ascending = False)\n",
    "print(corr_sorted['SalePrice'])\n",
    "\n",
    "sns.set(font_scale=1.10)\n",
    "plt.figure(figsize=(8, 8))\n",
    "\n",
    "sns.heatmap(corr)"
   ]
  },
  {
   "cell_type": "markdown",
   "metadata": {
    "_cell_guid": "bd93c397-bb7f-4f05-a944-a6c2a2d262b1",
    "_uuid": "3982eff76674d30aaf461f40c2b3aefbbc13c9cb"
   },
   "source": [
    "Upon eyballing the graphs and looking at the correlation table, it seems that LowQualFinSF, 3SsnPorch, ScreenPorch, PoolArea, MiscVal, EnclosedPorch, BsmtFinSF2, LotFrontage, 2ndFlrSF by themselves don't have much correlation with the SalePrice."
   ]
  },
  {
   "cell_type": "markdown",
   "metadata": {
    "_cell_guid": "7bbf4131-6f5a-4c67-a489-59890e00a23e",
    "_uuid": "44a58ee00eb67a9a8dab06f6555450e0c638d727"
   },
   "source": [
    "__`OpenPorchSF`__ + __`EnclosedPorchSF`__ + __`3SsnPorch`__ + __`ScreenPorch`__\n",
    "\n",
    "There are 4 \"porch-area\" related features - OpenPorchSF, EnclosedPorchSF, 3SsnPorch, ScreenPorch.   \n",
    "Of these EnclosedPorch and 3SsnPorch have a small negative regression value while OpenPorchSF and ScreenPorch have small positive values.\n",
    "\n",
    "Lets **combine them all and form a new feature**"
   ]
  },
  {
   "cell_type": "code",
   "execution_count": 29,
   "metadata": {
    "_cell_guid": "1ba51b66-c5fb-41bb-ac7a-78a7bc89c784",
    "_kg_hide-input": false,
    "_kg_hide-output": false,
    "_uuid": "7ff5f398808f24971926f78f6a759fa76a1b33cb"
   },
   "outputs": [],
   "source": [
    "all_data['TotPorchSF'] = all_data['OpenPorchSF'] + all_data['ScreenPorch'] + \\\n",
    "                         all_data['3SsnPorch'] + all_data['EnclosedPorch']\n",
    "num_cont_columns = num_cont_columns.append(pd.Index(['TotPorchSF']))"
   ]
  },
  {
   "cell_type": "markdown",
   "metadata": {
    "_cell_guid": "3c0abb0e-dd83-4da1-a091-9bb94c98dc72",
    "_uuid": "97a20e9ef2ea46a87d82f9812de49ae16f9cb61d"
   },
   "source": [
    "__`PoolArea`__\n",
    "\n",
    "PoolArea looks like it is mostly zero.\n",
    "\n",
    "Lets have a look.."
   ]
  },
  {
   "cell_type": "code",
   "execution_count": 30,
   "metadata": {
    "_cell_guid": "d73bd146-c3b6-4548-a26f-fa7843fa9281",
    "_kg_hide-input": true,
    "_kg_hide-output": true,
    "_uuid": "20d15b23194c9ae3b11f722864d0279d5bf564bd"
   },
   "outputs": [
    {
     "data": {
      "text/plain": [
       "True     1451\n",
       "False       5\n",
       "Name: PoolArea, dtype: int64"
      ]
     },
     "execution_count": 30,
     "metadata": {},
     "output_type": "execute_result"
    }
   ],
   "source": [
    "(df_train['PoolArea'] == 0).value_counts()"
   ]
  },
  {
   "cell_type": "markdown",
   "metadata": {
    "_cell_guid": "195dbb02-e980-4be4-a716-3d56bd5df215",
    "_uuid": "46cd358ab95e378e061795e467ec3a6dc08c33d7"
   },
   "source": [
    "It is highly skewed: the ratio of non-zero to zeros is less than 1/200. We're better off **dropping PoolArea**"
   ]
  },
  {
   "cell_type": "code",
   "execution_count": 31,
   "metadata": {
    "_cell_guid": "bd907b39-5edf-4110-9b37-d19e77970c13",
    "_kg_hide-input": false,
    "_kg_hide-output": true,
    "_uuid": "cae63c53451fe85bad23274be079b1497b690c5b"
   },
   "outputs": [],
   "source": [
    "all_data.drop(columns=['PoolArea'], inplace=True)\n",
    "num_cont_columns = num_cont_columns.drop(['PoolArea'])"
   ]
  },
  {
   "cell_type": "markdown",
   "metadata": {
    "_cell_guid": "fc267f0b-c5b8-45cc-a7e4-b3a3802f3dbd",
    "_uuid": "3e8f947ecb7e39f9fbd3bb8b8dd6efb758c5cf7a"
   },
   "source": [
    "__`TotalBsmtSF + 1stFlrSF + 2ndFlrSF`__\n",
    "\n",
    "Define a new feature - `TotalSF`"
   ]
  },
  {
   "cell_type": "code",
   "execution_count": 32,
   "metadata": {
    "_cell_guid": "bc282f60-a616-4a42-b46d-16d5b1ccf243",
    "_kg_hide-input": false,
    "_kg_hide-output": true,
    "_uuid": "06c50c6c11730e98fd92737d2f69e8a2b65b9f3c"
   },
   "outputs": [],
   "source": [
    "all_data['TotalSF'] = all_data['TotalBsmtSF'] + all_data['1stFlrSF'] + all_data['2ndFlrSF']\n",
    "num_cont_columns = num_cont_columns.append(pd.Index(['TotalSF']))"
   ]
  },
  {
   "cell_type": "markdown",
   "metadata": {
    "_cell_guid": "3c1b89c1-e231-4e6c-97b9-c314cd8bd7da",
    "_uuid": "43f93a0101dd84bfff186dbec3e55cd6ebfb10c1"
   },
   "source": [
    "And drop `TotalBsmtSF`, `1stFlrSF` and `2ndFlrSF`"
   ]
  },
  {
   "cell_type": "code",
   "execution_count": 33,
   "metadata": {
    "_cell_guid": "c643a1e4-dd2a-4cca-99c1-425ac6873d5b",
    "_kg_hide-input": false,
    "_kg_hide-output": true,
    "_uuid": "ca9879d099888bb242835753d4cc11a4a2a86bb2"
   },
   "outputs": [],
   "source": [
    "all_data.drop(columns=['TotalBsmtSF', '1stFlrSF', '2ndFlrSF'], inplace=True)\n",
    "num_cont_columns = num_cont_columns.drop(['TotalBsmtSF', '1stFlrSF', '2ndFlrSF'])"
   ]
  },
  {
   "cell_type": "markdown",
   "metadata": {
    "_uuid": "a9058fdfefb412d041a556b01e2eb5142cd77248"
   },
   "source": [
    "**Log-transform of `SalePrice`**"
   ]
  },
  {
   "cell_type": "code",
   "execution_count": 34,
   "metadata": {
    "_uuid": "79707d568cdfd3cec3b6dfa6ec8f671511fd333a"
   },
   "outputs": [
    {
     "data": {
      "text/plain": [
       "<matplotlib.axes._subplots.AxesSubplot at 0x7f3bf1fea208>"
      ]
     },
     "execution_count": 34,
     "metadata": {},
     "output_type": "execute_result"
    },
    {
     "data": {
      "image/png": "[encoded data removed]",
      "text/plain": [
       "<Figure size 1152x576 with 1 Axes>"
      ]
     },
     "metadata": {},
     "output_type": "display_data"
    }
   ],
   "source": [
    "df_train = all_data[:ntrain][:]\n",
    "sns.distplot(df_train['SalePrice'])"
   ]
  },
  {
   "cell_type": "code",
   "execution_count": 35,
   "metadata": {
    "_uuid": "6b40f91b81b64f24b847c0bee72bcd19b75fa636"
   },
   "outputs": [
    {
     "data": {
      "text/plain": [
       "<matplotlib.axes._subplots.AxesSubplot at 0x7f3bf064a978>"
      ]
     },
     "execution_count": 35,
     "metadata": {},
     "output_type": "execute_result"
    },
    {
     "data": {
      "image/png": "[encoded data removed]",
      "text/plain": [
       "<Figure size 1152x576 with 1 Axes>"
      ]
     },
     "metadata": {},
     "output_type": "display_data"
    }
   ],
   "source": [
    "SalePriceLog = np.log1p(df_train['SalePrice'])\n",
    "sns.distplot(SalePriceLog)"
   ]
  },
  {
   "cell_type": "markdown",
   "metadata": {
    "_cell_guid": "de191df1-2ea5-4fd8-96e7-c2566b8ec74e",
    "_uuid": "e5247c3726b77599e1be001928d094c6826c7f51"
   },
   "source": [
    "---------------"
   ]
  },
  {
   "cell_type": "markdown",
   "metadata": {
    "_cell_guid": "da628c22-a721-442f-9f0c-5dba518fb7c2",
    "_uuid": "cbcec5254eece8d8a257da095160d9951c14415b",
    "collapsed": true
   },
   "source": [
    "## 2.2. Discrete valued numeric features:"
   ]
  },
  {
   "cell_type": "code",
   "execution_count": 36,
   "metadata": {
    "_cell_guid": "05fd3e54-9bb5-454e-bf0d-f34aac9b9799",
    "_kg_hide-input": true,
    "_kg_hide-output": false,
    "_uuid": "5521eed2f44608ab2807a06e20b0a5e34c64e958",
    "scrolled": true
   },
   "outputs": [
    {
     "data": {
      "text/html": [
       "<div>\n",
       "<style scoped>\n",
       "    .dataframe tbody tr th:only-of-type {\n",
       "        vertical-align: middle;\n",
       "    }\n",
       "\n",
       "    .dataframe tbody tr th {\n",
       "        vertical-align: top;\n",
       "    }\n",
       "\n",
       "    .dataframe thead th {\n",
       "        text-align: right;\n",
       "    }\n",
       "</style>\n",
       "<table border=\"1\" class=\"dataframe\">\n",
       "  <thead>\n",
       "    <tr style=\"text-align: right;\">\n",
       "      <th></th>\n",
       "      <th>BsmtFullBath</th>\n",
       "      <th>BsmtHalfBath</th>\n",
       "      <th>FullBath</th>\n",
       "      <th>HalfBath</th>\n",
       "      <th>BedroomAbvGr</th>\n",
       "      <th>KitchenAbvGr</th>\n",
       "      <th>TotRmsAbvGrd</th>\n",
       "      <th>Fireplaces</th>\n",
       "      <th>GarageCars</th>\n",
       "      <th>MoSold</th>\n",
       "      <th>YrSold</th>\n",
       "      <th>YearBuilt</th>\n",
       "      <th>GarageYrBlt</th>\n",
       "      <th>YearRemodAdd</th>\n",
       "    </tr>\n",
       "  </thead>\n",
       "  <tbody>\n",
       "    <tr>\n",
       "      <th>count</th>\n",
       "      <td>1456.000000</td>\n",
       "      <td>1456.000000</td>\n",
       "      <td>1456.000000</td>\n",
       "      <td>1456.000000</td>\n",
       "      <td>1456.000000</td>\n",
       "      <td>1456.000000</td>\n",
       "      <td>1456.000000</td>\n",
       "      <td>1456.000000</td>\n",
       "      <td>1456.000000</td>\n",
       "      <td>1456.000000</td>\n",
       "      <td>1456.000000</td>\n",
       "      <td>1456.00000</td>\n",
       "      <td>1375.000000</td>\n",
       "      <td>1456.000000</td>\n",
       "    </tr>\n",
       "    <tr>\n",
       "      <th>mean</th>\n",
       "      <td>0.423764</td>\n",
       "      <td>0.057005</td>\n",
       "      <td>1.561813</td>\n",
       "      <td>0.381181</td>\n",
       "      <td>2.864698</td>\n",
       "      <td>1.046703</td>\n",
       "      <td>6.506181</td>\n",
       "      <td>0.609203</td>\n",
       "      <td>1.764423</td>\n",
       "      <td>6.326236</td>\n",
       "      <td>2007.817308</td>\n",
       "      <td>1971.18544</td>\n",
       "      <td>1978.440000</td>\n",
       "      <td>1984.819368</td>\n",
       "    </tr>\n",
       "    <tr>\n",
       "      <th>std</th>\n",
       "      <td>0.517420</td>\n",
       "      <td>0.237786</td>\n",
       "      <td>0.547683</td>\n",
       "      <td>0.502533</td>\n",
       "      <td>0.815800</td>\n",
       "      <td>0.220627</td>\n",
       "      <td>1.611800</td>\n",
       "      <td>0.640359</td>\n",
       "      <td>0.746215</td>\n",
       "      <td>2.698356</td>\n",
       "      <td>1.329394</td>\n",
       "      <td>30.20159</td>\n",
       "      <td>24.692738</td>\n",
       "      <td>20.652143</td>\n",
       "    </tr>\n",
       "    <tr>\n",
       "      <th>min</th>\n",
       "      <td>0.000000</td>\n",
       "      <td>0.000000</td>\n",
       "      <td>0.000000</td>\n",
       "      <td>0.000000</td>\n",
       "      <td>0.000000</td>\n",
       "      <td>0.000000</td>\n",
       "      <td>2.000000</td>\n",
       "      <td>0.000000</td>\n",
       "      <td>0.000000</td>\n",
       "      <td>1.000000</td>\n",
       "      <td>2006.000000</td>\n",
       "      <td>1872.00000</td>\n",
       "      <td>1900.000000</td>\n",
       "      <td>1950.000000</td>\n",
       "    </tr>\n",
       "    <tr>\n",
       "      <th>25%</th>\n",
       "      <td>0.000000</td>\n",
       "      <td>0.000000</td>\n",
       "      <td>1.000000</td>\n",
       "      <td>0.000000</td>\n",
       "      <td>2.000000</td>\n",
       "      <td>1.000000</td>\n",
       "      <td>5.000000</td>\n",
       "      <td>0.000000</td>\n",
       "      <td>1.000000</td>\n",
       "      <td>5.000000</td>\n",
       "      <td>2007.000000</td>\n",
       "      <td>1954.00000</td>\n",
       "      <td>1961.000000</td>\n",
       "      <td>1966.750000</td>\n",
       "    </tr>\n",
       "    <tr>\n",
       "      <th>50%</th>\n",
       "      <td>0.000000</td>\n",
       "      <td>0.000000</td>\n",
       "      <td>2.000000</td>\n",
       "      <td>0.000000</td>\n",
       "      <td>3.000000</td>\n",
       "      <td>1.000000</td>\n",
       "      <td>6.000000</td>\n",
       "      <td>1.000000</td>\n",
       "      <td>2.000000</td>\n",
       "      <td>6.000000</td>\n",
       "      <td>2008.000000</td>\n",
       "      <td>1972.00000</td>\n",
       "      <td>1980.000000</td>\n",
       "      <td>1993.500000</td>\n",
       "    </tr>\n",
       "    <tr>\n",
       "      <th>75%</th>\n",
       "      <td>1.000000</td>\n",
       "      <td>0.000000</td>\n",
       "      <td>2.000000</td>\n",
       "      <td>1.000000</td>\n",
       "      <td>3.000000</td>\n",
       "      <td>1.000000</td>\n",
       "      <td>7.000000</td>\n",
       "      <td>1.000000</td>\n",
       "      <td>2.000000</td>\n",
       "      <td>8.000000</td>\n",
       "      <td>2009.000000</td>\n",
       "      <td>2000.00000</td>\n",
       "      <td>2002.000000</td>\n",
       "      <td>2004.000000</td>\n",
       "    </tr>\n",
       "    <tr>\n",
       "      <th>max</th>\n",
       "      <td>3.000000</td>\n",
       "      <td>2.000000</td>\n",
       "      <td>3.000000</td>\n",
       "      <td>2.000000</td>\n",
       "      <td>8.000000</td>\n",
       "      <td>3.000000</td>\n",
       "      <td>14.000000</td>\n",
       "      <td>3.000000</td>\n",
       "      <td>4.000000</td>\n",
       "      <td>12.000000</td>\n",
       "      <td>2010.000000</td>\n",
       "      <td>2010.00000</td>\n",
       "      <td>2010.000000</td>\n",
       "      <td>2010.000000</td>\n",
       "    </tr>\n",
       "  </tbody>\n",
       "</table>\n",
       "</div>"
      ],
      "text/plain": [
       "       BsmtFullBath  BsmtHalfBath     FullBath     HalfBath  BedroomAbvGr  \\\n",
       "count   1456.000000   1456.000000  1456.000000  1456.000000   1456.000000   \n",
       "mean       0.423764      0.057005     1.561813     0.381181      2.864698   \n",
       "std        0.517420      0.237786     0.547683     0.502533      0.815800   \n",
       "min        0.000000      0.000000     0.000000     0.000000      0.000000   \n",
       "25%        0.000000      0.000000     1.000000     0.000000      2.000000   \n",
       "50%        0.000000      0.000000     2.000000     0.000000      3.000000   \n",
       "75%        1.000000      0.000000     2.000000     1.000000      3.000000   \n",
       "max        3.000000      2.000000     3.000000     2.000000      8.000000   \n",
       "\n",
       "       KitchenAbvGr  TotRmsAbvGrd   Fireplaces   GarageCars       MoSold  \\\n",
       "count   1456.000000   1456.000000  1456.000000  1456.000000  1456.000000   \n",
       "mean       1.046703      6.506181     0.609203     1.764423     6.326236   \n",
       "std        0.220627      1.611800     0.640359     0.746215     2.698356   \n",
       "min        0.000000      2.000000     0.000000     0.000000     1.000000   \n",
       "25%        1.000000      5.000000     0.000000     1.000000     5.000000   \n",
       "50%        1.000000      6.000000     1.000000     2.000000     6.000000   \n",
       "75%        1.000000      7.000000     1.000000     2.000000     8.000000   \n",
       "max        3.000000     14.000000     3.000000     4.000000    12.000000   \n",
       "\n",
       "            YrSold   YearBuilt  GarageYrBlt  YearRemodAdd  \n",
       "count  1456.000000  1456.00000  1375.000000   1456.000000  \n",
       "mean   2007.817308  1971.18544  1978.440000   1984.819368  \n",
       "std       1.329394    30.20159    24.692738     20.652143  \n",
       "min    2006.000000  1872.00000  1900.000000   1950.000000  \n",
       "25%    2007.000000  1954.00000  1961.000000   1966.750000  \n",
       "50%    2008.000000  1972.00000  1980.000000   1993.500000  \n",
       "75%    2009.000000  2000.00000  2002.000000   2004.000000  \n",
       "max    2010.000000  2010.00000  2010.000000   2010.000000  "
      ]
     },
     "execution_count": 36,
     "metadata": {},
     "output_type": "execute_result"
    }
   ],
   "source": [
    "df_train[num_discrete_columns].describe()"
   ]
  },
  {
   "cell_type": "markdown",
   "metadata": {
    "_cell_guid": "8ba9c2c1-5ce6-4ca6-a588-970d2ec44fb4",
    "_uuid": "01bbcb53e2a2e410910e146ba5fffff99dfa0da3"
   },
   "source": [
    "### Filling in missing values:"
   ]
  },
  {
   "cell_type": "code",
   "execution_count": 37,
   "metadata": {
    "_kg_hide-input": false,
    "_kg_hide-output": false,
    "_uuid": "fb8668db7c977cc6ff7a1dc7a15d8ab163f91d9a"
   },
   "outputs": [
    {
     "name": "stdout",
     "output_type": "stream",
     "text": [
      "GarageYrBlt 159 ( 5.45 )\n",
      "BsmtFullBath 2 ( 0.07 )\n",
      "BsmtHalfBath 2 ( 0.07 )\n",
      "GarageCars 1 ( 0.03 )\n"
     ]
    },
    {
     "data": {
      "image/png": "[encoded data removed]",
      "text/plain": [
       "<Figure size 1152x576 with 1 Axes>"
      ]
     },
     "metadata": {},
     "output_type": "display_data"
    }
   ],
   "source": [
    "missing_features(all_data, num_discrete_columns)"
   ]
  },
  {
   "cell_type": "markdown",
   "metadata": {
    "_uuid": "758985819a9f3e3237bc827933821f44c9a009cc"
   },
   "source": [
    "* `GarageYrBlt`: We fill the missing values with the corresponding `YearBuilt` values (assume that the garage was built along with the house)\n",
    "* `BsmtFullBath`: 0 (NaN probably means not present)\n",
    "* `BsmtHalfBath`: 0 (NaN probably means not present)\n",
    "* `GarageCars`: 0 (NaN probably means not present)"
   ]
  },
  {
   "cell_type": "code",
   "execution_count": 38,
   "metadata": {
    "_kg_hide-input": false,
    "_kg_hide-output": true,
    "_uuid": "bd6b1797993b58b96231b325c94b7edf0125c554"
   },
   "outputs": [],
   "source": [
    "all_data.loc[:, 'GarageYrBlt'].fillna(all_data['YearBuilt'], inplace=True)\n",
    "all_data.loc[:, 'BsmtFullBath'].fillna(0, inplace=True)\n",
    "all_data.loc[:, 'BsmtHalfBath'].fillna(0, inplace=True)\n",
    "all_data.loc[:, 'GarageCars'].fillna(0, inplace=True)"
   ]
  },
  {
   "cell_type": "code",
   "execution_count": 39,
   "metadata": {
    "_cell_guid": "52f4cd0d-2a7b-421a-85d0-5b9b2efe1ffe",
    "_kg_hide-input": true,
    "_kg_hide-output": false,
    "_uuid": "9d77c1b149cfe141e71f3718789cd7edfd3acada"
   },
   "outputs": [
    {
     "name": "stdout",
     "output_type": "stream",
     "text": [
      "BsmtFullBath 4\n",
      "[1. 0. 2. 3.]\n",
      "BsmtHalfBath 3\n",
      "[0. 1. 2.]\n",
      "FullBath 4\n",
      "[2 1 3 0]\n",
      "HalfBath 3\n",
      "[1 0 2]\n",
      "BedroomAbvGr 8\n",
      "[3 4 1 2 0 5 6 8]\n",
      "KitchenAbvGr 4\n",
      "[1 2 3 0]\n",
      "TotRmsAbvGrd 12\n",
      "[ 8  6  7  9  5 11  4 10 12  3  2 14]\n",
      "Fireplaces 4\n",
      "[0 1 2 3]\n",
      "GarageCars 5\n",
      "[2. 3. 1. 0. 4.]\n",
      "MoSold 12\n",
      "[ 2  5  9 12 10  8 11  4  1  7  3  6]\n",
      "YrSold 5\n",
      "[2008 2007 2006 2009 2010]\n",
      "YearBuilt 112\n",
      "[2003 1976 2001 1915 2000 1993 2004 1973 1931 1939 1965 2005 1962 2006\n",
      " 1960 1929 1970 1967 1958 1930 2002 1968 2007 1951 1957 1927 1920 1966\n",
      " 1959 1994 1954 1953 1955 1983 1975 1997 1934 1963 1981 1964 1999 1972\n",
      " 1921 1945 1982 1998 1956 1948 1910 1995 1991 2009 1950 1961 1977 1985\n",
      " 1979 1885 1919 1990 1969 1935 1988 1971 1952 1936 1923 1924 1984 1926\n",
      " 1940 1941 1987 1986 2008 1908 1892 1916 1932 1918 1912 1947 1925 1900\n",
      " 1980 1989 1992 1949 1880 1928 1978 1922 1996 2010 1946 1913 1937 1942\n",
      " 1938 1974 1893 1914 1906 1890 1898 1904 1882 1875 1911 1917 1872 1905]\n",
      "GarageYrBlt 102\n",
      "[2003. 1976. 2001. 1998. 2000. 1993. 2004. 1973. 1931. 1939. 1965. 2005.\n",
      " 1962. 2006. 1960. 1991. 1970. 1967. 1958. 1930. 2002. 1968. 2007. 2008.\n",
      " 1957. 1920. 1966. 1959. 1995. 1954. 1953. 1955. 1983. 1977. 1997. 1985.\n",
      " 1963. 1981. 1964. 1999. 1935. 1990. 1945. 1987. 1989. 1915. 1956. 1948.\n",
      " 1974. 2009. 1994. 1950. 1961. 1921. 1900. 1979. 1951. 1919. 1969. 1971.\n",
      " 1936. 1975. 1923. 1924. 1984. 1926. 1940. 1986. 1988. 1916. 1932. 1972.\n",
      " 1918. 1912. 1980. 1925. 1996. 1949. 1910. 1978. 1982. 1992. 1941. 1922.\n",
      " 2010. 1927. 1947. 1937. 1942. 1938. 1952. 1928. 1946. 1934. 1914. 1906.\n",
      " 1908. 1875. 1911. 1929. 1872. 1933.]\n",
      "YearRemodAdd 61\n",
      "[2003 1976 2002 1970 2000 1995 2005 1973 1950 1965 2006 1962 2007 1960\n",
      " 2001 1967 2004 2008 1997 1959 1990 1955 1983 1980 1966 1963 1987 1964\n",
      " 1972 1996 1998 1989 1953 1956 1968 1981 1992 2009 1982 1961 1993 1999\n",
      " 1985 1979 1977 1969 1958 1991 1971 1952 1975 2010 1984 1986 1994 1988\n",
      " 1954 1957 1951 1978 1974]\n"
     ]
    }
   ],
   "source": [
    "# print the details of those discrete valued features\n",
    "for feature in num_discrete_columns:\n",
    "    feature_len = len(df_train[feature].unique())\n",
    "    print(feature, feature_len)\n",
    "    print(df_train[feature].unique())"
   ]
  },
  {
   "cell_type": "code",
   "execution_count": 40,
   "metadata": {
    "_cell_guid": "a0663671-4770-47f6-bc46-93f29bd299eb",
    "_kg_hide-input": true,
    "_kg_hide-output": false,
    "_uuid": "573770d8838f5aad0449e23bb310230dc0bc4b7a"
   },
   "outputs": [
    {
     "name": "stdout",
     "output_type": "stream",
     "text": [
      "Total:  14\n",
      "SalePrice       1.000000\n",
      "GarageCars      0.649256\n",
      "FullBath        0.559048\n",
      "TotRmsAbvGrd    0.537462\n",
      "YearBuilt       0.535279\n",
      "YearRemodAdd    0.521428\n",
      "GarageYrBlt     0.520632\n",
      "Fireplaces      0.466765\n",
      "HalfBath        0.282925\n",
      "BsmtFullBath    0.235697\n",
      "BedroomAbvGr    0.160542\n",
      "MoSold          0.056797\n",
      "YrSold         -0.023694\n",
      "BsmtHalfBath   -0.036792\n",
      "KitchenAbvGr   -0.138849\n",
      "Name: SalePrice, dtype: float64\n"
     ]
    }
   ],
   "source": [
    "print('Total: ', len(num_discrete_columns))\n",
    "corr = df_train[list(num_discrete_columns) + ['SalePrice']].corr()\n",
    "corr.sort_values([\"SalePrice\"], ascending = False, inplace = True)\n",
    "print(corr['SalePrice'])"
   ]
  },
  {
   "cell_type": "markdown",
   "metadata": {
    "_cell_guid": "5e5e0f72-96c8-45e9-a631-7220e162562c",
    "_uuid": "3e0e445a82fb4f40165636a4e37df3e7cb24ee03"
   },
   "source": [
    "__`GarageArea`__:\n",
    "\n",
    "Notice that GarageCars in this discrete variables list and GarageArea in continuous variables list, both convey the garage capacity. Since GarageCars has a higher correlation, we **drop GarageArea.**"
   ]
  },
  {
   "cell_type": "code",
   "execution_count": 41,
   "metadata": {
    "_kg_hide-input": true,
    "_kg_hide-output": true,
    "_uuid": "fd1bb4375e0e82347cb382a6739b90a36387d5fc"
   },
   "outputs": [],
   "source": [
    "all_data.drop(columns=['GarageArea'], inplace=True)\n",
    "num_cont_columns = num_cont_columns.drop(['GarageArea'])"
   ]
  },
  {
   "cell_type": "markdown",
   "metadata": {
    "_cell_guid": "8469fa87-9083-4116-9f29-02d2c61a36f0",
    "_uuid": "933a20e0d343f6fc1990a3db970c6c34ef41c367"
   },
   "source": [
    "#### We change the date related features\n",
    "\n",
    "It would be helpful if we could map the features that represent some date (like say, *1888*) to some small number (like say, *88*). \n",
    "There are 3 year related features - YearBuilt, YearRemodAdd, GarageYrBlt.\n"
   ]
  },
  {
   "cell_type": "code",
   "execution_count": 42,
   "metadata": {
    "_cell_guid": "ac180536-3e98-4ffd-8de5-2127c247a543",
    "_kg_hide-input": true,
    "_kg_hide-output": false,
    "_uuid": "0c327c0a9362bf05197955ba0054f132721b2a95"
   },
   "outputs": [
    {
     "data": {
      "text/html": [
       "<div>\n",
       "<style scoped>\n",
       "    .dataframe tbody tr th:only-of-type {\n",
       "        vertical-align: middle;\n",
       "    }\n",
       "\n",
       "    .dataframe tbody tr th {\n",
       "        vertical-align: top;\n",
       "    }\n",
       "\n",
       "    .dataframe thead th {\n",
       "        text-align: right;\n",
       "    }\n",
       "</style>\n",
       "<table border=\"1\" class=\"dataframe\">\n",
       "  <thead>\n",
       "    <tr style=\"text-align: right;\">\n",
       "      <th></th>\n",
       "      <th>YearBuilt</th>\n",
       "      <th>YearRemodAdd</th>\n",
       "      <th>GarageYrBlt</th>\n",
       "    </tr>\n",
       "  </thead>\n",
       "  <tbody>\n",
       "    <tr>\n",
       "      <th>count</th>\n",
       "      <td>1456.00000</td>\n",
       "      <td>1456.000000</td>\n",
       "      <td>1456.000000</td>\n",
       "    </tr>\n",
       "    <tr>\n",
       "      <th>mean</th>\n",
       "      <td>1971.18544</td>\n",
       "      <td>1984.819368</td>\n",
       "      <td>1976.439560</td>\n",
       "    </tr>\n",
       "    <tr>\n",
       "      <th>std</th>\n",
       "      <td>30.20159</td>\n",
       "      <td>20.652143</td>\n",
       "      <td>26.308749</td>\n",
       "    </tr>\n",
       "    <tr>\n",
       "      <th>min</th>\n",
       "      <td>1872.00000</td>\n",
       "      <td>1950.000000</td>\n",
       "      <td>1872.000000</td>\n",
       "    </tr>\n",
       "    <tr>\n",
       "      <th>25%</th>\n",
       "      <td>1954.00000</td>\n",
       "      <td>1966.750000</td>\n",
       "      <td>1959.000000</td>\n",
       "    </tr>\n",
       "    <tr>\n",
       "      <th>50%</th>\n",
       "      <td>1972.00000</td>\n",
       "      <td>1993.500000</td>\n",
       "      <td>1978.000000</td>\n",
       "    </tr>\n",
       "    <tr>\n",
       "      <th>75%</th>\n",
       "      <td>2000.00000</td>\n",
       "      <td>2004.000000</td>\n",
       "      <td>2001.000000</td>\n",
       "    </tr>\n",
       "    <tr>\n",
       "      <th>max</th>\n",
       "      <td>2010.00000</td>\n",
       "      <td>2010.000000</td>\n",
       "      <td>2010.000000</td>\n",
       "    </tr>\n",
       "  </tbody>\n",
       "</table>\n",
       "</div>"
      ],
      "text/plain": [
       "        YearBuilt  YearRemodAdd  GarageYrBlt\n",
       "count  1456.00000   1456.000000  1456.000000\n",
       "mean   1971.18544   1984.819368  1976.439560\n",
       "std      30.20159     20.652143    26.308749\n",
       "min    1872.00000   1950.000000  1872.000000\n",
       "25%    1954.00000   1966.750000  1959.000000\n",
       "50%    1972.00000   1993.500000  1978.000000\n",
       "75%    2000.00000   2004.000000  2001.000000\n",
       "max    2010.00000   2010.000000  2010.000000"
      ]
     },
     "execution_count": 42,
     "metadata": {},
     "output_type": "execute_result"
    }
   ],
   "source": [
    "df_train[['YearBuilt', 'YearRemodAdd', 'GarageYrBlt']].describe()"
   ]
  },
  {
   "cell_type": "code",
   "execution_count": 43,
   "metadata": {
    "_cell_guid": "55c10cbf-9334-47d1-9f96-88c40dfe16da",
    "_kg_hide-input": false,
    "_kg_hide-output": true,
    "_uuid": "d7f0928ed6b7e74dbf9d540151d9ac8b0aedc6d6"
   },
   "outputs": [],
   "source": [
    "# Since the min of all 3 is 1872, we could replace their values with something like `year % 1872`\n",
    "\n",
    "all_data['YearBuilt'] = all_data['YearBuilt'] % 1872\n",
    "all_data['YearRemodAdd'] = all_data['YearRemodAdd'] % 1872\n",
    "all_data['GarageYrBlt'] = all_data['GarageYrBlt'] % 1872"
   ]
  },
  {
   "cell_type": "markdown",
   "metadata": {
    "_uuid": "539f159e85ecfa806b93926cc0624aff4a199c01"
   },
   "source": [
    "__`Bath`__ = __`FullBath`__ + 0.5*__`HalfBath`__"
   ]
  },
  {
   "cell_type": "code",
   "execution_count": 44,
   "metadata": {
    "_uuid": "d0658673a27d54e7ba9a89bd8fcddaa18121ed5c"
   },
   "outputs": [],
   "source": [
    "all_data['Bath'] = all_data['FullBath'] + 0.5*all_data['HalfBath']\n",
    "all_data.drop(columns=['FullBath', 'HalfBath'], inplace=True)\n",
    "num_discrete_columns = num_discrete_columns.drop(['FullBath', 'HalfBath'])"
   ]
  },
  {
   "cell_type": "markdown",
   "metadata": {
    "_uuid": "62270be5594d32ddbd32cc303c9b86193eafb120"
   },
   "source": [
    "__`BsmtBath`__ = __`BsmtFullBath`__ + 0.5*__`BsmtHalfBath`__"
   ]
  },
  {
   "cell_type": "code",
   "execution_count": 45,
   "metadata": {
    "_uuid": "2979199949be69a7dd6967b835354e7900bde53d"
   },
   "outputs": [],
   "source": [
    "all_data['BsmtBath'] = all_data['BsmtFullBath'] + 0.5*all_data['BsmtHalfBath']\n",
    "all_data.drop(columns=['BsmtFullBath', 'BsmtHalfBath'], inplace=True)\n",
    "num_discrete_columns = num_discrete_columns.drop(['BsmtFullBath', 'BsmtHalfBath'])"
   ]
  },
  {
   "cell_type": "markdown",
   "metadata": {
    "_cell_guid": "d8597c10-8dd3-4cee-b181-fde4f152622f",
    "_uuid": "ead4e179c36874cc619207c119edbefcb79010e2"
   },
   "source": [
    "## 2.3. Categorical features:\n",
    "### Preprocessing\n",
    "#### Filling out the missing values -"
   ]
  },
  {
   "cell_type": "code",
   "execution_count": 46,
   "metadata": {
    "_cell_guid": "7fe07c35-e8f7-4020-b82e-6fe2601821b6",
    "_kg_hide-input": true,
    "_kg_hide-output": true,
    "_uuid": "ebff1fd6ee7309d0800ae5d5a6e9b0271cd7244c"
   },
   "outputs": [
    {
     "name": "stdout",
     "output_type": "stream",
     "text": [
      "PoolQC 2907 ( 99.73 )\n",
      "MiscFeature 2810 ( 96.4 )\n",
      "Alley 2717 ( 93.21 )\n",
      "Fence 2345 ( 80.45 )\n",
      "FireplaceQu 1420 ( 48.71 )\n",
      "GarageCond 159 ( 5.45 )\n",
      "GarageQual 159 ( 5.45 )\n",
      "GarageFinish 159 ( 5.45 )\n",
      "GarageType 157 ( 5.39 )\n",
      "BsmtCond 82 ( 2.81 )\n",
      "BsmtExposure 82 ( 2.81 )\n",
      "BsmtQual 81 ( 2.78 )\n",
      "BsmtFinType2 80 ( 2.74 )\n",
      "BsmtFinType1 79 ( 2.71 )\n",
      "MasVnrType 24 ( 0.82 )\n",
      "MSZoning 4 ( 0.14 )\n",
      "Functional 2 ( 0.07 )\n",
      "Utilities 2 ( 0.07 )\n",
      "Exterior2nd 1 ( 0.03 )\n",
      "KitchenQual 1 ( 0.03 )\n",
      "Exterior1st 1 ( 0.03 )\n",
      "SaleType 1 ( 0.03 )\n",
      "Electrical 1 ( 0.03 )\n"
     ]
    },
    {
     "data": {
      "image/png": "[encoded data removed]",
      "text/plain": [
       "<Figure size 1152x576 with 1 Axes>"
      ]
     },
     "metadata": {},
     "output_type": "display_data"
    }
   ],
   "source": [
    "missing_features(all_data, categ_columns)"
   ]
  },
  {
   "cell_type": "markdown",
   "metadata": {
    "_cell_guid": "82a7f0d2-c168-42c9-a2da-419f2cfcd684",
    "_uuid": "dd6bca863eb33c558a59e7234065f8fe8b0a6aea"
   },
   "source": [
    " The features are more than 50% empty - `PoolQC`, `MiscFeature`, `Alley`, `Fence`. Let's see their value counts.\n"
   ]
  },
  {
   "cell_type": "code",
   "execution_count": 47,
   "metadata": {
    "_cell_guid": "c6c14b34-9d3b-4d3a-aae5-4fca48cd5723",
    "_kg_hide-input": true,
    "_kg_hide-output": true,
    "_uuid": "b37340a817f00d978a24e2d54da895a6e6421b19"
   },
   "outputs": [
    {
     "name": "stdout",
     "output_type": "stream",
     "text": [
      "Gd    2\n",
      "Fa    2\n",
      "Ex    1\n",
      "Name: PoolQC, dtype: int64\n",
      "Shed    49\n",
      "Gar2     2\n",
      "Othr     2\n",
      "TenC     1\n",
      "Name: MiscFeature, dtype: int64\n",
      "Grvl    50\n",
      "Pave    41\n",
      "Name: Alley, dtype: int64\n",
      "MnPrv    156\n",
      "GdPrv     59\n",
      "GdWo      54\n",
      "MnWw      11\n",
      "Name: Fence, dtype: int64\n"
     ]
    }
   ],
   "source": [
    "for feature in ['PoolQC', 'MiscFeature', 'Alley', 'Fence']:\n",
    "    print(df_train[feature].value_counts())"
   ]
  },
  {
   "cell_type": "markdown",
   "metadata": {
    "_cell_guid": "a3479f77-cfe7-4a11-8d95-4474e836ae8b",
    "_uuid": "48946b938ebad63fc90c39d239c42ebbce6a00ac"
   },
   "source": [
    "Points to note:\n",
    "* We should drop `PoolQC` as it is mostly empty and because we have already dropped `PoolArea`\n",
    "* The [feature description file](https://ww2.amstat.org/publications/jse/v19n3/decock/DataDocumentation.txt) says that `MiscFeature`, `Alley` and `Fence` have a value `NA` to represent the absence of those features. Yet, no datapoint has that value. This probably means that during the collecting of data, the person left this column blank instead of filling `NA`. So, we should take the empty values to mean `NA`\n",
    "* `MiscFeature` is mostly just used to say the presence of Shed. So, we could replace it with a feature - `Shed`"
   ]
  },
  {
   "cell_type": "code",
   "execution_count": 48,
   "metadata": {
    "_cell_guid": "63b44530-a3cb-48a4-bf7f-76ef889dfb7c",
    "_kg_hide-input": false,
    "_kg_hide-output": true,
    "_uuid": "0ea1242f482cbfaf683ff6112ffed6bd8d95fa9b"
   },
   "outputs": [],
   "source": [
    "# drop PoolQC\n",
    "all_data.drop(columns=['PoolQC'], inplace=True)\n",
    "categ_columns = categ_columns.drop(['PoolQC'])\n",
    "\n",
    "# filling NA\n",
    "all_data.fillna(value= {'MiscFeature': 'NA',\n",
    "                        'Fence': 'NA',\n",
    "                        'Alley': 'NA'}, inplace=True)\n",
    "\n",
    "# Shed\n",
    "all_data['Shed'] = all_data['MiscFeature'] == 'Shed'\n",
    "all_data.drop(columns=['MiscFeature'], inplace=True)\n",
    "categ_columns = categ_columns.drop(['MiscFeature'])\n",
    "categ_columns = categ_columns.append(pd.Index(['Shed']))"
   ]
  },
  {
   "cell_type": "code",
   "execution_count": 49,
   "metadata": {
    "_kg_hide-input": false,
    "_kg_hide-output": true,
    "_uuid": "5392c52d1597515e208437ce3e2ab7c90a05a67e"
   },
   "outputs": [],
   "source": [
    "filling_dict = {'FireplaceQu': 'NA',\n",
    "                'GarageFinish': 'NA',\n",
    "                'GarageQual': 'NA',\n",
    "                'GarageType': 'NA',\n",
    "                'GarageCond': 'NA',\n",
    "                'BsmtExposure': 'NA',\n",
    "                'BsmtFinType2': 'NA',\n",
    "                'BsmtFinType1': 'NA',\n",
    "                'BsmtCond': 'NA',\n",
    "                'BsmtQual': 'NA',\n",
    "                'MasVnrType': 'None',\n",
    "                'Exterior1st': 'Other',\n",
    "                'Exterior2nd': 'Other',\n",
    "                'SaleType': 'Oth'}\n",
    "\n",
    "for feature in ['Electrical', 'MSZoning', 'Functional', 'Utilities', 'KitchenQual']:\n",
    "    filling_dict[feature] = all_data[feature].mode().item()"
   ]
  },
  {
   "cell_type": "code",
   "execution_count": 50,
   "metadata": {
    "_cell_guid": "ff27262f-cd9a-4030-b737-58e5bed6cf82",
    "_kg_hide-input": true,
    "_kg_hide-output": true,
    "_uuid": "51f9bb52dff5a0499a62488745ecd838f5d2fc73"
   },
   "outputs": [],
   "source": [
    "# Now, handle the rest of the incomplete features\n",
    "all_data.fillna(value=filling_dict, inplace=True)"
   ]
  },
  {
   "cell_type": "markdown",
   "metadata": {
    "_cell_guid": "5ca3ccca-41ba-48e8-a942-97e490be216b",
    "_uuid": "fa645229872504a78265e74a2b554d100fadc6e3"
   },
   "source": [
    "#### Dropping features"
   ]
  },
  {
   "cell_type": "code",
   "execution_count": 51,
   "metadata": {
    "_cell_guid": "0348133b-456b-461b-9a54-804a0042eaed",
    "_kg_hide-input": false,
    "_kg_hide-output": false,
    "_uuid": "3d4c737c8545f700383091268e4c990e6b922ff4"
   },
   "outputs": [],
   "source": [
    "# Neighborhood is an ordinal feature but we can't decide on the order responsibly unless we know the Ames city\n",
    "# Hence we drop it\n",
    "all_data.drop(columns=['Neighborhood'], inplace=True)\n",
    "categ_columns = categ_columns.drop(['Neighborhood'])"
   ]
  },
  {
   "cell_type": "code",
   "execution_count": 52,
   "metadata": {
    "_cell_guid": "79891612-11c5-489b-9183-819e060752a8",
    "_kg_hide-input": false,
    "_kg_hide-output": false,
    "_uuid": "8660541a54aa356f1bd4be2188185c2eff386ea7"
   },
   "outputs": [],
   "source": [
    "# GarageQual and GarageCond measure the same thing\n",
    "all_data.drop(columns=['GarageQual'], inplace=True)\n",
    "categ_columns = categ_columns.drop(['GarageQual'])"
   ]
  },
  {
   "cell_type": "code",
   "execution_count": 53,
   "metadata": {
    "_cell_guid": "6ee9ec1a-8f81-4d22-824e-a451c24ca00d",
    "_kg_hide-input": false,
    "_kg_hide-output": false,
    "_uuid": "a5192642fe0205ed962a7db9298f86b46e8ec178"
   },
   "outputs": [
    {
     "data": {
      "text/html": [
       "<div>\n",
       "<style scoped>\n",
       "    .dataframe tbody tr th:only-of-type {\n",
       "        vertical-align: middle;\n",
       "    }\n",
       "\n",
       "    .dataframe tbody tr th {\n",
       "        vertical-align: top;\n",
       "    }\n",
       "\n",
       "    .dataframe thead th {\n",
       "        text-align: right;\n",
       "    }\n",
       "</style>\n",
       "<table border=\"1\" class=\"dataframe\">\n",
       "  <thead>\n",
       "    <tr style=\"text-align: right;\">\n",
       "      <th></th>\n",
       "      <th>SalePrice</th>\n",
       "      <th>OverallQual</th>\n",
       "      <th>OverallCond</th>\n",
       "    </tr>\n",
       "  </thead>\n",
       "  <tbody>\n",
       "    <tr>\n",
       "      <th>SalePrice</th>\n",
       "      <td>1.000000</td>\n",
       "      <td>0.800858</td>\n",
       "      <td>-0.080202</td>\n",
       "    </tr>\n",
       "    <tr>\n",
       "      <th>OverallQual</th>\n",
       "      <td>0.800858</td>\n",
       "      <td>1.000000</td>\n",
       "      <td>-0.090692</td>\n",
       "    </tr>\n",
       "    <tr>\n",
       "      <th>OverallCond</th>\n",
       "      <td>-0.080202</td>\n",
       "      <td>-0.090692</td>\n",
       "      <td>1.000000</td>\n",
       "    </tr>\n",
       "  </tbody>\n",
       "</table>\n",
       "</div>"
      ],
      "text/plain": [
       "             SalePrice  OverallQual  OverallCond\n",
       "SalePrice     1.000000     0.800858    -0.080202\n",
       "OverallQual   0.800858     1.000000    -0.090692\n",
       "OverallCond  -0.080202    -0.090692     1.000000"
      ]
     },
     "execution_count": 53,
     "metadata": {},
     "output_type": "execute_result"
    }
   ],
   "source": [
    "# OverallQual and OverallCond seem to measure the same thing\n",
    "# yet they have a very different correlation coefficient with SalePrice\n",
    "df_train[['SalePrice', 'OverallQual', 'OverallCond']].corr()"
   ]
  },
  {
   "cell_type": "code",
   "execution_count": 54,
   "metadata": {
    "_kg_hide-input": false,
    "_kg_hide-output": false,
    "_uuid": "f33f65a77fd283204d10b84e25917bc8b0cffa04"
   },
   "outputs": [],
   "source": [
    "# drop OverallCond\n",
    "all_data.drop(columns=['OverallCond'], inplace=True)\n",
    "categ_columns = categ_columns.drop(['OverallCond'])"
   ]
  },
  {
   "cell_type": "markdown",
   "metadata": {
    "_cell_guid": "3eb5d85c-ad00-4d4f-8aa7-a48bd630b24b",
    "_uuid": "60cd3e13babcbf7a614cea7c5f4c77cec8012119"
   },
   "source": [
    "#### More preprocessing -"
   ]
  },
  {
   "cell_type": "markdown",
   "metadata": {
    "_cell_guid": "a432fb84-a3aa-4acb-8524-6b8cd92c0991",
    "_uuid": "552593e902c97ee2eaa7cfba2cbc4e332e3ed924"
   },
   "source": [
    "#### `MSSubClass`"
   ]
  },
  {
   "cell_type": "code",
   "execution_count": 55,
   "metadata": {
    "_cell_guid": "ec4ea21f-4a12-49f8-9e9e-e61d6a7bb7ce",
    "_kg_hide-input": false,
    "_kg_hide-output": false,
    "_uuid": "b9c9f0fd63274dec8d13d8275fe3200e689e14d9"
   },
   "outputs": [],
   "source": [
    "# new feature extraction\n",
    "all_data[\"NewerDwelling\"] = all_data[\"MSSubClass\"].isin([20, 60, 120, 160])"
   ]
  },
  {
   "cell_type": "code",
   "execution_count": 56,
   "metadata": {
    "_cell_guid": "f86709a9-5b7e-476e-a46e-4a25111ebba3",
    "_kg_hide-input": false,
    "_kg_hide-output": false,
    "_uuid": "439492bee9e74434865cb9b0100f842ac2950ebb"
   },
   "outputs": [],
   "source": [
    "# NewerDwelling, BldgType and HouseStyle together capture everything that MSSubClass can tell\n",
    "# Hence we drop MSSubClass\n",
    "all_data.drop(columns=['MSSubClass'], inplace=True)\n",
    "categ_columns = categ_columns.drop(['MSSubClass'])"
   ]
  },
  {
   "cell_type": "markdown",
   "metadata": {
    "_cell_guid": "af777400-f972-436d-9418-4f3c0b026c96",
    "_uuid": "7eec10ad8bb4e3b3840dac740d2296d927e49bbc"
   },
   "source": [
    "#### `MSZoning`"
   ]
  },
  {
   "cell_type": "code",
   "execution_count": 57,
   "metadata": {
    "_cell_guid": "2e610d4a-a97e-4c77-bfad-e029bd1632c4",
    "_kg_hide-input": false,
    "_kg_hide-output": false,
    "_uuid": "f614a95ebd2e582fcf5c47f2081546742b6f8574"
   },
   "outputs": [],
   "source": [
    "# simplity MSZoning as Residential or Non-residential\n",
    "all_data['Residential'] = all_data['MSZoning'].isin(['RH', 'RL', 'RP', 'RM'])\n",
    "\n",
    "# and drop MSZoning\n",
    "all_data.drop(columns=['MSZoning'], inplace=True)\n",
    "categ_columns = categ_columns.drop(['MSZoning'])"
   ]
  },
  {
   "cell_type": "markdown",
   "metadata": {
    "_cell_guid": "405d102f-68fe-47a4-85bb-f4a8c15e680d",
    "_uuid": "f997a9ff3fb68aa672412b583ab62e3258a1df4f"
   },
   "source": [
    "#### `Exterior1st` and `Exterior2nd`"
   ]
  },
  {
   "cell_type": "code",
   "execution_count": 58,
   "metadata": {
    "_cell_guid": "053d108e-11a6-4e55-aa74-78e15a37fa0d",
    "_kg_hide-input": false,
    "_kg_hide-output": false,
    "_uuid": "1b0bc29a151942e08888db7b6ab86fab1b122e93"
   },
   "outputs": [
    {
     "name": "stdout",
     "output_type": "stream",
     "text": [
      "VinylSd    515\n",
      "HdBoard    221\n",
      "MetalSd    220\n",
      "Wd Sdng    205\n",
      "Plywood    108\n",
      "CemntBd     60\n",
      "BrkFace     50\n",
      "WdShing     26\n",
      "Stucco      24\n",
      "AsbShng     20\n",
      "BrkComm      2\n",
      "Stone        2\n",
      "CBlock       1\n",
      "ImStucc      1\n",
      "AsphShn      1\n",
      "Name: Exterior1st, dtype: int64\n"
     ]
    }
   ],
   "source": [
    "# simplify Exterior1st and Exterior2nd \n",
    "print(df_train['Exterior1st'].value_counts())"
   ]
  },
  {
   "cell_type": "code",
   "execution_count": 59,
   "metadata": {
    "_cell_guid": "6d453602-37f7-4a8d-976b-a8fb62a8add9",
    "_kg_hide-input": false,
    "_kg_hide-output": false,
    "_uuid": "dc8b5ccf91c4891220fb94a2caea0d5710afb4b6"
   },
   "outputs": [],
   "source": [
    "# We keep only the top 4 and move the rest to `Other`\n",
    "all_data['Exterior1st'][-all_data['Exterior1st'].isin(all_data['Exterior1st'].value_counts().index[0:4])] \\\n",
    "    = 'Other'\n",
    "all_data['Exterior2nd'][-all_data['Exterior2nd'].isin(all_data['Exterior1st'].value_counts().index[0:4])] \\\n",
    "    = 'Other'"
   ]
  },
  {
   "cell_type": "markdown",
   "metadata": {
    "_cell_guid": "237b2386-1894-4395-a050-6868be1e6055",
    "_uuid": "e13ae76d3c42db1480fcd99c53c750d974bfc377"
   },
   "source": [
    "#### `SaleType`"
   ]
  },
  {
   "cell_type": "code",
   "execution_count": 60,
   "metadata": {
    "_cell_guid": "7f0a5b34-0166-4a63-952c-bd3a14a11935",
    "_kg_hide-input": false,
    "_kg_hide-output": false,
    "_uuid": "eeef8161f18adc33da4d49edd9126d5b2cdcac4a"
   },
   "outputs": [
    {
     "data": {
      "text/plain": [
       "WD       2523\n",
       "New       237\n",
       "COD        87\n",
       "ConLD      26\n",
       "CWD        12\n",
       "ConLI       9\n",
       "Oth         8\n",
       "ConLw       8\n",
       "Con         5\n",
       "Name: SaleType, dtype: int64"
      ]
     },
     "execution_count": 60,
     "metadata": {},
     "output_type": "execute_result"
    }
   ],
   "source": [
    "# simplify SaleType\n",
    "all_data['SaleType'].value_counts()"
   ]
  },
  {
   "cell_type": "code",
   "execution_count": 61,
   "metadata": {
    "_cell_guid": "cc7d4284-cef5-414b-852a-6558ca9265a3",
    "_kg_hide-input": false,
    "_kg_hide-output": false,
    "_uuid": "a4e96de04ffef3fd1beced52607ab1c8e5c6011d"
   },
   "outputs": [],
   "source": [
    "# keep only the top 3 and move rest to `Oth`\n",
    "all_data['SaleType'][-all_data['SaleType'].isin(all_data['SaleType'].value_counts().index[0:3])] = 'Oth'"
   ]
  },
  {
   "cell_type": "markdown",
   "metadata": {
    "_cell_guid": "83e0c2f9-b4c4-4e2c-8a87-ea328897b0c9",
    "_uuid": "e6ae5e4cc4f2c6300823674d45a7f3ef85f3548d"
   },
   "source": [
    "#### `Functional`"
   ]
  },
  {
   "cell_type": "code",
   "execution_count": 62,
   "metadata": {
    "_cell_guid": "edcd06ac-d1c3-42f7-b1b1-66e36dcecfbc",
    "_kg_hide-input": false,
    "_kg_hide-output": false,
    "_uuid": "d27915db85cd0cec3771013e60dd1970081d409e"
   },
   "outputs": [],
   "source": [
    "# simplify Functional\n",
    "all_data['Functional'][all_data['Functional'].isin(['Min1', 'Min2'])] = 'Min'\n",
    "all_data['Functional'][all_data['Functional'].isin(['Maj1', 'Maj2'])] = 'Maj'"
   ]
  },
  {
   "cell_type": "markdown",
   "metadata": {
    "_cell_guid": "5da7b49d-f0a7-4428-9276-17d87be91954",
    "_uuid": "ed0fe56210932cc8c1e61655afe9fde67e32e463"
   },
   "source": [
    "#### `GarageType`"
   ]
  },
  {
   "cell_type": "code",
   "execution_count": 63,
   "metadata": {
    "_cell_guid": "2b1c86fe-f7f1-456e-9740-e6e86eb90848",
    "_kg_hide-input": false,
    "_kg_hide-output": false,
    "_uuid": "8a68a04fb3e5994bc94460ea393e64edf18c6c6a"
   },
   "outputs": [],
   "source": [
    "# GarageType can either be Attchd or Detchd\n",
    "# new feature - GarageDetchd\n",
    "all_data['GarageDetchd'] = all_data['GarageType'].replace({'BuiltIn': 'Attchd', \n",
    "    'Basment': 'Attchd', 'CarPort': 'Attchd', '2Types': 'Detchd'})\n",
    "\n",
    "# drop GarageType\n",
    "all_data.drop(columns=['GarageType'], inplace=True)\n",
    "categ_columns = categ_columns.drop(['GarageType'])"
   ]
  },
  {
   "cell_type": "markdown",
   "metadata": {
    "_cell_guid": "8698175c-9f7f-46ab-97f9-4a2032f6a532",
    "_uuid": "f67e767f0d70b236e9b3b558db58fdaf15574021"
   },
   "source": [
    "#### Transforming categorical features\n",
    "* Ordered numbering - for ordinal features\n",
    "* Some other numbering format - for nominal features\n",
    "\n",
    "This way we help to prevent in embedding any false assumptions into our data because\n",
    "* With ordered features there is a sense of structure and order in the values that those features take (for eg. - Excellent > Good > Poor)\n",
    "* With nominal data if we use some order in the numbering, we embed false structure to our data "
   ]
  },
  {
   "cell_type": "code",
   "execution_count": 64,
   "metadata": {
    "_cell_guid": "2cfc22c4-a5e5-4151-bead-0e7d5c9cbdaa",
    "_kg_hide-input": false,
    "_kg_hide-output": false,
    "_uuid": "3685b185f1523c113be04c725e80abfa4ff8b443"
   },
   "outputs": [],
   "source": [
    "# Step 1: Convert ordinal features to numbers\n",
    "replace_dict =   {'LotShape': {'IR3': 0, 'IR2': 1, 'IR1': 2, 'Reg': 3},\n",
    "                  'Utilities': {'ELO': 0, 'NoSeWa': 1, 'NoSewr': 2, 'AllPub': 3},\n",
    "                  'LandSlope': {'Sev': 0, 'Mod': 1, 'Gtl': 2},\n",
    "                  'ExterQual': {'Po': 0, 'Fa': 1, 'TA': 2, 'Gd': 3, 'Ex': 4},\n",
    "                  'ExterCond': {'Po': 0, 'Fa': 1, 'TA': 2, 'Gd': 3, 'Ex': 4},\n",
    "                  'BsmtQual': {'NA': 0, 'Po': 1, 'Fa': 2, 'TA': 3, 'Gd': 4, 'Ex': 5},\n",
    "                  'BsmtCond': {'NA': 0, 'Po': 1, 'Fa': 2, 'TA': 3, 'Gd': 4, 'Ex': 5},\n",
    "                  'BsmtExposure': {'NA': 0, 'No': 1, 'Mn': 2, 'Av': 3, 'Gd': 4},\n",
    "                  'BsmtFinType1': {'NA': 0, 'Unf': 1, 'LwQ': 2, 'Rec': 3, 'BLQ': 4, 'ALQ': 5, 'GLQ': 6},\n",
    "                  'BsmtFinType2': {'NA': 0, 'Unf': 1, 'LwQ': 2, 'Rec': 3, 'BLQ': 4, 'ALQ': 5, 'GLQ': 6},\n",
    "                  'HeatingQC': {'Po': 0, 'Fa': 1, 'TA': 2, 'Gd': 3, 'Ex': 4},\n",
    "                  'Electrical': {'Mix': 0, 'FuseP': 1, 'FuseF': 2, 'FuseA': 3, 'SBrkr': 4},\n",
    "                  'KitchenQual': {'Po': 0, 'Fa': 1, 'TA': 2, 'Gd': 3, 'Ex': 4},\n",
    "                  'Functional': {'Sal': 0, 'Sev': 1, 'Maj2': 2, 'Maj1': 3, 'Mod': 4, 'Min2': 5, 'Min1': 6,\n",
    "                                 'Typ': 7},\n",
    "                  'FireplaceQu': {'NA': 0, 'Po': 1, 'Fa': 2, 'TA': 3, 'Gd': 4, 'Ex': 5},\n",
    "                  'GarageFinish': {'NA': 0, 'Unf': 1, 'RFn': 2, 'Fin': 3},\n",
    "                  'GarageCond': {'NA': 0, 'Po': 1, 'Fa': 2, 'TA': 3, 'Gd': 4, 'Ex': 5},\n",
    "                  'PavedDrive': {'N': 0, 'P': 1, 'Y': 2},\n",
    "                  'Fence': {'NA': 0, 'MnWw': 1, 'GdWo': 2, 'MnPrv': 3, 'GdPrv': 4},\n",
    "                  'Condition1': {'Artery': 0, 'Feedr': 0, 'RRAn': 1, 'RRAe': 1, 'RRNn': 2, 'RRNe': 2, \n",
    "                                 'Norm': 5, 'PosA': 10, 'PosN': 11},\n",
    "                  'Condition2': {'Artery': 0, 'Feedr': 0, 'RRAn': 1, 'RRAe': 1, 'RRNn': 2, 'RRNe': 2, \n",
    "                                 'Norm': 5, 'PosA': 10, 'PosN': 11}}\n",
    "all_data = all_data.replace(replace_dict)\n",
    "\n",
    "# all the other features of categ_columns are nominal\n",
    "nominal_columns = categ_columns.drop(list(replace_dict.keys()))\n",
    "nominal_columns = nominal_columns.drop(['OverallQual'])\n",
    "ordinal_columns = pd.Series(list(replace_dict.keys()).append('OverallQual'))"
   ]
  },
  {
   "cell_type": "code",
   "execution_count": 65,
   "metadata": {
    "_cell_guid": "eb203d79-b76f-4f83-afd0-332580549ee7",
    "_kg_hide-input": true,
    "_kg_hide-output": true,
    "_uuid": "254450b9f1cf9e3b3bc45cd9e133ee10c5d3f1ef"
   },
   "outputs": [],
   "source": [
    "# Step 2: One-hot encoding for nominal features\n",
    "all_data = pd.get_dummies(all_data)"
   ]
  },
  {
   "cell_type": "code",
   "execution_count": 66,
   "metadata": {
    "_kg_hide-input": true,
    "_kg_hide-output": true,
    "_uuid": "cd6110243103f190bba3852f698ac1caf8087ada"
   },
   "outputs": [
    {
     "data": {
      "text/plain": [
       "(2915, 138)"
      ]
     },
     "execution_count": 66,
     "metadata": {},
     "output_type": "execute_result"
    }
   ],
   "source": [
    "all_data.shape"
   ]
  },
  {
   "cell_type": "markdown",
   "metadata": {
    "_cell_guid": "96e75933-9589-46ac-a2fe-c0cc4e6e5f3c",
    "_uuid": "2b421136e400eca8d87838d27f3d681d0b351287"
   },
   "source": [
    "## 2.4. Final feature engineering"
   ]
  },
  {
   "cell_type": "markdown",
   "metadata": {
    "_uuid": "7ca8fc219e611b150cef1871d763e811bdbc7b4a"
   },
   "source": [
    "### Creating newer features by combining existing ones"
   ]
  },
  {
   "cell_type": "code",
   "execution_count": 67,
   "metadata": {
    "_cell_guid": "9bb9455a-e56d-413c-b6fc-61154d274ea5",
    "_kg_hide-input": true,
    "_kg_hide-output": true,
    "_uuid": "480923b847bcf4cb8b302967a651c5fa20d12f84"
   },
   "outputs": [],
   "source": [
    "# BsmtFinType1 * BsmtFinSF1\n",
    "all_data['BsmtFin1_Type*SF'] = all_data['BsmtFinType1'] * all_data['BsmtFinSF1']\n",
    "\n",
    "# BsmtFinType2 * BsmtFinSF2\n",
    "all_data['BsmtFin2_Type*SF'] = all_data['BsmtFinType2'] * all_data['BsmtFinSF2']\n",
    "\n",
    "# ExterQual * ExterCond\n",
    "all_data['Exter_Qual*Cond'] = all_data['ExterQual'] * all_data['ExterCond']\n",
    "\n",
    "# KitchenQual * no. of kitchens\n",
    "all_data['Kitchen_no*Qual'] = all_data['KitchenAbvGr'] * all_data['KitchenQual']\n",
    "\n",
    "# Condition1 * Condition2\n",
    "all_data['Condition1*Contition2'] = all_data['Condition1'] * all_data['Condition2']\n",
    "\n",
    "# OverallQual * TotalSF\n",
    "all_data['OverallQual*TotalSF'] = all_data['OverallQual'] * all_data['TotalSF']\n",
    "\n",
    "# BsmtQual * BsmtCond * BsmtExposure\n",
    "all_data['BsmtQual*Cond*Expo'] = all_data['BsmtQual'] * all_data['BsmtCond'] * all_data['BsmtExposure']"
   ]
  },
  {
   "cell_type": "markdown",
   "metadata": {
    "_uuid": "31d4804e1f711735dd183fe768f20f429636d3c2"
   },
   "source": [
    "### Adding polynomials of the top 10 most correlated features"
   ]
  },
  {
   "cell_type": "code",
   "execution_count": 68,
   "metadata": {
    "_uuid": "252417b6787f271c246bc3ba993ba841d7e0ace7"
   },
   "outputs": [],
   "source": [
    "# get a list of the top 10 most correlated features\n",
    "corr = all_data[all_data.columns].corr()\n",
    "corr_sorted = corr.sort_values([\"SalePrice\"], ascending = False)\n",
    "top10_features = list(corr_sorted['SalePrice'][1:11].keys())"
   ]
  },
  {
   "cell_type": "code",
   "execution_count": 69,
   "metadata": {
    "_uuid": "d8dd7ca6124f267b019ce86e84f3db1f9e67ea8b"
   },
   "outputs": [
    {
     "name": "stdout",
     "output_type": "stream",
     "text": [
      "Final shape of data:  (2915, 210)\n"
     ]
    }
   ],
   "source": [
    "# generate polynomial features and add to existing DataFrame\n",
    "poly_features = PolynomialFeatures(degree=2, include_bias=False)\n",
    "poly_features.fit_transform(all_data[top10_features])\n",
    "poly_features.get_feature_names(top10_features)\n",
    "\n",
    "poly_df = pd.DataFrame(poly_features.transform(all_data[top10_features]), \n",
    "                                     columns=poly_features.get_feature_names(top10_features))\n",
    "\n",
    "all_data = pd.concat([all_data, poly_df], axis=1)\n",
    "\n",
    "print(\"Final shape of data: \", all_data.shape)"
   ]
  },
  {
   "cell_type": "markdown",
   "metadata": {
    "_uuid": "b591ec6322528b5cd3b90b72305aead91553de3e"
   },
   "source": [
    "This is what the new features look like:"
   ]
  },
  {
   "cell_type": "code",
   "execution_count": 70,
   "metadata": {
    "_uuid": "338d6dedd7ab0f52eb51a6442ee2966c4ee8daa5"
   },
   "outputs": [
    {
     "data": {
      "text/html": [
       "<div>\n",
       "<style scoped>\n",
       "    .dataframe tbody tr th:only-of-type {\n",
       "        vertical-align: middle;\n",
       "    }\n",
       "\n",
       "    .dataframe tbody tr th {\n",
       "        vertical-align: top;\n",
       "    }\n",
       "\n",
       "    .dataframe thead th {\n",
       "        text-align: right;\n",
       "    }\n",
       "</style>\n",
       "<table border=\"1\" class=\"dataframe\">\n",
       "  <thead>\n",
       "    <tr style=\"text-align: right;\">\n",
       "      <th></th>\n",
       "      <th>OverallQual*TotalSF</th>\n",
       "      <th>TotalSF</th>\n",
       "      <th>OverallQual</th>\n",
       "      <th>GrLivArea</th>\n",
       "      <th>ExterQual</th>\n",
       "      <th>KitchenQual</th>\n",
       "      <th>GarageCars</th>\n",
       "      <th>Bath</th>\n",
       "      <th>BsmtQual</th>\n",
       "      <th>Exter_Qual*Cond</th>\n",
       "      <th>OverallQual*TotalSF^2</th>\n",
       "      <th>OverallQual*TotalSF TotalSF</th>\n",
       "      <th>OverallQual*TotalSF OverallQual</th>\n",
       "      <th>OverallQual*TotalSF GrLivArea</th>\n",
       "      <th>OverallQual*TotalSF ExterQual</th>\n",
       "      <th>OverallQual*TotalSF KitchenQual</th>\n",
       "      <th>OverallQual*TotalSF GarageCars</th>\n",
       "      <th>OverallQual*TotalSF Bath</th>\n",
       "      <th>OverallQual*TotalSF BsmtQual</th>\n",
       "      <th>OverallQual*TotalSF Exter_Qual*Cond</th>\n",
       "      <th>TotalSF^2</th>\n",
       "      <th>TotalSF OverallQual</th>\n",
       "      <th>TotalSF GrLivArea</th>\n",
       "      <th>TotalSF ExterQual</th>\n",
       "      <th>TotalSF KitchenQual</th>\n",
       "      <th>TotalSF GarageCars</th>\n",
       "      <th>TotalSF Bath</th>\n",
       "      <th>TotalSF BsmtQual</th>\n",
       "      <th>TotalSF Exter_Qual*Cond</th>\n",
       "      <th>OverallQual^2</th>\n",
       "      <th>OverallQual GrLivArea</th>\n",
       "      <th>OverallQual ExterQual</th>\n",
       "      <th>OverallQual KitchenQual</th>\n",
       "      <th>OverallQual GarageCars</th>\n",
       "      <th>OverallQual Bath</th>\n",
       "      <th>OverallQual BsmtQual</th>\n",
       "      <th>OverallQual Exter_Qual*Cond</th>\n",
       "      <th>GrLivArea^2</th>\n",
       "      <th>GrLivArea ExterQual</th>\n",
       "      <th>GrLivArea KitchenQual</th>\n",
       "      <th>GrLivArea GarageCars</th>\n",
       "      <th>GrLivArea Bath</th>\n",
       "      <th>GrLivArea BsmtQual</th>\n",
       "      <th>GrLivArea Exter_Qual*Cond</th>\n",
       "      <th>ExterQual^2</th>\n",
       "      <th>ExterQual KitchenQual</th>\n",
       "      <th>ExterQual GarageCars</th>\n",
       "      <th>ExterQual Bath</th>\n",
       "      <th>ExterQual BsmtQual</th>\n",
       "      <th>ExterQual Exter_Qual*Cond</th>\n",
       "      <th>KitchenQual^2</th>\n",
       "      <th>KitchenQual GarageCars</th>\n",
       "      <th>KitchenQual Bath</th>\n",
       "      <th>KitchenQual BsmtQual</th>\n",
       "      <th>KitchenQual Exter_Qual*Cond</th>\n",
       "      <th>GarageCars^2</th>\n",
       "      <th>GarageCars Bath</th>\n",
       "      <th>GarageCars BsmtQual</th>\n",
       "      <th>GarageCars Exter_Qual*Cond</th>\n",
       "      <th>Bath^2</th>\n",
       "      <th>Bath BsmtQual</th>\n",
       "      <th>Bath Exter_Qual*Cond</th>\n",
       "      <th>BsmtQual^2</th>\n",
       "      <th>BsmtQual Exter_Qual*Cond</th>\n",
       "      <th>Exter_Qual*Cond^2</th>\n",
       "    </tr>\n",
       "  </thead>\n",
       "  <tbody>\n",
       "    <tr>\n",
       "      <th>0</th>\n",
       "      <td>17962.0</td>\n",
       "      <td>2566.0</td>\n",
       "      <td>7.0</td>\n",
       "      <td>1710.0</td>\n",
       "      <td>3.0</td>\n",
       "      <td>3.0</td>\n",
       "      <td>2.0</td>\n",
       "      <td>2.5</td>\n",
       "      <td>4.0</td>\n",
       "      <td>6.0</td>\n",
       "      <td>322633444.0</td>\n",
       "      <td>46090492.0</td>\n",
       "      <td>125734.0</td>\n",
       "      <td>30715020.0</td>\n",
       "      <td>53886.0</td>\n",
       "      <td>53886.0</td>\n",
       "      <td>35924.0</td>\n",
       "      <td>44905.0</td>\n",
       "      <td>71848.0</td>\n",
       "      <td>107772.0</td>\n",
       "      <td>6584356.0</td>\n",
       "      <td>17962.0</td>\n",
       "      <td>4387860.0</td>\n",
       "      <td>7698.0</td>\n",
       "      <td>7698.0</td>\n",
       "      <td>5132.0</td>\n",
       "      <td>6415.0</td>\n",
       "      <td>10264.0</td>\n",
       "      <td>15396.0</td>\n",
       "      <td>49.0</td>\n",
       "      <td>11970.0</td>\n",
       "      <td>21.0</td>\n",
       "      <td>21.0</td>\n",
       "      <td>14.0</td>\n",
       "      <td>17.5</td>\n",
       "      <td>28.0</td>\n",
       "      <td>42.0</td>\n",
       "      <td>2924100.0</td>\n",
       "      <td>5130.0</td>\n",
       "      <td>5130.0</td>\n",
       "      <td>3420.0</td>\n",
       "      <td>4275.0</td>\n",
       "      <td>6840.0</td>\n",
       "      <td>10260.0</td>\n",
       "      <td>9.0</td>\n",
       "      <td>9.0</td>\n",
       "      <td>6.0</td>\n",
       "      <td>7.5</td>\n",
       "      <td>12.0</td>\n",
       "      <td>18.0</td>\n",
       "      <td>9.0</td>\n",
       "      <td>6.0</td>\n",
       "      <td>7.5</td>\n",
       "      <td>12.0</td>\n",
       "      <td>18.0</td>\n",
       "      <td>4.0</td>\n",
       "      <td>5.0</td>\n",
       "      <td>8.0</td>\n",
       "      <td>12.0</td>\n",
       "      <td>6.25</td>\n",
       "      <td>10.0</td>\n",
       "      <td>15.0</td>\n",
       "      <td>16.0</td>\n",
       "      <td>24.0</td>\n",
       "      <td>36.0</td>\n",
       "    </tr>\n",
       "    <tr>\n",
       "      <th>1</th>\n",
       "      <td>15144.0</td>\n",
       "      <td>2524.0</td>\n",
       "      <td>6.0</td>\n",
       "      <td>1262.0</td>\n",
       "      <td>2.0</td>\n",
       "      <td>2.0</td>\n",
       "      <td>2.0</td>\n",
       "      <td>2.0</td>\n",
       "      <td>4.0</td>\n",
       "      <td>4.0</td>\n",
       "      <td>229340736.0</td>\n",
       "      <td>38223456.0</td>\n",
       "      <td>90864.0</td>\n",
       "      <td>19111728.0</td>\n",
       "      <td>30288.0</td>\n",
       "      <td>30288.0</td>\n",
       "      <td>30288.0</td>\n",
       "      <td>30288.0</td>\n",
       "      <td>60576.0</td>\n",
       "      <td>60576.0</td>\n",
       "      <td>6370576.0</td>\n",
       "      <td>15144.0</td>\n",
       "      <td>3185288.0</td>\n",
       "      <td>5048.0</td>\n",
       "      <td>5048.0</td>\n",
       "      <td>5048.0</td>\n",
       "      <td>5048.0</td>\n",
       "      <td>10096.0</td>\n",
       "      <td>10096.0</td>\n",
       "      <td>36.0</td>\n",
       "      <td>7572.0</td>\n",
       "      <td>12.0</td>\n",
       "      <td>12.0</td>\n",
       "      <td>12.0</td>\n",
       "      <td>12.0</td>\n",
       "      <td>24.0</td>\n",
       "      <td>24.0</td>\n",
       "      <td>1592644.0</td>\n",
       "      <td>2524.0</td>\n",
       "      <td>2524.0</td>\n",
       "      <td>2524.0</td>\n",
       "      <td>2524.0</td>\n",
       "      <td>5048.0</td>\n",
       "      <td>5048.0</td>\n",
       "      <td>4.0</td>\n",
       "      <td>4.0</td>\n",
       "      <td>4.0</td>\n",
       "      <td>4.0</td>\n",
       "      <td>8.0</td>\n",
       "      <td>8.0</td>\n",
       "      <td>4.0</td>\n",
       "      <td>4.0</td>\n",
       "      <td>4.0</td>\n",
       "      <td>8.0</td>\n",
       "      <td>8.0</td>\n",
       "      <td>4.0</td>\n",
       "      <td>4.0</td>\n",
       "      <td>8.0</td>\n",
       "      <td>8.0</td>\n",
       "      <td>4.00</td>\n",
       "      <td>8.0</td>\n",
       "      <td>8.0</td>\n",
       "      <td>16.0</td>\n",
       "      <td>16.0</td>\n",
       "      <td>16.0</td>\n",
       "    </tr>\n",
       "    <tr>\n",
       "      <th>2</th>\n",
       "      <td>18942.0</td>\n",
       "      <td>2706.0</td>\n",
       "      <td>7.0</td>\n",
       "      <td>1786.0</td>\n",
       "      <td>3.0</td>\n",
       "      <td>3.0</td>\n",
       "      <td>2.0</td>\n",
       "      <td>2.5</td>\n",
       "      <td>4.0</td>\n",
       "      <td>6.0</td>\n",
       "      <td>358799364.0</td>\n",
       "      <td>51257052.0</td>\n",
       "      <td>132594.0</td>\n",
       "      <td>33830412.0</td>\n",
       "      <td>56826.0</td>\n",
       "      <td>56826.0</td>\n",
       "      <td>37884.0</td>\n",
       "      <td>47355.0</td>\n",
       "      <td>75768.0</td>\n",
       "      <td>113652.0</td>\n",
       "      <td>7322436.0</td>\n",
       "      <td>18942.0</td>\n",
       "      <td>4832916.0</td>\n",
       "      <td>8118.0</td>\n",
       "      <td>8118.0</td>\n",
       "      <td>5412.0</td>\n",
       "      <td>6765.0</td>\n",
       "      <td>10824.0</td>\n",
       "      <td>16236.0</td>\n",
       "      <td>49.0</td>\n",
       "      <td>12502.0</td>\n",
       "      <td>21.0</td>\n",
       "      <td>21.0</td>\n",
       "      <td>14.0</td>\n",
       "      <td>17.5</td>\n",
       "      <td>28.0</td>\n",
       "      <td>42.0</td>\n",
       "      <td>3189796.0</td>\n",
       "      <td>5358.0</td>\n",
       "      <td>5358.0</td>\n",
       "      <td>3572.0</td>\n",
       "      <td>4465.0</td>\n",
       "      <td>7144.0</td>\n",
       "      <td>10716.0</td>\n",
       "      <td>9.0</td>\n",
       "      <td>9.0</td>\n",
       "      <td>6.0</td>\n",
       "      <td>7.5</td>\n",
       "      <td>12.0</td>\n",
       "      <td>18.0</td>\n",
       "      <td>9.0</td>\n",
       "      <td>6.0</td>\n",
       "      <td>7.5</td>\n",
       "      <td>12.0</td>\n",
       "      <td>18.0</td>\n",
       "      <td>4.0</td>\n",
       "      <td>5.0</td>\n",
       "      <td>8.0</td>\n",
       "      <td>12.0</td>\n",
       "      <td>6.25</td>\n",
       "      <td>10.0</td>\n",
       "      <td>15.0</td>\n",
       "      <td>16.0</td>\n",
       "      <td>24.0</td>\n",
       "      <td>36.0</td>\n",
       "    </tr>\n",
       "    <tr>\n",
       "      <th>3</th>\n",
       "      <td>17311.0</td>\n",
       "      <td>2473.0</td>\n",
       "      <td>7.0</td>\n",
       "      <td>1717.0</td>\n",
       "      <td>2.0</td>\n",
       "      <td>3.0</td>\n",
       "      <td>3.0</td>\n",
       "      <td>1.0</td>\n",
       "      <td>3.0</td>\n",
       "      <td>4.0</td>\n",
       "      <td>299670721.0</td>\n",
       "      <td>42810103.0</td>\n",
       "      <td>121177.0</td>\n",
       "      <td>29722987.0</td>\n",
       "      <td>34622.0</td>\n",
       "      <td>51933.0</td>\n",
       "      <td>51933.0</td>\n",
       "      <td>17311.0</td>\n",
       "      <td>51933.0</td>\n",
       "      <td>69244.0</td>\n",
       "      <td>6115729.0</td>\n",
       "      <td>17311.0</td>\n",
       "      <td>4246141.0</td>\n",
       "      <td>4946.0</td>\n",
       "      <td>7419.0</td>\n",
       "      <td>7419.0</td>\n",
       "      <td>2473.0</td>\n",
       "      <td>7419.0</td>\n",
       "      <td>9892.0</td>\n",
       "      <td>49.0</td>\n",
       "      <td>12019.0</td>\n",
       "      <td>14.0</td>\n",
       "      <td>21.0</td>\n",
       "      <td>21.0</td>\n",
       "      <td>7.0</td>\n",
       "      <td>21.0</td>\n",
       "      <td>28.0</td>\n",
       "      <td>2948089.0</td>\n",
       "      <td>3434.0</td>\n",
       "      <td>5151.0</td>\n",
       "      <td>5151.0</td>\n",
       "      <td>1717.0</td>\n",
       "      <td>5151.0</td>\n",
       "      <td>6868.0</td>\n",
       "      <td>4.0</td>\n",
       "      <td>6.0</td>\n",
       "      <td>6.0</td>\n",
       "      <td>2.0</td>\n",
       "      <td>6.0</td>\n",
       "      <td>8.0</td>\n",
       "      <td>9.0</td>\n",
       "      <td>9.0</td>\n",
       "      <td>3.0</td>\n",
       "      <td>9.0</td>\n",
       "      <td>12.0</td>\n",
       "      <td>9.0</td>\n",
       "      <td>3.0</td>\n",
       "      <td>9.0</td>\n",
       "      <td>12.0</td>\n",
       "      <td>1.00</td>\n",
       "      <td>3.0</td>\n",
       "      <td>4.0</td>\n",
       "      <td>9.0</td>\n",
       "      <td>12.0</td>\n",
       "      <td>16.0</td>\n",
       "    </tr>\n",
       "    <tr>\n",
       "      <th>4</th>\n",
       "      <td>26744.0</td>\n",
       "      <td>3343.0</td>\n",
       "      <td>8.0</td>\n",
       "      <td>2198.0</td>\n",
       "      <td>3.0</td>\n",
       "      <td>3.0</td>\n",
       "      <td>3.0</td>\n",
       "      <td>2.5</td>\n",
       "      <td>4.0</td>\n",
       "      <td>6.0</td>\n",
       "      <td>715241536.0</td>\n",
       "      <td>89405192.0</td>\n",
       "      <td>213952.0</td>\n",
       "      <td>58783312.0</td>\n",
       "      <td>80232.0</td>\n",
       "      <td>80232.0</td>\n",
       "      <td>80232.0</td>\n",
       "      <td>66860.0</td>\n",
       "      <td>106976.0</td>\n",
       "      <td>160464.0</td>\n",
       "      <td>11175649.0</td>\n",
       "      <td>26744.0</td>\n",
       "      <td>7347914.0</td>\n",
       "      <td>10029.0</td>\n",
       "      <td>10029.0</td>\n",
       "      <td>10029.0</td>\n",
       "      <td>8357.5</td>\n",
       "      <td>13372.0</td>\n",
       "      <td>20058.0</td>\n",
       "      <td>64.0</td>\n",
       "      <td>17584.0</td>\n",
       "      <td>24.0</td>\n",
       "      <td>24.0</td>\n",
       "      <td>24.0</td>\n",
       "      <td>20.0</td>\n",
       "      <td>32.0</td>\n",
       "      <td>48.0</td>\n",
       "      <td>4831204.0</td>\n",
       "      <td>6594.0</td>\n",
       "      <td>6594.0</td>\n",
       "      <td>6594.0</td>\n",
       "      <td>5495.0</td>\n",
       "      <td>8792.0</td>\n",
       "      <td>13188.0</td>\n",
       "      <td>9.0</td>\n",
       "      <td>9.0</td>\n",
       "      <td>9.0</td>\n",
       "      <td>7.5</td>\n",
       "      <td>12.0</td>\n",
       "      <td>18.0</td>\n",
       "      <td>9.0</td>\n",
       "      <td>9.0</td>\n",
       "      <td>7.5</td>\n",
       "      <td>12.0</td>\n",
       "      <td>18.0</td>\n",
       "      <td>9.0</td>\n",
       "      <td>7.5</td>\n",
       "      <td>12.0</td>\n",
       "      <td>18.0</td>\n",
       "      <td>6.25</td>\n",
       "      <td>10.0</td>\n",
       "      <td>15.0</td>\n",
       "      <td>16.0</td>\n",
       "      <td>24.0</td>\n",
       "      <td>36.0</td>\n",
       "    </tr>\n",
       "  </tbody>\n",
       "</table>\n",
       "</div>"
      ],
      "text/plain": [
       "   OverallQual*TotalSF  TotalSF  OverallQual  GrLivArea  ExterQual  \\\n",
       "0              17962.0   2566.0          7.0     1710.0        3.0   \n",
       "1              15144.0   2524.0          6.0     1262.0        2.0   \n",
       "2              18942.0   2706.0          7.0     1786.0        3.0   \n",
       "3              17311.0   2473.0          7.0     1717.0        2.0   \n",
       "4              26744.0   3343.0          8.0     2198.0        3.0   \n",
       "\n",
       "   KitchenQual  GarageCars  Bath  BsmtQual  Exter_Qual*Cond  \\\n",
       "0          3.0         2.0   2.5       4.0              6.0   \n",
       "1          2.0         2.0   2.0       4.0              4.0   \n",
       "2          3.0         2.0   2.5       4.0              6.0   \n",
       "3          3.0         3.0   1.0       3.0              4.0   \n",
       "4          3.0         3.0   2.5       4.0              6.0   \n",
       "\n",
       "   OverallQual*TotalSF^2  OverallQual*TotalSF TotalSF  \\\n",
       "0            322633444.0                   46090492.0   \n",
       "1            229340736.0                   38223456.0   \n",
       "2            358799364.0                   51257052.0   \n",
       "3            299670721.0                   42810103.0   \n",
       "4            715241536.0                   89405192.0   \n",
       "\n",
       "   OverallQual*TotalSF OverallQual  OverallQual*TotalSF GrLivArea  \\\n",
       "0                         125734.0                     30715020.0   \n",
       "1                          90864.0                     19111728.0   \n",
       "2                         132594.0                     33830412.0   \n",
       "3                         121177.0                     29722987.0   \n",
       "4                         213952.0                     58783312.0   \n",
       "\n",
       "   OverallQual*TotalSF ExterQual  OverallQual*TotalSF KitchenQual  \\\n",
       "0                        53886.0                          53886.0   \n",
       "1                        30288.0                          30288.0   \n",
       "2                        56826.0                          56826.0   \n",
       "3                        34622.0                          51933.0   \n",
       "4                        80232.0                          80232.0   \n",
       "\n",
       "   OverallQual*TotalSF GarageCars  OverallQual*TotalSF Bath  \\\n",
       "0                         35924.0                   44905.0   \n",
       "1                         30288.0                   30288.0   \n",
       "2                         37884.0                   47355.0   \n",
       "3                         51933.0                   17311.0   \n",
       "4                         80232.0                   66860.0   \n",
       "\n",
       "   OverallQual*TotalSF BsmtQual  OverallQual*TotalSF Exter_Qual*Cond  \\\n",
       "0                       71848.0                             107772.0   \n",
       "1                       60576.0                              60576.0   \n",
       "2                       75768.0                             113652.0   \n",
       "3                       51933.0                              69244.0   \n",
       "4                      106976.0                             160464.0   \n",
       "\n",
       "    TotalSF^2  TotalSF OverallQual  TotalSF GrLivArea  TotalSF ExterQual  \\\n",
       "0   6584356.0              17962.0          4387860.0             7698.0   \n",
       "1   6370576.0              15144.0          3185288.0             5048.0   \n",
       "2   7322436.0              18942.0          4832916.0             8118.0   \n",
       "3   6115729.0              17311.0          4246141.0             4946.0   \n",
       "4  11175649.0              26744.0          7347914.0            10029.0   \n",
       "\n",
       "   TotalSF KitchenQual  TotalSF GarageCars  TotalSF Bath  TotalSF BsmtQual  \\\n",
       "0               7698.0              5132.0        6415.0           10264.0   \n",
       "1               5048.0              5048.0        5048.0           10096.0   \n",
       "2               8118.0              5412.0        6765.0           10824.0   \n",
       "3               7419.0              7419.0        2473.0            7419.0   \n",
       "4              10029.0             10029.0        8357.5           13372.0   \n",
       "\n",
       "   TotalSF Exter_Qual*Cond  OverallQual^2  OverallQual GrLivArea  \\\n",
       "0                  15396.0           49.0                11970.0   \n",
       "1                  10096.0           36.0                 7572.0   \n",
       "2                  16236.0           49.0                12502.0   \n",
       "3                   9892.0           49.0                12019.0   \n",
       "4                  20058.0           64.0                17584.0   \n",
       "\n",
       "   OverallQual ExterQual  OverallQual KitchenQual  OverallQual GarageCars  \\\n",
       "0                   21.0                     21.0                    14.0   \n",
       "1                   12.0                     12.0                    12.0   \n",
       "2                   21.0                     21.0                    14.0   \n",
       "3                   14.0                     21.0                    21.0   \n",
       "4                   24.0                     24.0                    24.0   \n",
       "\n",
       "   OverallQual Bath  OverallQual BsmtQual  OverallQual Exter_Qual*Cond  \\\n",
       "0              17.5                  28.0                         42.0   \n",
       "1              12.0                  24.0                         24.0   \n",
       "2              17.5                  28.0                         42.0   \n",
       "3               7.0                  21.0                         28.0   \n",
       "4              20.0                  32.0                         48.0   \n",
       "\n",
       "   GrLivArea^2  GrLivArea ExterQual  GrLivArea KitchenQual  \\\n",
       "0    2924100.0               5130.0                 5130.0   \n",
       "1    1592644.0               2524.0                 2524.0   \n",
       "2    3189796.0               5358.0                 5358.0   \n",
       "3    2948089.0               3434.0                 5151.0   \n",
       "4    4831204.0               6594.0                 6594.0   \n",
       "\n",
       "   GrLivArea GarageCars  GrLivArea Bath  GrLivArea BsmtQual  \\\n",
       "0                3420.0          4275.0              6840.0   \n",
       "1                2524.0          2524.0              5048.0   \n",
       "2                3572.0          4465.0              7144.0   \n",
       "3                5151.0          1717.0              5151.0   \n",
       "4                6594.0          5495.0              8792.0   \n",
       "\n",
       "   GrLivArea Exter_Qual*Cond  ExterQual^2  ExterQual KitchenQual  \\\n",
       "0                    10260.0          9.0                    9.0   \n",
       "1                     5048.0          4.0                    4.0   \n",
       "2                    10716.0          9.0                    9.0   \n",
       "3                     6868.0          4.0                    6.0   \n",
       "4                    13188.0          9.0                    9.0   \n",
       "\n",
       "   ExterQual GarageCars  ExterQual Bath  ExterQual BsmtQual  \\\n",
       "0                   6.0             7.5                12.0   \n",
       "1                   4.0             4.0                 8.0   \n",
       "2                   6.0             7.5                12.0   \n",
       "3                   6.0             2.0                 6.0   \n",
       "4                   9.0             7.5                12.0   \n",
       "\n",
       "   ExterQual Exter_Qual*Cond  KitchenQual^2  KitchenQual GarageCars  \\\n",
       "0                       18.0            9.0                     6.0   \n",
       "1                        8.0            4.0                     4.0   \n",
       "2                       18.0            9.0                     6.0   \n",
       "3                        8.0            9.0                     9.0   \n",
       "4                       18.0            9.0                     9.0   \n",
       "\n",
       "   KitchenQual Bath  KitchenQual BsmtQual  KitchenQual Exter_Qual*Cond  \\\n",
       "0               7.5                  12.0                         18.0   \n",
       "1               4.0                   8.0                          8.0   \n",
       "2               7.5                  12.0                         18.0   \n",
       "3               3.0                   9.0                         12.0   \n",
       "4               7.5                  12.0                         18.0   \n",
       "\n",
       "   GarageCars^2  GarageCars Bath  GarageCars BsmtQual  \\\n",
       "0           4.0              5.0                  8.0   \n",
       "1           4.0              4.0                  8.0   \n",
       "2           4.0              5.0                  8.0   \n",
       "3           9.0              3.0                  9.0   \n",
       "4           9.0              7.5                 12.0   \n",
       "\n",
       "   GarageCars Exter_Qual*Cond  Bath^2  Bath BsmtQual  Bath Exter_Qual*Cond  \\\n",
       "0                        12.0    6.25           10.0                  15.0   \n",
       "1                         8.0    4.00            8.0                   8.0   \n",
       "2                        12.0    6.25           10.0                  15.0   \n",
       "3                        12.0    1.00            3.0                   4.0   \n",
       "4                        18.0    6.25           10.0                  15.0   \n",
       "\n",
       "   BsmtQual^2  BsmtQual Exter_Qual*Cond  Exter_Qual*Cond^2  \n",
       "0        16.0                      24.0               36.0  \n",
       "1        16.0                      16.0               16.0  \n",
       "2        16.0                      24.0               36.0  \n",
       "3         9.0                      12.0               16.0  \n",
       "4        16.0                      24.0               36.0  "
      ]
     },
     "execution_count": 70,
     "metadata": {},
     "output_type": "execute_result"
    }
   ],
   "source": [
    "poly_df.head(5)"
   ]
  },
  {
   "cell_type": "markdown",
   "metadata": {
    "_uuid": "6e1f8fa3ff2c11de03334bd84e701ffd3176d8f3"
   },
   "source": [
    "### Dropping uncorrelated features\n",
    "\n",
    "We drop the features which have a `|correlation score| < 0.1`"
   ]
  },
  {
   "cell_type": "code",
   "execution_count": 71,
   "metadata": {
    "_uuid": "2a5b9940f2c9bb1a7fc54b85b2ccfd2d42460499"
   },
   "outputs": [
    {
     "name": "stdout",
     "output_type": "stream",
     "text": [
      "169\n",
      "144 25\n"
     ]
    }
   ],
   "source": [
    "# then we see the correlations\n",
    "corr = all_data[all_data.columns].corr()\n",
    "corr_sorted = corr.sort_values([\"SalePrice\"], ascending = False)\n",
    "\n",
    "#corr_sorted['SalePrice'][0:50]\n",
    "best_corr = corr_sorted[corr_sorted['SalePrice']>0.1]['SalePrice']\n",
    "worst_corr = corr_sorted[corr_sorted['SalePrice']<-0.1]['SalePrice']\n",
    "selected_corr = pd.concat([best_corr, worst_corr])\n",
    "\n",
    "print(len(list(selected_corr)))\n",
    "print(len(list(best_corr)), len(list(worst_corr)))"
   ]
  },
  {
   "cell_type": "code",
   "execution_count": 72,
   "metadata": {
    "_uuid": "94824419c8ae71272ecb09626c3df79c32f8ca67"
   },
   "outputs": [
    {
     "data": {
      "text/plain": [
       "(2915, 149)"
      ]
     },
     "execution_count": 72,
     "metadata": {},
     "output_type": "execute_result"
    }
   ],
   "source": [
    "black_list = [elem for elem in list(all_data.columns) if elem not in list(selected_corr.keys())]\n",
    "all_data.drop(columns=black_list, inplace=True)\n",
    "\n",
    "all_data.shape"
   ]
  },
  {
   "cell_type": "markdown",
   "metadata": {
    "_uuid": "d3583c669991be093210a39188855c4fdab313c1"
   },
   "source": [
    "### Handling multicollinearity"
   ]
  },
  {
   "cell_type": "markdown",
   "metadata": {},
   "source": [
    "Multicollinearity can adversely affect the performance of the models. That is why I am going to remove the features that have the maximum correlation with other features."
   ]
  },
  {
   "cell_type": "code",
   "execution_count": 73,
   "metadata": {
    "_kg_hide-input": true,
    "_uuid": "f03ace8dc6a54359c142f5492b3cb1cc7607fdf0"
   },
   "outputs": [
    {
     "name": "stdout",
     "output_type": "stream",
     "text": [
      "There are 18 pairs of non-target features with correlation coefficient > 0.98\n"
     ]
    },
    {
     "data": {
      "text/plain": [
       "{('ExterQual', 'ExterQual^2'): 0.9912990377325823,\n",
       " ('KitchenQual', 'KitchenQual^2'): 0.9881277244903043,\n",
       " ('OverallQual', 'OverallQual^2'): 0.987398269689457,\n",
       " ('CentralAir_N', 'CentralAir_Y'): -1.0,\n",
       " ('CentralAir_Y', 'CentralAir_N'): -1.0,\n",
       " ('SaleCondition_Partial', 'SaleType_New'): 0.9864702146796936,\n",
       " ('SaleType_New', 'SaleCondition_Partial'): 0.9864702146796936,\n",
       " ('Street_Grvl', 'Street_Pave'): -1.0,\n",
       " ('Street_Pave', 'Street_Grvl'): -1.0,\n",
       " ('OverallQual*TotalSF',\n",
       "  'OverallQual*TotalSF OverallQual'): 0.9830900523560023,\n",
       " ('OverallQual*TotalSF^2', 'OverallQual*TotalSF TotalSF'): 0.9869599047804547,\n",
       " ('OverallQual*TotalSF TotalSF', 'OverallQual*TotalSF^2'): 0.9869599047804547,\n",
       " ('OverallQual*TotalSF OverallQual',\n",
       "  'OverallQual*TotalSF'): 0.9830900523560023,\n",
       " ('OverallQual*TotalSF OverallQual',\n",
       "  'TotalSF OverallQual'): 0.9830900523560023,\n",
       " ('TotalSF OverallQual',\n",
       "  'OverallQual*TotalSF OverallQual'): 0.9830900523560023,\n",
       " ('OverallQual^2', 'OverallQual'): 0.987398269689457,\n",
       " ('ExterQual^2', 'ExterQual'): 0.9912990377325823,\n",
       " ('KitchenQual^2', 'KitchenQual'): 0.9881277244903043}"
      ]
     },
     "execution_count": 73,
     "metadata": {},
     "output_type": "execute_result"
    }
   ],
   "source": [
    "attrs = corr.drop('SalePrice').drop('SalePrice', axis=1)\n",
    "\n",
    "threshold = 0.98\n",
    "important_corrs = (attrs[abs(attrs) > threshold][attrs != 1.0]) \\\n",
    "    .unstack().dropna().to_dict()\n",
    "    \n",
    "print(\"There are\", len(important_corrs), \"pairs of non-target features with correlation coefficient >\", threshold)\n",
    "\n",
    "important_corrs"
   ]
  },
  {
   "cell_type": "markdown",
   "metadata": {},
   "source": [
    "We will delete one of the features from each feature pair that has a correlation coffecient of > 0.98."
   ]
  },
  {
   "cell_type": "code",
   "execution_count": 74,
   "metadata": {},
   "outputs": [
    {
     "data": {
      "text/plain": [
       "['ExterQual',\n",
       " 'KitchenQual',\n",
       " 'OverallQual',\n",
       " 'CentralAir_N',\n",
       " 'SaleCondition_Partial',\n",
       " 'Street_Grvl',\n",
       " 'OverallQual*TotalSF',\n",
       " 'OverallQual*TotalSF^2',\n",
       " 'OverallQual*TotalSF OverallQual']"
      ]
     },
     "execution_count": 74,
     "metadata": {},
     "output_type": "execute_result"
    }
   ],
   "source": [
    "to_drop = []\n",
    "for (feature1, feature2) in important_corrs.keys():\n",
    "    if feature1 not in to_drop and feature2 not in to_drop:\n",
    "        to_drop.append(feature1)\n",
    "        \n",
    "to_drop"
   ]
  },
  {
   "cell_type": "code",
   "execution_count": 75,
   "metadata": {},
   "outputs": [],
   "source": [
    "all_data.drop(columns=to_drop, inplace=True)"
   ]
  },
  {
   "cell_type": "markdown",
   "metadata": {
    "_cell_guid": "0ce10a2e-0c98-41dd-afec-7d86229629fc",
    "_uuid": "c6ab0590b4ccaf3edd48b801d1e27ce9c1285865",
    "collapsed": true
   },
   "source": [
    "# 3. Modelling"
   ]
  },
  {
   "cell_type": "code",
   "execution_count": 76,
   "metadata": {
    "_uuid": "b8437601d52a23fefb1ccf690460de94a36b4edc"
   },
   "outputs": [],
   "source": [
    "all_data = all_data.loc[:,~all_data.columns.duplicated()]"
   ]
  },
  {
   "cell_type": "markdown",
   "metadata": {
    "_uuid": "8fcff951c195cf849ef5231a8f9fd1552e66bec4"
   },
   "source": [
    "**Divide the train data into `df_train` and `df_validate`.**"
   ]
  },
  {
   "cell_type": "code",
   "execution_count": 77,
   "metadata": {
    "_uuid": "509797c0afc4eca9581a07d98e93fa88bc0c0d79"
   },
   "outputs": [],
   "source": [
    "nvalidate = int(0.2 * ntrain)\n",
    "ntrain = int(ntrain - nvalidate)\n",
    "\n",
    "df_train = all_data[:ntrain][:]\n",
    "df_validate = all_data[ntrain:ntrain+nvalidate][:]\n",
    "df_test = all_data[ntrain+nvalidate:][:]\n",
    "df_test = df_test.drop('SalePrice', axis=1)"
   ]
  },
  {
   "cell_type": "code",
   "execution_count": 78,
   "metadata": {
    "_uuid": "d0f1c1add13f58b7d13b46429a615a999794bc47"
   },
   "outputs": [
    {
     "name": "stdout",
     "output_type": "stream",
     "text": [
      "(1165, 131)\n",
      "(291, 131)\n",
      "(1459, 130)\n",
      "1165 291 1459\n"
     ]
    }
   ],
   "source": [
    "print(df_train.shape)\n",
    "print(df_validate.shape)\n",
    "print(df_test.shape)\n",
    "print(ntrain, nvalidate, ntest)"
   ]
  },
  {
   "cell_type": "markdown",
   "metadata": {
    "_uuid": "641c88df267d64106d4364f102d56e8f38d04675"
   },
   "source": [
    "**Separate the true `SalePrice` column from the rest of the data**"
   ]
  },
  {
   "cell_type": "code",
   "execution_count": 79,
   "metadata": {
    "_uuid": "d8eadcea8c386bb982ab369e516d4a4cb7d363de"
   },
   "outputs": [],
   "source": [
    "X_train= df_train.drop('SalePrice', axis= 1)\n",
    "Y_train= df_train['SalePrice']\n",
    "Y_train_log = SalePriceLog[:ntrain]\n",
    "\n",
    "X_validate = df_validate.drop('SalePrice', axis=1)\n",
    "Y_validate = df_validate['SalePrice']\n",
    "Y_validate_log = SalePriceLog[ntrain:ntrain+nvalidate]\n",
    "\n",
    "X_test= df_test"
   ]
  },
  {
   "cell_type": "code",
   "execution_count": 80,
   "metadata": {
    "_uuid": "cb651982db89689100212c70beb61619839a40ea"
   },
   "outputs": [
    {
     "data": {
      "image/png": "[encoded data removed]",
      "text/plain": [
       "<Figure size 1152x576 with 1 Axes>"
      ]
     },
     "metadata": {},
     "output_type": "display_data"
    }
   ],
   "source": [
    "# make sure that there are no NaNs\n",
    "missing_features(X_train, X_train.columns)\n",
    "missing_features(X_test, X_test.columns)\n",
    "missing_features(X_validate, X_validate.columns)"
   ]
  },
  {
   "cell_type": "markdown",
   "metadata": {
    "_uuid": "8980406a928062a1575b1d7317f85325b161db07"
   },
   "source": [
    "-------"
   ]
  },
  {
   "cell_type": "code",
   "execution_count": 81,
   "metadata": {
    "_uuid": "fc5299fb79d1fda0d8daeb36fbd02107d6c08137"
   },
   "outputs": [],
   "source": [
    "from sklearn.linear_model import LinearRegression\n",
    "from sklearn.linear_model import LogisticRegression\n",
    "from sklearn.linear_model import Lasso\n",
    "from sklearn.linear_model import Ridge\n",
    "from sklearn.linear_model import ElasticNet\n",
    "from sklearn.tree import DecisionTreeRegressor\n",
    "from sklearn.ensemble import RandomForestRegressor\n",
    "from xgboost import XGBRegressor\n",
    "from sklearn.metrics import mean_squared_error"
   ]
  },
  {
   "cell_type": "code",
   "execution_count": 82,
   "metadata": {
    "_uuid": "80678a45417bed1ab311335e3105c436e73865e3"
   },
   "outputs": [],
   "source": [
    "def rmse_score(Y_true, Y_pred):\n",
    "    return round(np.sqrt(mean_squared_error(np.log(Y_true), np.log(Y_pred))), 5)"
   ]
  },
  {
   "cell_type": "markdown",
   "metadata": {
    "_uuid": "68a9e44fb35a9bef9bfc50fdd7cb029be0c8d9af"
   },
   "source": [
    "### Linear Regression"
   ]
  },
  {
   "cell_type": "code",
   "execution_count": 83,
   "metadata": {
    "_uuid": "6e952d438811485431e192dbc40aa28f8d6da0bd"
   },
   "outputs": [
    {
     "name": "stdout",
     "output_type": "stream",
     "text": [
      "RMSE on train:  0.11077\n",
      "RMSE on validation:  0.13602\n"
     ]
    }
   ],
   "source": [
    "linreg = LinearRegression(normalize=True)\n",
    "linreg.fit(X_train, Y_train)\n",
    "\n",
    "Y_train_pred = linreg.predict(X_train)\n",
    "Y_train_pred[Y_train_pred < 1] = 1\n",
    "Y_validate_pred = linreg.predict(X_validate)\n",
    "Y_validate_pred[Y_validate_pred<1] = 1\n",
    "\n",
    "acc_lin_train = rmse_score(Y_train.values, Y_train_pred)\n",
    "acc_lin_validate = rmse_score(Y_validate.values, Y_validate_pred)\n",
    "\n",
    "print(\"RMSE on train: \", acc_lin_train)\n",
    "print(\"RMSE on validation: \", acc_lin_validate)"
   ]
  },
  {
   "cell_type": "code",
   "execution_count": 84,
   "metadata": {
    "_uuid": "1a8dfc5e0fb402f03d218f5fab64b5f59b0057b2"
   },
   "outputs": [
    {
     "name": "stdout",
     "output_type": "stream",
     "text": [
      "RMSE on train:  0.10873\n",
      "RMSE on validation:  0.1323\n"
     ]
    }
   ],
   "source": [
    "linreg_on_log = LinearRegression(normalize=True)\n",
    "linreg_on_log.fit(X_train, Y_train_log)\n",
    "\n",
    "Y_train_pred = np.exp(linreg_on_log.predict(X_train))\n",
    "Y_train_pred[Y_train_pred < 0] = 0\n",
    "Y_validate_pred = np.exp(linreg_on_log.predict(X_validate))\n",
    "Y_validate_pred[Y_validate_pred<0] = 0\n",
    "\n",
    "acc_lin_train = rmse_score(Y_train.values, Y_train_pred)\n",
    "acc_lin_validate = rmse_score(Y_validate.values, Y_validate_pred)\n",
    "\n",
    "print(\"RMSE on train: \", acc_lin_train)\n",
    "print(\"RMSE on validation: \", acc_lin_validate)"
   ]
  },
  {
   "cell_type": "markdown",
   "metadata": {
    "_uuid": "6c46b2075ca22e70a5b71ceefbaf7ae88643eb1d"
   },
   "source": [
    "### Lasso Regression"
   ]
  },
  {
   "cell_type": "code",
   "execution_count": 85,
   "metadata": {
    "_uuid": "f427d0ded2670168f39027fb5db8a625f844d29e"
   },
   "outputs": [
    {
     "name": "stdout",
     "output_type": "stream",
     "text": [
      "RMSE on train:  0.11196\n",
      "RMSE on validation:  0.13443\n"
     ]
    }
   ],
   "source": [
    "lasso = Lasso()\n",
    "lasso.fit(X_train, Y_train)\n",
    "\n",
    "acc_lasso_train = rmse_score(Y_train.values, lasso.predict(X_train))\n",
    "acc_lasso_validate = rmse_score(Y_validate.values, lasso.predict(X_validate))\n",
    "\n",
    "print(\"RMSE on train: \", acc_lasso_train)\n",
    "print(\"RMSE on validation: \", acc_lasso_validate)"
   ]
  },
  {
   "cell_type": "code",
   "execution_count": 86,
   "metadata": {
    "_uuid": "6c26c20d8e5f6b87ebc9014edbcc838c042e5030"
   },
   "outputs": [
    {
     "name": "stdout",
     "output_type": "stream",
     "text": [
      "RMSE on train:  0.14433\n",
      "RMSE on validation:  0.14226\n"
     ]
    }
   ],
   "source": [
    "lasso_on_log = Lasso()\n",
    "lasso_on_log.fit(X_train, Y_train_log)\n",
    "\n",
    "acc_lasso_train = rmse_score(Y_train.values, np.exp(lasso_on_log.predict(X_train)))\n",
    "acc_lasso_validate = rmse_score(Y_validate.values, np.exp(lasso_on_log.predict(X_validate)))\n",
    "\n",
    "print(\"RMSE on train: \", acc_lasso_train)\n",
    "print(\"RMSE on validation: \", acc_lasso_validate)"
   ]
  },
  {
   "cell_type": "markdown",
   "metadata": {
    "_uuid": "0b737f0ccf39242b1869f9946576084d78efb872"
   },
   "source": [
    "### Ridge Regression"
   ]
  },
  {
   "cell_type": "code",
   "execution_count": 87,
   "metadata": {
    "_uuid": "8e86cff8e9fcc2bab869cc6005176faec201c5da"
   },
   "outputs": [
    {
     "name": "stdout",
     "output_type": "stream",
     "text": [
      "RMSE on train:  0.11055\n",
      "RMSE on validation:  0.13422\n"
     ]
    }
   ],
   "source": [
    "ridge = Ridge()\n",
    "ridge.fit(X_train, Y_train)\n",
    "\n",
    "acc_ridge_train = rmse_score(Y_train.values, ridge.predict(X_train))\n",
    "acc_ridge_validate = rmse_score(Y_validate.values, ridge.predict(X_validate))\n",
    "\n",
    "print(\"RMSE on train: \", acc_ridge_train)\n",
    "print(\"RMSE on validation: \", acc_ridge_validate)"
   ]
  },
  {
   "cell_type": "code",
   "execution_count": 88,
   "metadata": {
    "_uuid": "0e94ddea13c00e66643dca2dfa9e281591b7bf12"
   },
   "outputs": [
    {
     "name": "stdout",
     "output_type": "stream",
     "text": [
      "RMSE on train:  0.10902\n",
      "RMSE on validation:  0.13056\n"
     ]
    }
   ],
   "source": [
    "ridge_on_log = Ridge()\n",
    "ridge_on_log.fit(X_train, Y_train_log)\n",
    "\n",
    "acc_ridge_train = rmse_score(Y_train.values, np.exp(ridge_on_log.predict(X_train)))\n",
    "acc_ridge_validate = rmse_score(Y_validate.values, np.exp(ridge_on_log.predict(X_validate)))\n",
    "\n",
    "print(\"RMSE on train: \", acc_ridge_train)\n",
    "print(\"RMSE on validation: \", acc_ridge_validate)"
   ]
  },
  {
   "cell_type": "markdown",
   "metadata": {
    "_uuid": "e8f4a6cca07ad3434c9557a232a08fcd8e7a8c58"
   },
   "source": [
    "### ElasticNet Regression"
   ]
  },
  {
   "cell_type": "code",
   "execution_count": 89,
   "metadata": {
    "_uuid": "85721b9709613181732078d9ede238f5a0a9906e"
   },
   "outputs": [
    {
     "name": "stdout",
     "output_type": "stream",
     "text": [
      "RMSE on train:  0.12341\n",
      "RMSE on validation:  0.13212\n"
     ]
    }
   ],
   "source": [
    "elastic_net = ElasticNet()\n",
    "elastic_net.fit(X_train, Y_train)\n",
    "\n",
    "acc_en_train = rmse_score(Y_train.values, elastic_net.predict(X_train))\n",
    "acc_en_validate = rmse_score(Y_validate.values, elastic_net.predict(X_validate))\n",
    "\n",
    "print(\"RMSE on train: \", acc_en_train)\n",
    "print(\"RMSE on validation: \", acc_en_validate)"
   ]
  },
  {
   "cell_type": "code",
   "execution_count": 90,
   "metadata": {
    "_uuid": "d4ae9da044b39ec8bf4d6d4b32a16ae86bf32601"
   },
   "outputs": [
    {
     "name": "stdout",
     "output_type": "stream",
     "text": [
      "RMSE on train:  0.14265\n",
      "RMSE on validation:  0.14135\n"
     ]
    }
   ],
   "source": [
    "elastic_net_on_log = ElasticNet()\n",
    "elastic_net_on_log.fit(X_train, Y_train_log)\n",
    "\n",
    "acc_en_train = rmse_score(Y_train.values, np.exp(elastic_net_on_log.predict(X_train)))\n",
    "acc_en_validate = rmse_score(Y_validate.values, np.exp(elastic_net_on_log.predict(X_validate)))\n",
    "\n",
    "print(\"RMSE on train: \", acc_en_train)\n",
    "print(\"RMSE on validation: \", acc_en_validate)"
   ]
  },
  {
   "cell_type": "markdown",
   "metadata": {
    "_uuid": "0dc205d3449a8f0b22da00ddb305203ac1c8f367"
   },
   "source": [
    "### Decision Tree"
   ]
  },
  {
   "cell_type": "code",
   "execution_count": 91,
   "metadata": {
    "_uuid": "8ffb2c4f60fa6e4cdc4fd2e687841b76c3726e20"
   },
   "outputs": [
    {
     "name": "stdout",
     "output_type": "stream",
     "text": [
      "RMSE on train:  0.00116\n",
      "RMSE on validation:  0.19554\n"
     ]
    }
   ],
   "source": [
    "decision_tree = DecisionTreeRegressor()\n",
    "decision_tree.fit(X_train, Y_train)\n",
    "\n",
    "acc_decision_tree_train = rmse_score(Y_train.values, decision_tree.predict(X_train))\n",
    "acc_decision_tree_validate = rmse_score(Y_validate.values, decision_tree.predict(X_validate))\n",
    "\n",
    "print(\"RMSE on train: \", acc_decision_tree_train)\n",
    "print(\"RMSE on validation: \", acc_decision_tree_validate)"
   ]
  },
  {
   "cell_type": "code",
   "execution_count": 92,
   "metadata": {
    "_uuid": "d7af2b0335229cd830f0782d73d6ba06b40f382b"
   },
   "outputs": [
    {
     "name": "stdout",
     "output_type": "stream",
     "text": [
      "RMSE on train:  0.00116\n",
      "RMSE on validation:  0.19958\n"
     ]
    }
   ],
   "source": [
    "decision_tree_on_log = DecisionTreeRegressor()\n",
    "decision_tree_on_log.fit(X_train, Y_train_log)\n",
    "\n",
    "acc_decision_tree_train = rmse_score(Y_train.values, np.exp(decision_tree_on_log.predict(X_train)))\n",
    "acc_decision_tree_validate = rmse_score(Y_validate.values, np.exp(decision_tree_on_log.predict(X_validate)))\n",
    "\n",
    "print(\"RMSE on train: \", acc_decision_tree_train)\n",
    "print(\"RMSE on validation: \", acc_decision_tree_validate)"
   ]
  },
  {
   "cell_type": "markdown",
   "metadata": {
    "_uuid": "ce8e64af16259a6eadadb96670e0c979b02cbb62"
   },
   "source": [
    "### Random Forest"
   ]
  },
  {
   "cell_type": "code",
   "execution_count": 93,
   "metadata": {
    "_uuid": "e44d06153aee06ea5e5b9f79cc21b2c417757797"
   },
   "outputs": [
    {
     "name": "stdout",
     "output_type": "stream",
     "text": [
      "RMSE on train:  0.05472\n",
      "RMSE on validation:  0.13733\n"
     ]
    }
   ],
   "source": [
    "random_forest = RandomForestRegressor(n_estimators=100)\n",
    "random_forest.fit(X_train, Y_train)\n",
    "\n",
    "acc_random_forest_train = rmse_score(Y_train.values, random_forest.predict(X_train))\n",
    "acc_random_forest_validate = rmse_score(Y_validate.values, random_forest.predict(X_validate))\n",
    "\n",
    "print(\"RMSE on train: \", acc_random_forest_train)\n",
    "print(\"RMSE on validation: \", acc_random_forest_validate)"
   ]
  },
  {
   "cell_type": "code",
   "execution_count": 94,
   "metadata": {
    "_uuid": "d492cc26164e9393637633acaf1547f4e0e5916c"
   },
   "outputs": [
    {
     "name": "stdout",
     "output_type": "stream",
     "text": [
      "RMSE on train:  0.05044\n",
      "RMSE on validation:  0.13882\n"
     ]
    }
   ],
   "source": [
    "random_forest_on_log = RandomForestRegressor(n_estimators=100)\n",
    "random_forest_on_log.fit(X_train, Y_train_log)\n",
    "\n",
    "acc_random_forest_train = rmse_score(Y_train.values, np.exp(random_forest_on_log.predict(X_train)))\n",
    "acc_random_forest_validate = rmse_score(Y_validate.values, np.exp(random_forest_on_log.predict(X_validate)))\n",
    "\n",
    "print(\"RMSE on train: \", acc_random_forest_train)\n",
    "print(\"RMSE on validation: \", acc_random_forest_validate)"
   ]
  },
  {
   "cell_type": "markdown",
   "metadata": {
    "_uuid": "3c7e9f51b4fe9142e50b05cdd8905919d6203e7d"
   },
   "source": [
    "### XGBoost"
   ]
  },
  {
   "cell_type": "code",
   "execution_count": 95,
   "metadata": {
    "_uuid": "7d150347e123425f51856cb57f87ff32623f6f2a"
   },
   "outputs": [
    {
     "name": "stdout",
     "output_type": "stream",
     "text": [
      "RMSE on train:  0.0867\n",
      "RMSE on validation:  0.12375\n"
     ]
    }
   ],
   "source": [
    "xgboost = XGBRegressor()\n",
    "xgboost.fit(X_train, Y_train)\n",
    "\n",
    "acc_xgboost_train = rmse_score(Y_train.values, xgboost.predict(X_train))\n",
    "acc_xgboost_validate = rmse_score(Y_validate.values, xgboost.predict(X_validate))\n",
    "\n",
    "print(\"RMSE on train: \", acc_xgboost_train)\n",
    "print(\"RMSE on validation: \", acc_xgboost_validate)"
   ]
  },
  {
   "cell_type": "code",
   "execution_count": 96,
   "metadata": {
    "_uuid": "6e7335c58e46d42a878ffc30e13e0e763293ca5c"
   },
   "outputs": [
    {
     "name": "stdout",
     "output_type": "stream",
     "text": [
      "RMSE on train:  0.08347\n",
      "RMSE on validation:  0.1284\n"
     ]
    }
   ],
   "source": [
    "xgboost_on_log = XGBRegressor()\n",
    "xgboost_on_log.fit(X_train, Y_train_log)\n",
    "\n",
    "acc_xgboost_train = rmse_score(Y_train.values, np.exp(xgboost_on_log.predict(X_train)))\n",
    "acc_xgboost_validate = rmse_score(Y_validate.values, np.exp(xgboost_on_log.predict(X_validate)))\n",
    "\n",
    "print(\"RMSE on train: \", acc_xgboost_train)\n",
    "print(\"RMSE on validation: \", acc_xgboost_validate)"
   ]
  },
  {
   "cell_type": "code",
   "execution_count": 97,
   "metadata": {
    "_uuid": "a744e8586310ddf4594552a78262af36df008f8b",
    "scrolled": true
   },
   "outputs": [
    {
     "data": {
      "text/html": [
       "<div>\n",
       "<style scoped>\n",
       "    .dataframe tbody tr th:only-of-type {\n",
       "        vertical-align: middle;\n",
       "    }\n",
       "\n",
       "    .dataframe tbody tr th {\n",
       "        vertical-align: top;\n",
       "    }\n",
       "\n",
       "    .dataframe thead th {\n",
       "        text-align: right;\n",
       "    }\n",
       "</style>\n",
       "<table border=\"1\" class=\"dataframe\">\n",
       "  <thead>\n",
       "    <tr style=\"text-align: right;\">\n",
       "      <th></th>\n",
       "      <th>Model</th>\n",
       "      <th>Train Score</th>\n",
       "      <th>Cross-Validation Score</th>\n",
       "    </tr>\n",
       "  </thead>\n",
       "  <tbody>\n",
       "    <tr>\n",
       "      <th>6</th>\n",
       "      <td>XGBoost</td>\n",
       "      <td>0.08347</td>\n",
       "      <td>0.12840</td>\n",
       "    </tr>\n",
       "    <tr>\n",
       "      <th>2</th>\n",
       "      <td>Ridge Regression</td>\n",
       "      <td>0.10902</td>\n",
       "      <td>0.13056</td>\n",
       "    </tr>\n",
       "    <tr>\n",
       "      <th>0</th>\n",
       "      <td>Linear Regression</td>\n",
       "      <td>0.10873</td>\n",
       "      <td>0.13230</td>\n",
       "    </tr>\n",
       "    <tr>\n",
       "      <th>4</th>\n",
       "      <td>Random Forest</td>\n",
       "      <td>0.05044</td>\n",
       "      <td>0.13882</td>\n",
       "    </tr>\n",
       "    <tr>\n",
       "      <th>3</th>\n",
       "      <td>ElasticNet Regression</td>\n",
       "      <td>0.14265</td>\n",
       "      <td>0.14135</td>\n",
       "    </tr>\n",
       "    <tr>\n",
       "      <th>1</th>\n",
       "      <td>Lasso Regression</td>\n",
       "      <td>0.14433</td>\n",
       "      <td>0.14226</td>\n",
       "    </tr>\n",
       "    <tr>\n",
       "      <th>5</th>\n",
       "      <td>Decision Tree</td>\n",
       "      <td>0.00116</td>\n",
       "      <td>0.19958</td>\n",
       "    </tr>\n",
       "  </tbody>\n",
       "</table>\n",
       "</div>"
      ],
      "text/plain": [
       "                   Model  Train Score  Cross-Validation Score\n",
       "6                XGBoost      0.08347                 0.12840\n",
       "2       Ridge Regression      0.10902                 0.13056\n",
       "0      Linear Regression      0.10873                 0.13230\n",
       "4          Random Forest      0.05044                 0.13882\n",
       "3  ElasticNet Regression      0.14265                 0.14135\n",
       "1       Lasso Regression      0.14433                 0.14226\n",
       "5          Decision Tree      0.00116                 0.19958"
      ]
     },
     "execution_count": 97,
     "metadata": {},
     "output_type": "execute_result"
    }
   ],
   "source": [
    "models = pd.DataFrame({\n",
    "    'Model': ['Linear Regression',\n",
    "              'Lasso Regression',\n",
    "              'Ridge Regression',\n",
    "              'ElasticNet Regression',\n",
    "              'Random Forest', \n",
    "              'Decision Tree',\n",
    "              'XGBoost'],\n",
    "    'Train Score': [acc_lin_train,\n",
    "                    acc_lasso_train,\n",
    "                    acc_ridge_train,\n",
    "                    acc_en_train,\n",
    "                    acc_random_forest_train, \n",
    "                    acc_decision_tree_train,\n",
    "                    acc_xgboost_train],\n",
    "    'Cross-Validation Score': [acc_lin_validate,\n",
    "                    acc_lasso_validate,\n",
    "                    acc_ridge_validate,\n",
    "                    acc_en_validate,\n",
    "                    acc_random_forest_validate, \n",
    "                    acc_decision_tree_validate,\n",
    "                    acc_xgboost_validate]})\n",
    "models.sort_values(by='Cross-Validation Score', ascending=True)"
   ]
  },
  {
   "cell_type": "markdown",
   "metadata": {
    "_uuid": "a2fe7017834029e12144101b8426e5ded5b985b0"
   },
   "source": [
    "## Improving the models"
   ]
  },
  {
   "cell_type": "markdown",
   "metadata": {
    "_uuid": "b018969e39762c5d00051e204fe72d11c245ce19"
   },
   "source": [
    "### Hyperparameter tuning:"
   ]
  },
  {
   "cell_type": "markdown",
   "metadata": {
    "_uuid": "b93e98a1fef6ae2a042da46d6ab239f19a4316bc"
   },
   "source": [
    "First, I will manually find the best `alpha` for the regularised regression models because that is the most important hyperparameter. \n",
    "\n",
    "Then, I will use `sklearn`'s `RandomizedSearchCV` to search for the best values of the remaining hyperparameters. `RandomizedSearchCV` chooses a possibly best combination of hyperparameters among a grid of hyperparameter ranges. It randomly samples combinations from the grid and returns the one that gave the best accuracy. "
   ]
  },
  {
   "cell_type": "markdown",
   "metadata": {
    "_uuid": "b7914073edfe9480fa8eef39c1a564494bb6bcad"
   },
   "source": [
    "#### Finding the best `alpha` -"
   ]
  },
  {
   "cell_type": "code",
   "execution_count": 98,
   "metadata": {
    "_uuid": "21abb4835d24fa2bde10a3aab93309d72d1760d8"
   },
   "outputs": [],
   "source": [
    "import operator\n",
    "\n",
    "def find_best_alpha(alphas, model):\n",
    "    rmse = [rmse_score(Y_validate.values, np.exp(model(alpha=alpha).fit(X_train, Y_train_log).predict(X_validate))) \n",
    "            for alpha in alphas]\n",
    "    cv_ridge = pd.Series(rmse, index = alphas)\n",
    "    cv_ridge.plot(title = \"On Validation set\")\n",
    "    plt.xlabel(\"alpha\")\n",
    "    plt.ylabel(\"rmse\")\n",
    "\n",
    "    min_index, min_value = min(enumerate(rmse), key=operator.itemgetter(1))\n",
    "\n",
    "    print(\"Minimum RMSE =\", min_value, \"found at alpha =\", alphas[min_index])\n",
    "\n",
    "    return (alphas[min_index], min_value)"
   ]
  },
  {
   "cell_type": "markdown",
   "metadata": {
    "_uuid": "c3e8e75499ab2d611118aec4c79326ab6cb4d1c3"
   },
   "source": [
    "*Ridge regression* -"
   ]
  },
  {
   "cell_type": "code",
   "execution_count": 99,
   "metadata": {
    "_uuid": "6c114e4cf103a868f09a377540877f6e8423dd4c"
   },
   "outputs": [
    {
     "name": "stdout",
     "output_type": "stream",
     "text": [
      "Minimum RMSE = 0.12987 found at alpha = 10\n"
     ]
    },
    {
     "data": {
      "image/png": "[encoded data removed]",
      "text/plain": [
       "<Figure size 1152x576 with 1 Axes>"
      ]
     },
     "metadata": {},
     "output_type": "display_data"
    }
   ],
   "source": [
    "(ridge_alpha, _) = find_best_alpha(alphas=[0.01, 0.03, 0.1, 0.3, 1, 3, 10, 30, 100, 300],\n",
    "                                   model=Ridge)"
   ]
  },
  {
   "cell_type": "markdown",
   "metadata": {
    "_uuid": "715dd1a65e22803d70e0c9d41aec7dd4c86e1090"
   },
   "source": [
    "*ElasticNet regression* -"
   ]
  },
  {
   "cell_type": "code",
   "execution_count": 100,
   "metadata": {
    "_uuid": "534e3a30c5189b928140d1fe664e002df0197449"
   },
   "outputs": [
    {
     "name": "stdout",
     "output_type": "stream",
     "text": [
      "Minimum RMSE = 0.12852 found at alpha = 0.003\n"
     ]
    },
    {
     "data": {
      "image/png": "[encoded data removed]",
      "text/plain": [
       "<Figure size 1152x576 with 1 Axes>"
      ]
     },
     "metadata": {},
     "output_type": "display_data"
    }
   ],
   "source": [
    "(elasticNet_alpha, _) = find_best_alpha(alphas=[0.001, 0.003, 0.01, 0.03, 0.1, 0.3, 1.0, 3.0, 10, 30, 100],\n",
    "                                        model=ElasticNet)"
   ]
  },
  {
   "cell_type": "markdown",
   "metadata": {
    "_uuid": "ba4364ec10119aed42465b564f40fa993e4fa252"
   },
   "source": [
    "*Lasso Regression* -"
   ]
  },
  {
   "cell_type": "code",
   "execution_count": 101,
   "metadata": {
    "_uuid": "642e2db055dc313e7eb5a139e1649f2cf45c32ef"
   },
   "outputs": [
    {
     "name": "stdout",
     "output_type": "stream",
     "text": [
      "Minimum RMSE = 0.12825 found at alpha = 0.001\n"
     ]
    },
    {
     "data": {
      "image/png": "[encoded data removed]",
      "text/plain": [
       "<Figure size 1152x576 with 1 Axes>"
      ]
     },
     "metadata": {},
     "output_type": "display_data"
    }
   ],
   "source": [
    "(lasso_alpha, _) = find_best_alpha(alphas=[0.001, 0.003, 0.01, 0.03, 0.1, 0.3, 1.0, 3.0, 10, 30, 100, 300, 1000],\n",
    "                                   model=Lasso)"
   ]
  },
  {
   "cell_type": "markdown",
   "metadata": {
    "_uuid": "bca1bb02d68d9995f8aa5c2a41c714241031fc9e"
   },
   "source": [
    "#### Using `RandomizedSearchCV`"
   ]
  },
  {
   "cell_type": "code",
   "execution_count": 102,
   "metadata": {
    "_uuid": "94d9347f1d84ec889df1072a4ed6a12e02b3f28f"
   },
   "outputs": [],
   "source": [
    "from sklearn.model_selection import RandomizedSearchCV"
   ]
  },
  {
   "cell_type": "markdown",
   "metadata": {
    "_uuid": "58f04573be6e04c12430837574f2c695a587b459"
   },
   "source": [
    "*Ridge Regression* -"
   ]
  },
  {
   "cell_type": "code",
   "execution_count": 103,
   "metadata": {
    "_uuid": "ee590ebc07d91e1fecb8671ae62096c93a4bf5c1"
   },
   "outputs": [
    {
     "name": "stdout",
     "output_type": "stream",
     "text": [
      "Fitting 3 folds for each of 100 candidates, totalling 300 fits\n"
     ]
    },
    {
     "name": "stderr",
     "output_type": "stream",
     "text": [
      "[Parallel(n_jobs=-1)]: Done  76 tasks      | elapsed:    3.1s\n",
      "[Parallel(n_jobs=-1)]: Done 300 out of 300 | elapsed:  1.3min finished\n"
     ]
    },
    {
     "data": {
      "text/plain": [
       "RandomizedSearchCV(cv=None, error_score='raise',\n",
       "          estimator=Ridge(alpha=1.0, copy_X=True, fit_intercept=True, max_iter=None,\n",
       "   normalize=False, random_state=None, solver='auto', tol=0.001),\n",
       "          fit_params=None, iid=True, n_iter=100, n_jobs=-1,\n",
       "          param_distributions={'alpha': [5, 6, 7, 8, 9, 10, 11, 12, 13, 15], 'fit_intercept': [True], 'normalize': [True, False], 'copy_X': [True], 'max_iter': [10, 30, 100, 300, 1000, 3000, 10000], 'tol': [0.0001], 'solver': ['auto', 'svd', 'cholesky', 'lsqr', 'sparse_cg', 'sag', 'saga'], 'random_state': [42]},\n",
       "          pre_dispatch='2*n_jobs', random_state=42, refit=True,\n",
       "          return_train_score='warn', scoring=None, verbose=1)"
      ]
     },
     "execution_count": 103,
     "metadata": {},
     "output_type": "execute_result"
    }
   ],
   "source": [
    "ridge_random_grid = {'alpha': [int(x) for x in np.linspace(start=0.5*ridge_alpha, stop=1.5*ridge_alpha, num=10)],\n",
    "                     'fit_intercept': [True],\n",
    "                     'normalize': [True, False],\n",
    "                     'copy_X': [True],\n",
    "                     'max_iter': [10, 30, 100, 300, 1000, 3000, 10000],\n",
    "                     'tol': [0.0001],\n",
    "                     'solver': ['auto', 'svd', 'cholesky', 'lsqr', 'sparse_cg', 'sag', 'saga'],\n",
    "                     'random_state': [42]}\n",
    "ridge = Ridge()\n",
    "ridge_random = RandomizedSearchCV(estimator = ridge, \n",
    "                                  param_distributions = ridge_random_grid, \n",
    "                                  n_iter = 100, \n",
    "                                  verbose=1, \n",
    "                                  random_state=42, \n",
    "                                  n_jobs = -1)\n",
    "\n",
    "ridge_random.fit(X_train, Y_train_log)"
   ]
  },
  {
   "cell_type": "code",
   "execution_count": 104,
   "metadata": {
    "_uuid": "d24906e8c56764059320ce580cfc9138e40bc69b"
   },
   "outputs": [
    {
     "data": {
      "text/plain": [
       "0.12997"
      ]
     },
     "execution_count": 104,
     "metadata": {},
     "output_type": "execute_result"
    }
   ],
   "source": [
    "rmse_score(Y_validate.values, np.exp(ridge_random.best_estimator_.predict(X_validate)))"
   ]
  },
  {
   "cell_type": "code",
   "execution_count": 105,
   "metadata": {
    "_uuid": "b0983cf5892a82014026f712276557161976bde2"
   },
   "outputs": [
    {
     "data": {
      "text/plain": [
       "{'tol': 0.0001,\n",
       " 'solver': 'cholesky',\n",
       " 'random_state': 42,\n",
       " 'normalize': False,\n",
       " 'max_iter': 100,\n",
       " 'fit_intercept': True,\n",
       " 'copy_X': True,\n",
       " 'alpha': 15}"
      ]
     },
     "execution_count": 105,
     "metadata": {},
     "output_type": "execute_result"
    }
   ],
   "source": [
    "ridge_random.best_params_"
   ]
  },
  {
   "cell_type": "markdown",
   "metadata": {
    "_uuid": "08ce5a996fa82be44a9ae4748e0ab2fbf7f849c9"
   },
   "source": [
    "*ElasticNet Regression* -"
   ]
  },
  {
   "cell_type": "code",
   "execution_count": 106,
   "metadata": {
    "_uuid": "77855a99e53ab8ee16aad08ce94524fd828a41b0"
   },
   "outputs": [
    {
     "name": "stdout",
     "output_type": "stream",
     "text": [
      "Fitting 3 folds for each of 100 candidates, totalling 300 fits\n"
     ]
    },
    {
     "name": "stderr",
     "output_type": "stream",
     "text": [
      "[Parallel(n_jobs=-1)]: Done 142 tasks      | elapsed:    8.1s\n",
      "[Parallel(n_jobs=-1)]: Done 300 out of 300 | elapsed:   23.4s finished\n"
     ]
    },
    {
     "data": {
      "text/plain": [
       "RandomizedSearchCV(cv=None, error_score='raise',\n",
       "          estimator=ElasticNet(alpha=1.0, copy_X=True, fit_intercept=True, l1_ratio=0.5,\n",
       "      max_iter=1000, normalize=False, positive=False, precompute=False,\n",
       "      random_state=None, selection='cyclic', tol=0.0001, warm_start=False),\n",
       "          fit_params=None, iid=True, n_iter=100, n_jobs=-1,\n",
       "          param_distributions={'alpha': [0, 0, 0, 0, 0, 0, 0, 0, 0, 0], 'l1_ratio': [0.01, 0.03, 0.1, 0.3, 0.5, 0.7, 0.9, 1.0], 'fit_intercept': [True], 'normalize': [True, False], 'precompute': [True, False], 'copy_X': [True], 'max_iter': [10, 30, 100, 300, 1000, 3000, 10000], 'tol': [0.0001], 'warm_start': [True, False], 'positive': [True, False], 'selection': ['cyclic', 'random'], 'random_state': [42]},\n",
       "          pre_dispatch='2*n_jobs', random_state=42, refit=True,\n",
       "          return_train_score='warn', scoring=None, verbose=1)"
      ]
     },
     "execution_count": 106,
     "metadata": {},
     "output_type": "execute_result"
    }
   ],
   "source": [
    "elasticNet_random_grid = {'alpha': [int(x) for x in np.linspace(start=0.5*elasticNet_alpha, \n",
    "                                                                stop=1.5*elasticNet_alpha, \n",
    "                                                                num=10)],\n",
    "                          'l1_ratio': [0.01, 0.03, 0.1, 0.3, 0.5, 0.7, 0.9, 1.0],\n",
    "                          'fit_intercept': [True],\n",
    "                          'normalize': [True, False],\n",
    "                          'precompute': [True, False],\n",
    "                          'copy_X': [True],\n",
    "                          'max_iter': [10, 30, 100, 300, 1000, 3000, 10000],\n",
    "                          'tol': [0.0001],\n",
    "                          'warm_start': [True, False],\n",
    "                          'positive': [True, False],\n",
    "                          'selection': ['cyclic', 'random'],\n",
    "                          'random_state': [42]}\n",
    "\n",
    "elastic_net = ElasticNet()\n",
    "elastic_net_random = RandomizedSearchCV(estimator = elastic_net, \n",
    "                                  param_distributions = elasticNet_random_grid, \n",
    "                                  n_iter = 100, \n",
    "                                  verbose=1, \n",
    "                                  random_state=42, \n",
    "                                  n_jobs = -1)\n",
    "\n",
    "elastic_net_random.fit(X_train, Y_train_log)"
   ]
  },
  {
   "cell_type": "code",
   "execution_count": 107,
   "metadata": {
    "_uuid": "3976cfd5dd9993f55e731e6dcc37303051a9a674"
   },
   "outputs": [
    {
     "name": "stdout",
     "output_type": "stream",
     "text": [
      "0.1284\n"
     ]
    }
   ],
   "source": [
    "print(rmse_score(Y_validate.values, np.exp(elastic_net_random.best_estimator_.predict(X_validate))))"
   ]
  },
  {
   "cell_type": "code",
   "execution_count": 108,
   "metadata": {
    "_uuid": "e22b0eeb131f28231fdcd140487eccb486bd6bce"
   },
   "outputs": [
    {
     "data": {
      "text/plain": [
       "{'warm_start': True,\n",
       " 'tol': 0.0001,\n",
       " 'selection': 'cyclic',\n",
       " 'random_state': 42,\n",
       " 'precompute': False,\n",
       " 'positive': True,\n",
       " 'normalize': False,\n",
       " 'max_iter': 100,\n",
       " 'l1_ratio': 0.1,\n",
       " 'fit_intercept': True,\n",
       " 'copy_X': True,\n",
       " 'alpha': 0}"
      ]
     },
     "execution_count": 108,
     "metadata": {},
     "output_type": "execute_result"
    }
   ],
   "source": [
    "elastic_net_random.best_params_"
   ]
  },
  {
   "cell_type": "markdown",
   "metadata": {
    "_uuid": "3fa9e7fa7309435f5a9f06ae40b0a6c6b046cf41"
   },
   "source": [
    "*Lasso Regression* -"
   ]
  },
  {
   "cell_type": "code",
   "execution_count": 109,
   "metadata": {
    "_uuid": "e6ad5fcbb49ae98e098c12c64ee9c11b41623205"
   },
   "outputs": [
    {
     "name": "stdout",
     "output_type": "stream",
     "text": [
      "Fitting 3 folds for each of 100 candidates, totalling 300 fits\n"
     ]
    },
    {
     "name": "stderr",
     "output_type": "stream",
     "text": [
      "[Parallel(n_jobs=-1)]: Done  76 tasks      | elapsed:    4.2s\n",
      "[Parallel(n_jobs=-1)]: Done 239 tasks      | elapsed:   21.5s\n",
      "[Parallel(n_jobs=-1)]: Done 300 out of 300 | elapsed:   28.0s finished\n"
     ]
    },
    {
     "data": {
      "text/plain": [
       "RandomizedSearchCV(cv=None, error_score='raise',\n",
       "          estimator=Lasso(alpha=1.0, copy_X=True, fit_intercept=True, max_iter=1000,\n",
       "   normalize=False, positive=False, precompute=False, random_state=None,\n",
       "   selection='cyclic', tol=0.0001, warm_start=False),\n",
       "          fit_params=None, iid=True, n_iter=100, n_jobs=-1,\n",
       "          param_distributions={'alpha': [0, 0, 0, 0, 0, 0, 0, 0, 0, 0], 'fit_intercept': [True], 'normalize': [True, False], 'precompute': [True, False], 'copy_X': [True], 'max_iter': [10, 30, 100, 300, 1000, 3000, 10000], 'tol': [0.0001], 'warm_start': [True, False], 'positive': [True, False], 'selection': ['cyclic', 'random'], 'random_state': [42]},\n",
       "          pre_dispatch='2*n_jobs', random_state=42, refit=True,\n",
       "          return_train_score='warn', scoring=None, verbose=1)"
      ]
     },
     "execution_count": 109,
     "metadata": {},
     "output_type": "execute_result"
    }
   ],
   "source": [
    "lasso_random_grid = {'alpha': [int(x) for x in np.linspace(start=0.5*lasso_alpha, \n",
    "                                                                stop=1.5*lasso_alpha, \n",
    "                                                                num=10)],\n",
    "                     'fit_intercept': [True],\n",
    "                     'normalize': [True, False],\n",
    "                     'precompute': [True, False],\n",
    "                     'copy_X': [True],\n",
    "                     'max_iter': [10, 30, 100, 300, 1000, 3000, 10000],\n",
    "                     'tol': [0.0001],\n",
    "                     'warm_start': [True, False],\n",
    "                     'positive': [True, False],\n",
    "                     'selection': ['cyclic', 'random'],\n",
    "                     'random_state': [42]}\n",
    "\n",
    "lasso = Lasso()\n",
    "lasso_random = RandomizedSearchCV(estimator = lasso, \n",
    "                                  param_distributions = lasso_random_grid, \n",
    "                                  n_iter = 100, \n",
    "                                  verbose=1, \n",
    "                                  random_state=42, \n",
    "                                  n_jobs = -1)\n",
    "\n",
    "lasso_random.fit(X_train, Y_train_log)"
   ]
  },
  {
   "cell_type": "code",
   "execution_count": 110,
   "metadata": {
    "_uuid": "9784670582430acfb57ee025a4ce3ced85449418"
   },
   "outputs": [
    {
     "name": "stdout",
     "output_type": "stream",
     "text": [
      "0.1284\n"
     ]
    }
   ],
   "source": [
    "print(rmse_score(Y_validate.values, np.exp(lasso_random.best_estimator_.predict(X_validate))))"
   ]
  },
  {
   "cell_type": "code",
   "execution_count": 111,
   "metadata": {
    "_uuid": "6674cfb9db32903f9401c5af9f60c044e52d3565"
   },
   "outputs": [
    {
     "data": {
      "text/plain": [
       "{'warm_start': True,\n",
       " 'tol': 0.0001,\n",
       " 'selection': 'cyclic',\n",
       " 'random_state': 42,\n",
       " 'precompute': True,\n",
       " 'positive': True,\n",
       " 'normalize': False,\n",
       " 'max_iter': 100,\n",
       " 'fit_intercept': True,\n",
       " 'copy_X': True,\n",
       " 'alpha': 0}"
      ]
     },
     "execution_count": 111,
     "metadata": {},
     "output_type": "execute_result"
    }
   ],
   "source": [
    "lasso_random.best_params_"
   ]
  },
  {
   "cell_type": "markdown",
   "metadata": {
    "_uuid": "a204fe6285abefe80eb4a1471d68a453678c7e3e"
   },
   "source": [
    "#### Improving `Random Forest` -\n",
    "\n",
    "The `Random Forest` model achieves the best accuracy (of __86.24%__ when I ran it locally) on the cross-validation set. \n",
    "\n",
    "**Note: _The huge difference between the `Cross-Validation Score`s of `Random Forest` and `XGBoost` as compared to`Decision_Tree` and the fact that the `Decision Tree` model reached ~100% accuracy on Training data, highlights that it is easy to overfit a `Decision Tree`. The former 2 being an ensemble of `Decision Tree`s, are inherently good at avoiding overfitting._**\n",
    "\n",
    "Now, let's try to tweak the model to further improve it.\n",
    "\n",
    "**Reducing the number of features:**\n",
    "\n",
    "A general rule of thumb in Machine Learning is that the more features you have, the greater are the chances of your model overfitting the data. Extra features can decrease performance because they may “confuse” the model by giving it irrelevant data that prevents it from learning the actual relationships.\n",
    "\n",
    "Scikit-learn's `RandomForestRegressor` has a useful attribute - `feature_importances_` - which gives each feature a score based on how important it is in the prediction process.\n",
    "\n",
    "We use it to extract the `n`-best features upon which we train our final model.\n",
    "\n",
    "We find the value of `n` by iteratively training the model on number of features in the multiple of 10s. Then, we take at the value which returned the best score on the validation set."
   ]
  },
  {
   "cell_type": "code",
   "execution_count": 112,
   "metadata": {
    "_uuid": "ed2a1d431d6dce06127ae4d0284d671789f65842"
   },
   "outputs": [],
   "source": [
    "feature_importances = pd.DataFrame({\n",
    "    'Features': X_train.columns,\n",
    "    'Importances': random_forest.feature_importances_\n",
    "})\n",
    "feature_importances = feature_importances.sort_values(by='Importances', ascending=False)"
   ]
  },
  {
   "cell_type": "code",
   "execution_count": 113,
   "metadata": {
    "_uuid": "5b2f78fc089464c21d335ce21d9a07b9c8b64ac2"
   },
   "outputs": [],
   "source": [
    "best = {}\n",
    "\n",
    "for feature_count in range(10, 210, 10):\n",
    "    best[feature_count] = {'feature_list': list(feature_importances['Features'][:feature_count])}"
   ]
  },
  {
   "cell_type": "code",
   "execution_count": 114,
   "metadata": {
    "_uuid": "ae2c6403116b5af0d3b268aa7798d69c01260893"
   },
   "outputs": [
    {
     "name": "stdout",
     "output_type": "stream",
     "text": [
      "No. of features: 10\n",
      "Train accuracy:  0.06768666666666667\n",
      "Cross-Validation accuracy:  0.16038666666666668\n",
      "No. of features: 20\n",
      "Train accuracy:  0.05650666666666667\n",
      "Cross-Validation accuracy:  0.14581\n",
      "No. of features: 30\n",
      "Train accuracy:  0.055290000000000006\n",
      "Cross-Validation accuracy:  0.14369666666666667\n",
      "No. of features: 40\n",
      "Train accuracy:  0.05623333333333334\n",
      "Cross-Validation accuracy:  0.14233333333333334\n",
      "No. of features: 50\n",
      "Train accuracy:  0.055130000000000005\n",
      "Cross-Validation accuracy:  0.13991333333333333\n",
      "No. of features: 60\n",
      "Train accuracy:  0.054779999999999995\n",
      "Cross-Validation accuracy:  0.13967666666666667\n",
      "No. of features: 70\n",
      "Train accuracy:  0.055096666666666676\n",
      "Cross-Validation accuracy:  0.13697333333333334\n",
      "No. of features: 80\n",
      "Train accuracy:  0.05550666666666667\n",
      "Cross-Validation accuracy:  0.13948666666666665\n",
      "No. of features: 90\n",
      "Train accuracy:  0.05540333333333333\n",
      "Cross-Validation accuracy:  0.13862666666666668\n",
      "No. of features: 100\n",
      "Train accuracy:  0.054669999999999996\n",
      "Cross-Validation accuracy:  0.13841666666666666\n",
      "No. of features: 110\n",
      "Train accuracy:  0.05539333333333333\n",
      "Cross-Validation accuracy:  0.13796\n",
      "No. of features: 120\n",
      "Train accuracy:  0.05501333333333334\n",
      "Cross-Validation accuracy:  0.13797\n",
      "No. of features: 130\n",
      "Train accuracy:  0.055683333333333335\n",
      "Cross-Validation accuracy:  0.13814\n",
      "No. of features: 140\n",
      "Train accuracy:  0.054773333333333334\n",
      "Cross-Validation accuracy:  0.13779333333333335\n",
      "No. of features: 150\n",
      "Train accuracy:  0.05511333333333334\n",
      "Cross-Validation accuracy:  0.13868333333333335\n",
      "No. of features: 160\n",
      "Train accuracy:  0.054380000000000005\n",
      "Cross-Validation accuracy:  0.13858666666666666\n",
      "No. of features: 170\n",
      "Train accuracy:  0.05531666666666666\n",
      "Cross-Validation accuracy:  0.13799666666666666\n",
      "No. of features: 180\n",
      "Train accuracy:  0.05475333333333334\n",
      "Cross-Validation accuracy:  0.13825666666666667\n",
      "No. of features: 190\n",
      "Train accuracy:  0.054553333333333336\n",
      "Cross-Validation accuracy:  0.13732666666666668\n",
      "No. of features: 200\n",
      "Train accuracy:  0.05533333333333334\n",
      "Cross-Validation accuracy:  0.13778333333333334\n"
     ]
    }
   ],
   "source": [
    "for feature_set_size, features in best.items():\n",
    "    train_accuracy_sum = 0\n",
    "    validation_accuracy_sum = 0\n",
    "    \n",
    "    nattempts = 3\n",
    "    for attempt in range(nattempts):\n",
    "        \n",
    "        X_train_best = X_train[features['feature_list']]\n",
    "        X_validate_best = X_validate[features['feature_list']]\n",
    "        X_test_best = X_test[features['feature_list']]\n",
    "\n",
    "        random_forest = RandomForestRegressor(n_estimators=100)\n",
    "        random_forest.fit(X_train_best, Y_train)\n",
    "\n",
    "        acc_random_forest_train = rmse_score(Y_train.values, random_forest.predict(X_train_best))\n",
    "        acc_random_forest_validate = rmse_score(Y_validate.values, random_forest.predict(X_validate_best))\n",
    "        \n",
    "        train_accuracy_sum += acc_random_forest_train\n",
    "        validation_accuracy_sum += acc_random_forest_validate\n",
    "\n",
    "    features['train_accuracy_avg'] = train_accuracy_sum/nattempts\n",
    "    features['validation_accuracy_avg'] = validation_accuracy_sum/nattempts\n",
    "    \n",
    "    print(\"No. of features:\", feature_set_size)\n",
    "    print(\"Train accuracy: \", features['train_accuracy_avg'])\n",
    "    print(\"Cross-Validation accuracy: \", features['validation_accuracy_avg'])"
   ]
  },
  {
   "cell_type": "code",
   "execution_count": 115,
   "metadata": {
    "_uuid": "fe2d084a3bcf17ff3229387c943faacb65dba6a2"
   },
   "outputs": [
    {
     "name": "stdout",
     "output_type": "stream",
     "text": [
      "70 :  0.13697\n",
      "190 :  0.13733\n",
      "200 :  0.13778\n",
      "140 :  0.13779\n",
      "110 :  0.13796\n",
      "120 :  0.13797\n",
      "170 :  0.138\n",
      "130 :  0.13814\n",
      "180 :  0.13826\n",
      "100 :  0.13842\n",
      "160 :  0.13859\n",
      "90 :  0.13863\n",
      "150 :  0.13868\n",
      "80 :  0.13949\n",
      "60 :  0.13968\n",
      "50 :  0.13991\n",
      "40 :  0.14233\n",
      "30 :  0.1437\n",
      "20 :  0.14581\n",
      "10 :  0.16039\n"
     ]
    }
   ],
   "source": [
    "feature_sizes_sorted = sorted(best.keys(), \n",
    "                              key=lambda feature_count: best[feature_count]['validation_accuracy_avg'])\n",
    "accuracies = [best[nfeatures]['validation_accuracy_avg'] for nfeatures in feature_sizes_sorted]\n",
    "\n",
    "for nfeatures, accuracies in zip(feature_sizes_sorted, accuracies):\n",
    "    print(nfeatures, \": \", round(accuracies, 5))"
   ]
  },
  {
   "cell_type": "markdown",
   "metadata": {
    "_uuid": "0a21c3ec14522f8699b865eea781297479ae9989"
   },
   "source": [
    "Okay, the best validation set RMSE is almost the same as the accuracy I got using just the default model.\n",
    "\n",
    "So, Random Forest may not be the best model for our data. Well, it was a promising avenue to look into even though it did not improve the results."
   ]
  },
  {
   "cell_type": "markdown",
   "metadata": {
    "_uuid": "f38f882f0596998d0ccc22b4903e478bad37b1c8"
   },
   "source": [
    "## Final submission model"
   ]
  },
  {
   "cell_type": "markdown",
   "metadata": {
    "_uuid": "d57c03b2c1bd57624892724126cee0ae93abb903"
   },
   "source": [
    "For the final model, I am going to stack together 2 regression models __Ridge Regression__ and __ElasticNet Regression__ with the __XGBoost__ model."
   ]
  },
  {
   "cell_type": "markdown",
   "metadata": {
    "_uuid": "0ba92ee585829c4a59901cfa3e6f2a7bbced564e"
   },
   "source": [
    "I will train the final models on the entire training set."
   ]
  },
  {
   "cell_type": "code",
   "execution_count": 116,
   "metadata": {
    "_uuid": "e22ee310d1c6e74754e4fc8c5e0c16bc229cada9"
   },
   "outputs": [],
   "source": [
    "final_train = all_data[:ntrain+nvalidate][:]\n",
    "final_test = all_data[ntrain+nvalidate:][:]\n",
    "\n",
    "final_train_X = final_train.drop('SalePrice', axis= 1)\n",
    "final_train_Y = final_train['SalePrice']\n",
    "final_train_Y_log = SalePriceLog\n",
    "final_test_X = final_test.drop('SalePrice', axis=1)"
   ]
  },
  {
   "cell_type": "code",
   "execution_count": 117,
   "metadata": {
    "_uuid": "e92af00bab42bd460d073b46d92b68ad1b0be81b"
   },
   "outputs": [
    {
     "data": {
      "image/png": "[encoded data removed]",
      "text/plain": [
       "<Figure size 1152x576 with 1 Axes>"
      ]
     },
     "metadata": {},
     "output_type": "display_data"
    }
   ],
   "source": [
    "# make sure there are no missing features\n",
    "missing_features(final_train_X, final_train_X.columns)"
   ]
  },
  {
   "cell_type": "code",
   "execution_count": 118,
   "metadata": {
    "_uuid": "c5102c8fc53ab27d2417c3ac875a0bf691218ff1"
   },
   "outputs": [
    {
     "name": "stdout",
     "output_type": "stream",
     "text": [
      "Fitting 3 folds for each of 100 candidates, totalling 300 fits\n"
     ]
    },
    {
     "name": "stderr",
     "output_type": "stream",
     "text": [
      "[Parallel(n_jobs=-1)]: Done 130 tasks      | elapsed:    8.0s\n",
      "[Parallel(n_jobs=-1)]: Done 300 out of 300 | elapsed:  1.8min finished\n"
     ]
    },
    {
     "data": {
      "text/plain": [
       "RandomizedSearchCV(cv=None, error_score='raise',\n",
       "          estimator=Ridge(alpha=1.0, copy_X=True, fit_intercept=True, max_iter=None,\n",
       "   normalize=False, random_state=None, solver='auto', tol=0.001),\n",
       "          fit_params=None, iid=True, n_iter=100, n_jobs=-1,\n",
       "          param_distributions={'alpha': [5, 6, 7, 8, 9, 10, 11, 12, 13, 15], 'fit_intercept': [True], 'normalize': [True, False], 'copy_X': [True], 'max_iter': [10, 30, 100, 300, 1000, 3000, 10000], 'tol': [0.0001], 'solver': ['auto', 'svd', 'cholesky', 'lsqr', 'sparse_cg', 'sag', 'saga'], 'random_state': [42]},\n",
       "          pre_dispatch='2*n_jobs', random_state=42, refit=True,\n",
       "          return_train_score='warn', scoring=None, verbose=1)"
      ]
     },
     "execution_count": 118,
     "metadata": {},
     "output_type": "execute_result"
    }
   ],
   "source": [
    "ridge_random_grid = {'alpha': [int(x) for x in np.linspace(start=0.5*ridge_alpha, stop=1.5*ridge_alpha, num=10)],\n",
    "                     'fit_intercept': [True],\n",
    "                     'normalize': [True, False],\n",
    "                     'copy_X': [True],\n",
    "                     'max_iter': [10, 30, 100, 300, 1000, 3000, 10000],\n",
    "                     'tol': [0.0001],\n",
    "                     'solver': ['auto', 'svd', 'cholesky', 'lsqr', 'sparse_cg', 'sag', 'saga'],\n",
    "                     'random_state': [42]}\n",
    "ridge = Ridge()\n",
    "ridge_random = RandomizedSearchCV(estimator = ridge, \n",
    "                                  param_distributions = ridge_random_grid, \n",
    "                                  n_iter = 100, \n",
    "                                  verbose=1, \n",
    "                                  random_state=42, \n",
    "                                  n_jobs = -1)\n",
    "\n",
    "ridge_random.fit(final_train_X, final_train_Y_log)"
   ]
  },
  {
   "cell_type": "code",
   "execution_count": 119,
   "metadata": {
    "_uuid": "e564762c9fd8cd694017033620b516a64fce0d0f"
   },
   "outputs": [
    {
     "name": "stdout",
     "output_type": "stream",
     "text": [
      "Fitting 3 folds for each of 100 candidates, totalling 300 fits\n"
     ]
    },
    {
     "name": "stderr",
     "output_type": "stream",
     "text": [
      "[Parallel(n_jobs=-1)]: Done  76 tasks      | elapsed:    4.4s\n",
      "[Parallel(n_jobs=-1)]: Done 247 tasks      | elapsed:   19.4s\n",
      "[Parallel(n_jobs=-1)]: Done 300 out of 300 | elapsed:   31.1s finished\n"
     ]
    },
    {
     "data": {
      "text/plain": [
       "RandomizedSearchCV(cv=None, error_score='raise',\n",
       "          estimator=ElasticNet(alpha=1.0, copy_X=True, fit_intercept=True, l1_ratio=0.5,\n",
       "      max_iter=1000, normalize=False, positive=False, precompute=False,\n",
       "      random_state=None, selection='cyclic', tol=0.0001, warm_start=False),\n",
       "          fit_params=None, iid=True, n_iter=100, n_jobs=-1,\n",
       "          param_distributions={'alpha': [0, 0, 0, 0, 0, 0, 0, 0, 0, 0], 'l1_ratio': [0.01, 0.03, 0.1, 0.3, 0.5, 0.7, 0.9, 1.0], 'fit_intercept': [True], 'normalize': [True, False], 'precompute': [True, False], 'copy_X': [True], 'max_iter': [10, 30, 100, 300, 1000, 3000, 10000], 'tol': [0.0001], 'warm_start': [True, False], 'positive': [True, False], 'selection': ['cyclic', 'random'], 'random_state': [42]},\n",
       "          pre_dispatch='2*n_jobs', random_state=42, refit=True,\n",
       "          return_train_score='warn', scoring=None, verbose=1)"
      ]
     },
     "execution_count": 119,
     "metadata": {},
     "output_type": "execute_result"
    }
   ],
   "source": [
    "elasticNet_random_grid = {'alpha': [int(x) for x in np.linspace(start=0.5*elasticNet_alpha, \n",
    "                                                                stop=1.5*elasticNet_alpha, \n",
    "                                                                num=10)],\n",
    "                          'l1_ratio': [0.01, 0.03, 0.1, 0.3, 0.5, 0.7, 0.9, 1.0],\n",
    "                          'fit_intercept': [True],\n",
    "                          'normalize': [True, False],\n",
    "                          'precompute': [True, False],\n",
    "                          'copy_X': [True],\n",
    "                          'max_iter': [10, 30, 100, 300, 1000, 3000, 10000],\n",
    "                          'tol': [0.0001],\n",
    "                          'warm_start': [True, False],\n",
    "                          'positive': [True, False],\n",
    "                          'selection': ['cyclic', 'random'],\n",
    "                          'random_state': [42]}\n",
    "\n",
    "elastic_net = ElasticNet()\n",
    "elastic_net_random = RandomizedSearchCV(estimator = elastic_net, \n",
    "                                  param_distributions = elasticNet_random_grid, \n",
    "                                  n_iter = 100, \n",
    "                                  verbose=1, \n",
    "                                  random_state=42, \n",
    "                                  n_jobs = -1)\n",
    "\n",
    "elastic_net_random.fit(final_train_X, final_train_Y_log)"
   ]
  },
  {
   "cell_type": "code",
   "execution_count": 120,
   "metadata": {
    "_uuid": "8ef7864da74073d14063bc2bc852ebbc8e1097a8"
   },
   "outputs": [
    {
     "data": {
      "text/plain": [
       "XGBRegressor(base_score=0.5, booster='gbtree', colsample_bylevel=1,\n",
       "       colsample_bytree=1, gamma=0, learning_rate=0.1, max_delta_step=0,\n",
       "       max_depth=3, min_child_weight=1, missing=None, n_estimators=100,\n",
       "       n_jobs=1, nthread=None, objective='reg:linear', random_state=0,\n",
       "       reg_alpha=0, reg_lambda=1, scale_pos_weight=1, seed=None,\n",
       "       silent=True, subsample=1)"
      ]
     },
     "execution_count": 120,
     "metadata": {},
     "output_type": "execute_result"
    }
   ],
   "source": [
    "xgboost = XGBRegressor()\n",
    "xgboost.fit(final_train_X, final_train_Y_log)"
   ]
  },
  {
   "cell_type": "code",
   "execution_count": 121,
   "metadata": {
    "_uuid": "26c225cb7987b0b3ec4b8bf742b4857951f96a8f"
   },
   "outputs": [
    {
     "data": {
      "text/plain": [
       "0.11211"
      ]
     },
     "execution_count": 121,
     "metadata": {},
     "output_type": "execute_result"
    }
   ],
   "source": [
    "rmse_score(final_train_Y.values, np.exp(ridge_random.best_estimator_.predict(final_train_X)))"
   ]
  },
  {
   "cell_type": "code",
   "execution_count": 122,
   "metadata": {
    "_uuid": "e93de22c0e77bff39749daa079e1f9fa9d998b56"
   },
   "outputs": [
    {
     "data": {
      "text/plain": [
       "0.11908"
      ]
     },
     "execution_count": 122,
     "metadata": {},
     "output_type": "execute_result"
    }
   ],
   "source": [
    "rmse_score(final_train_Y.values, np.exp(elastic_net_random.best_estimator_.predict(final_train_X)))"
   ]
  },
  {
   "cell_type": "code",
   "execution_count": 123,
   "metadata": {
    "_uuid": "3457cb9118e862b65fff3933dc23ec808c0f0009"
   },
   "outputs": [
    {
     "data": {
      "text/plain": [
       "0.08799"
      ]
     },
     "execution_count": 123,
     "metadata": {},
     "output_type": "execute_result"
    }
   ],
   "source": [
    "rmse_score(final_train_Y.values, np.exp(xgboost.predict(final_train_X)))"
   ]
  },
  {
   "cell_type": "markdown",
   "metadata": {
    "_uuid": "fdf7c8db80e17622373d124abb5392759dcfbc51"
   },
   "source": [
    "The final predicted values - "
   ]
  },
  {
   "cell_type": "code",
   "execution_count": 124,
   "metadata": {
    "_uuid": "652b882470cfeb7eaf5c7b3a172e9b7b0b0c31b5"
   },
   "outputs": [],
   "source": [
    "final_Y_pred = np.exp((ridge_random.best_estimator_.predict(final_test_X) +\n",
    "                   elastic_net_random.best_estimator_.predict(final_test_X) +\n",
    "                   xgboost.predict(final_test_X)) / 3)"
   ]
  },
  {
   "cell_type": "code",
   "execution_count": 126,
   "metadata": {
    "_uuid": "488637e40100d95d3a885e68a48155d0b7a868d2"
   },
   "outputs": [],
   "source": [
    "submission = pd.DataFrame({'Id': test_id,\n",
    "                           'SalePrice': final_Y_pred})\n",
    "submission.to_csv('submission.csv', index=False)"
   ]
  }
 ],
 "metadata": {
  "kernelspec": {
   "display_name": "Python 3",
   "language": "python",
   "name": "python3"
  },
  "language_info": {
   "codemirror_mode": {
    "name": "ipython",
    "version": 3
   },
   "file_extension": ".py",
   "mimetype": "text/x-python",
   "name": "python",
   "nbconvert_exporter": "python",
   "pygments_lexer": "ipython3",
   "version": "3.6.6"
  }
 },
 "nbformat": 4,
 "nbformat_minor": 1
}
